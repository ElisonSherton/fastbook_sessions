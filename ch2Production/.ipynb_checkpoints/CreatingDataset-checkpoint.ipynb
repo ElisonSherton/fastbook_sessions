{
 "cells": [
  {
   "cell_type": "markdown",
   "metadata": {},
   "source": [
    "# Creating your own datasets"
   ]
  },
  {
   "cell_type": "code",
   "execution_count": 1,
   "metadata": {},
   "outputs": [],
   "source": [
    "from fastai import *\n",
    "from fastai.vision.all import *"
   ]
  },
  {
   "cell_type": "markdown",
   "metadata": {},
   "source": [
    "As a fun project I want to build a classifier which can tell one cartoon apart from another. For this first I need to create a dataset of the images corresponding to different cartoons for which I am going to use the `search_images_ddg` function defined in [fastai docs here](https://course.fast.ai/images#DuckDuckGo)."
   ]
  },
  {
   "cell_type": "code",
   "execution_count": 2,
   "metadata": {},
   "outputs": [],
   "source": [
    "def search_images_ddg(term, max_images):\n",
    "    \"Search for `term` with DuckDuckGo and return a unique urls of about `max_images` images\"\n",
    "    \n",
    "    assert max_images<1000\n",
    "    \n",
    "    url = 'https://duckduckgo.com/'\n",
    "    res = urlread(url,data={'q':term})\n",
    "    searchObj = re.search(r'vqd=([\\d-]+)\\&', res)\n",
    "    assert searchObj\n",
    "    \n",
    "    requestUrl = url + 'i.js'\n",
    "    params = dict(l='us-en', o='json', q=term, vqd=searchObj.group(1), f=',,,', p='1', v7exp='a')\n",
    "    urls,data = set(),{'next':1}\n",
    "    \n",
    "    while len(urls)<max_images and 'next' in data:\n",
    "        try:\n",
    "            data = urljson(requestUrl,data=params)\n",
    "            urls.update(L(data['results']).itemgot('image'))\n",
    "            requestUrl = url + data['next']\n",
    "        except (URLError,HTTPError): pass\n",
    "        time.sleep(0.2)\n",
    "    \n",
    "    return L(urls)"
   ]
  },
  {
   "cell_type": "code",
   "execution_count": 3,
   "metadata": {},
   "outputs": [],
   "source": [
    "# Define a list of my favorite cartoons\n",
    "cartoons = L([\"bugs bunny\", \"donald duck\", \"mickey mouse\", \"shinchan\"])"
   ]
  },
  {
   "cell_type": "code",
   "execution_count": 4,
   "metadata": {},
   "outputs": [
    {
     "data": {
      "text/html": [
       "\n",
       "    <div>\n",
       "        <style>\n",
       "            /* Turns off some styling */\n",
       "            progress {\n",
       "                /* gets rid of default border in Firefox and Opera. */\n",
       "                border: none;\n",
       "                /* Needs to be in here for Safari polyfill so background images work as expected. */\n",
       "                background-size: auto;\n",
       "            }\n",
       "            .progress-bar-interrupted, .progress-bar-interrupted::-webkit-progress-bar {\n",
       "                background: #F44336;\n",
       "            }\n",
       "        </style>\n",
       "      <progress value='4' class='' max='4' style='width:300px; height:20px; vertical-align: middle;'></progress>\n",
       "      100.00% [4/4 00:10<00:00 Extracting image links]\n",
       "    </div>\n",
       "    "
      ],
      "text/plain": [
       "<IPython.core.display.HTML object>"
      ]
     },
     "metadata": {},
     "output_type": "display_data"
    }
   ],
   "source": [
    "# Define a dictionary which maps all the cartoons to their respective links as returned \n",
    "# from the function above and collect data from the same\n",
    "cartoonsLinks = {}\n",
    "for cartoon in progress_bar(cartoons, comment = \"Extracting image links\"):\n",
    "    cartoonsLinks[cartoon] = search_images_ddg(cartoon, max_images = 200)"
   ]
  },
  {
   "cell_type": "code",
   "execution_count": 5,
   "metadata": {
    "scrolled": false
   },
   "outputs": [
    {
     "data": {
      "text/html": [
       "\n",
       "    <div>\n",
       "        <style>\n",
       "            /* Turns off some styling */\n",
       "            progress {\n",
       "                /* gets rid of default border in Firefox and Opera. */\n",
       "                border: none;\n",
       "                /* Needs to be in here for Safari polyfill so background images work as expected. */\n",
       "                background-size: auto;\n",
       "            }\n",
       "            .progress-bar-interrupted, .progress-bar-interrupted::-webkit-progress-bar {\n",
       "                background: #F44336;\n",
       "            }\n",
       "        </style>\n",
       "      <progress value='4' class='' max='4' style='width:300px; height:20px; vertical-align: middle;'></progress>\n",
       "      100.00% [4/4 02:06<00:00 Downloading images...]\n",
       "    </div>\n",
       "    "
      ],
      "text/plain": [
       "<IPython.core.display.HTML object>"
      ]
     },
     "metadata": {},
     "output_type": "display_data"
    }
   ],
   "source": [
    "# Now that we have the links for every item, let's download the images\n",
    "path = Path(\"/home/vinayak/cartoons\")\n",
    "\n",
    "# Do this only if the cartoons folder doesn't exist\n",
    "if not path.exists():\n",
    "    path.mkdir()\n",
    "    \n",
    "    # Loop over each cartoon links\n",
    "    for cartoon in progress_bar(cartoonsLinks.keys(), comment = \"Downloading images...\"):\n",
    "        # Create a folder to hold the cartoons images (if a folder already exists, don't raise an error) \n",
    "        dest = (path/cartoon)\n",
    "        dest.mkdir(exist_ok=True)\n",
    "        \n",
    "        # Retrieve the cartoons links and download the images to the specified path\n",
    "        results = cartoonsLinks[cartoon]\n",
    "        download_images(dest, urls=results, timeout=2)"
   ]
  },
  {
   "cell_type": "code",
   "execution_count": 10,
   "metadata": {},
   "outputs": [
    {
     "name": "stdout",
     "output_type": "stream",
     "text": [
      "bugs bunny          : n_image links = 265;     downloaded images = 231\n",
      "donald duck         : n_image links = 255;     downloaded images = 217\n",
      "mickey mouse        : n_image links = 285;     downloaded images = 243\n",
      "shinchan            : n_image links = 254;     downloaded images = 240\n"
     ]
    }
   ],
   "source": [
    "# Let's see how many total image links are there v/s how many images got downloaded\n",
    "for cartoon in cartoonsLinks.keys():\n",
    "    downloaded_images = get_image_files(path/cartoon)\n",
    "    print(f\"{cartoon:<20}: n_image links = {len(cartoonsLinks[cartoon])}; \\\n",
    "    downloaded images = {len(downloaded_images)}\")"
   ]
  },
  {
   "cell_type": "code",
   "execution_count": 7,
   "metadata": {},
   "outputs": [
    {
     "data": {
      "text/plain": [
       "(#961) [Path('/home/vinayak/cartoons/donald duck/00000112.jpg'),Path('/home/vinayak/cartoons/donald duck/00000216.jpg'),Path('/home/vinayak/cartoons/donald duck/00000154.jpg'),Path('/home/vinayak/cartoons/donald duck/00000045.jpg'),Path('/home/vinayak/cartoons/donald duck/00000029.png'),Path('/home/vinayak/cartoons/donald duck/00000069.jpeg'),Path('/home/vinayak/cartoons/donald duck/00000187.jpg'),Path('/home/vinayak/cartoons/donald duck/00000090.png'),Path('/home/vinayak/cartoons/donald duck/00000132.png'),Path('/home/vinayak/cartoons/donald duck/00000123.png')...]"
      ]
     },
     "execution_count": 7,
     "metadata": {},
     "output_type": "execute_result"
    }
   ],
   "source": [
    "# See how many images got downloaded in all\n",
    "filenames = get_image_files(path)\n",
    "filenames"
   ]
  },
  {
   "cell_type": "code",
   "execution_count": 8,
   "metadata": {},
   "outputs": [
    {
     "name": "stderr",
     "output_type": "stream",
     "text": [
      "/home/vinayak/anaconda3/envs/fastai2/lib/python3.8/site-packages/PIL/Image.py:2942: UserWarning: image file could not be identified because WEBP support not installed\n",
      "  warnings.warn(message)\n",
      "/home/vinayak/anaconda3/envs/fastai2/lib/python3.8/site-packages/PIL/Image.py:2942: UserWarning: image file could not be identified because WEBP support not installed\n",
      "  warnings.warn(message)\n"
     ]
    },
    {
     "data": {
      "text/plain": [
       "(#30) [Path('/home/vinayak/cartoons/donald duck/00000029.png'),Path('/home/vinayak/cartoons/donald duck/00000132.png'),Path('/home/vinayak/cartoons/donald duck/00000105.png'),Path('/home/vinayak/cartoons/donald duck/00000137.jpg'),Path('/home/vinayak/cartoons/donald duck/00000244.png'),Path('/home/vinayak/cartoons/donald duck/00000236.png'),Path('/home/vinayak/cartoons/donald duck/00000225.png'),Path('/home/vinayak/cartoons/donald duck/00000151.png'),Path('/home/vinayak/cartoons/donald duck/00000115.png'),Path('/home/vinayak/cartoons/donald duck/00000198.png')...]"
      ]
     },
     "execution_count": 8,
     "metadata": {},
     "output_type": "execute_result"
    }
   ],
   "source": [
    "# Check the images out of the downloaded images which were corrupt/ couldn't be downloaded etc.\n",
    "failed = verify_images(filenames)\n",
    "failed"
   ]
  },
  {
   "cell_type": "code",
   "execution_count": 9,
   "metadata": {},
   "outputs": [],
   "source": [
    "# Delete the images which were corrupt/weren't downloaded properly\n",
    "failed.map(Path.unlink);"
   ]
  },
  {
   "cell_type": "markdown",
   "metadata": {},
   "source": [
    "This is how we can use fastai helper functions along with basic python datastructures to create our very own dataset for training."
   ]
  }
 ],
 "metadata": {
  "kernelspec": {
   "display_name": "Python 3",
   "language": "python",
   "name": "python3"
  },
  "language_info": {
   "codemirror_mode": {
    "name": "ipython",
    "version": 3
   },
   "file_extension": ".py",
   "mimetype": "text/x-python",
   "name": "python",
   "nbconvert_exporter": "python",
   "pygments_lexer": "ipython3",
   "version": "3.8.8"
  },
  "latex_envs": {
   "LaTeX_envs_menu_present": true,
   "autoclose": false,
   "autocomplete": true,
   "bibliofile": "biblio.bib",
   "cite_by": "apalike",
   "current_citInitial": 1,
   "eqLabelWithNumbers": true,
   "eqNumInitial": 1,
   "hotkeys": {
    "equation": "Ctrl-E",
    "itemize": "Ctrl-I"
   },
   "labels_anchors": false,
   "latex_user_defs": false,
   "report_style_numbering": false,
   "user_envs_cfg": false
  }
 },
 "nbformat": 4,
 "nbformat_minor": 4
}
