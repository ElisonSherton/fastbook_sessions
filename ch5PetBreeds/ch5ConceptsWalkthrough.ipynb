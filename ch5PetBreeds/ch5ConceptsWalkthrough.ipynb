{
 "cells": [
  {
   "cell_type": "markdown",
   "metadata": {},
   "source": [
    "# Sigmoid/ Softmax/ Log Likelihood/ NLL "
   ]
  },
  {
   "cell_type": "code",
   "execution_count": 1,
   "metadata": {},
   "outputs": [],
   "source": [
    "from fastai import *\n",
    "from fastai.vision.all import *"
   ]
  },
  {
   "cell_type": "code",
   "execution_count": 2,
   "metadata": {},
   "outputs": [],
   "source": [
    "# Pick a random number of datapoints and a random number of classes\n",
    "n_batch = 6\n",
    "n_classes = 3"
   ]
  },
  {
   "cell_type": "code",
   "execution_count": 3,
   "metadata": {},
   "outputs": [
    {
     "data": {
      "text/plain": [
       "tensor([[ 0.7466,  0.1904,  1.4519],\n",
       "        [ 0.4008,  0.8790,  0.0191],\n",
       "        [-0.8814, -0.4570,  0.5637],\n",
       "        [-0.5069, -1.3495,  0.5207],\n",
       "        [ 0.4577,  0.7079, -0.8909],\n",
       "        [-0.7595, -0.0372,  0.5291]])"
      ]
     },
     "execution_count": 3,
     "metadata": {},
     "output_type": "execute_result"
    }
   ],
   "source": [
    "# Simulate a classification problem\n",
    "activations = torch.randn((n_batch, n_classes))\n",
    "activations"
   ]
  },
  {
   "cell_type": "code",
   "execution_count": 4,
   "metadata": {},
   "outputs": [
    {
     "data": {
      "text/plain": [
       "tensor([[0., 1., 0.],\n",
       "        [0., 0., 1.],\n",
       "        [0., 0., 1.],\n",
       "        [0., 1., 0.],\n",
       "        [1., 0., 0.],\n",
       "        [1., 0., 0.]])"
      ]
     },
     "execution_count": 4,
     "metadata": {},
     "output_type": "execute_result"
    }
   ],
   "source": [
    "# Define seed for reproductibility\n",
    "np.random.seed(42)\n",
    "\n",
    "# Define the corresponding targets\n",
    "targets = torch.zeros_like(activations)\n",
    "\n",
    "# Define two lists for indexing xs and ys\n",
    "# In ys, simulate only one class from n_classes for the respective datapoints\n",
    "row_indices = range(n_batch)\n",
    "col_indices = np.array(np.random.rand(1, n_batch)  // (1. / n_classes), dtype = np.int)\n",
    "\n",
    "# Use the lists to index into targets and define them accordingly\n",
    "targets[row_indices, col_indices] = 1\n",
    "targets"
   ]
  },
  {
   "cell_type": "markdown",
   "metadata": {},
   "source": [
    "## Sigmoid\n",
    "\n",
    "The sigmoid function is defined as follows\n",
    "\n",
    "$$ sigmoid(x) = \\frac{1}{1 + e^{-x}} $$\n",
    "\n",
    "It only considers one output at a time because of which the output probabilities don't sum to one."
   ]
  },
  {
   "cell_type": "code",
   "execution_count": 5,
   "metadata": {},
   "outputs": [
    {
     "data": {
      "text/plain": [
       "tensor([[0.6784, 0.5474, 0.8103],\n",
       "        [0.5989, 0.7066, 0.5048],\n",
       "        [0.2929, 0.3877, 0.6373],\n",
       "        [0.3759, 0.2060, 0.6273],\n",
       "        [0.6125, 0.6699, 0.2909],\n",
       "        [0.3188, 0.4907, 0.6293]])"
      ]
     },
     "execution_count": 5,
     "metadata": {},
     "output_type": "execute_result"
    }
   ],
   "source": [
    "# View the sigmoid activations\n",
    "activations.sigmoid()"
   ]
  },
  {
   "cell_type": "code",
   "execution_count": 6,
   "metadata": {},
   "outputs": [
    {
     "data": {
      "text/plain": [
       "tensor([[0.6784, 0.5474, 0.8103],\n",
       "        [0.5989, 0.7066, 0.5048],\n",
       "        [0.2929, 0.3877, 0.6373],\n",
       "        [0.3759, 0.2060, 0.6273],\n",
       "        [0.6125, 0.6699, 0.2909],\n",
       "        [0.3188, 0.4907, 0.6293]])"
      ]
     },
     "execution_count": 6,
     "metadata": {},
     "output_type": "execute_result"
    }
   ],
   "source": [
    "# Verify using the formula\n",
    "1 / (1 + torch.exp(-activations))"
   ]
  },
  {
   "cell_type": "code",
   "execution_count": 7,
   "metadata": {},
   "outputs": [],
   "source": [
    "assert torch.allclose(1 / (1 + torch.exp(-activations)), activations.sigmoid())"
   ]
  },
  {
   "cell_type": "markdown",
   "metadata": {},
   "source": [
    "## Softmax\n",
    "\n",
    "Softmax function is defined for a range of activations. If there are several activations $x_1, x_2, x_3, ..., x_n$ then softmax of an activation is defined as \n",
    "\n",
    "$$softmax(x) = \\frac{e^x}{\\Sigma_{i=1}^{n}(e^x)}$$\n",
    "\n",
    "This squishes the activations to be in the range from 0 - 1"
   ]
  },
  {
   "cell_type": "code",
   "execution_count": 8,
   "metadata": {},
   "outputs": [
    {
     "data": {
      "text/plain": [
       "tensor([[0.2780, 0.1594, 0.5627],\n",
       "        [0.3034, 0.4894, 0.2071],\n",
       "        [0.1477, 0.2258, 0.6265],\n",
       "        [0.2367, 0.1019, 0.6614],\n",
       "        [0.3931, 0.5049, 0.1020],\n",
       "        [0.1496, 0.3079, 0.5425]])"
      ]
     },
     "execution_count": 8,
     "metadata": {},
     "output_type": "execute_result"
    }
   ],
   "source": [
    "sm = activations.softmax(dim = 1)\n",
    "sm"
   ]
  },
  {
   "cell_type": "code",
   "execution_count": 9,
   "metadata": {},
   "outputs": [
    {
     "data": {
      "text/plain": [
       "tensor([[7.5908, 7.5908, 7.5908],\n",
       "        [4.9206, 4.9206, 4.9206],\n",
       "        [2.8046, 2.8046, 2.8046],\n",
       "        [2.5450, 2.5450, 2.5450],\n",
       "        [4.0206, 4.0206, 4.0206],\n",
       "        [3.1287, 3.1287, 3.1287]])"
      ]
     },
     "execution_count": 9,
     "metadata": {},
     "output_type": "execute_result"
    }
   ],
   "source": [
    "# Define the denominators by summing across the columns for each row\n",
    "drs = torch.ones_like(activations)\n",
    "drs = drs * torch.exp(activations).sum(dim = 1).unsqueeze(1)\n",
    "drs"
   ]
  },
  {
   "cell_type": "code",
   "execution_count": 10,
   "metadata": {},
   "outputs": [
    {
     "data": {
      "text/plain": [
       "tensor([[0.2780, 0.1594, 0.5627],\n",
       "        [0.3034, 0.4894, 0.2071],\n",
       "        [0.1477, 0.2258, 0.6265],\n",
       "        [0.2367, 0.1019, 0.6614],\n",
       "        [0.3931, 0.5049, 0.1020],\n",
       "        [0.1496, 0.3079, 0.5425]])"
      ]
     },
     "execution_count": 10,
     "metadata": {},
     "output_type": "execute_result"
    }
   ],
   "source": [
    "# Verify using the formula\n",
    "torch.exp(activations) / drs"
   ]
  },
  {
   "cell_type": "code",
   "execution_count": 11,
   "metadata": {},
   "outputs": [],
   "source": [
    "# See if our manual way and torch's internal way match\n",
    "assert torch.allclose(torch.exp(activations) / drs, activations.softmax(dim = 1))"
   ]
  },
  {
   "cell_type": "markdown",
   "metadata": {},
   "source": [
    "## Cross Entropy Loss\n",
    "\n",
    "Very popularly used for classification problems, cross entropy loss is defined as follows\n",
    "\n",
    "$$ Cross \\ Entropy \\ Loss = -\\Sigma_{i = 1}^{n}{t_i}log(p_i)$$\n",
    "\n",
    "where \n",
    "- n is the total number of classes\n",
    "- t is the truth value of the ith class\n",
    "- p is the probability of the ith class\n",
    "\n",
    "In a single label classification problem, only one class has $t_i = 0$ and the rest of activations are all zeros. This reduces the loss further down to have only one term which is the log of the probability score of the target for that datapoint."
   ]
  },
  {
   "cell_type": "markdown",
   "metadata": {},
   "source": [
    "### Manually perform cross entropy steps\n",
    "\n",
    "- Index into softmax activations and pick probabilities corresponding to target values\n",
    "- Take a log of these indexed softmax activations\n",
    "- Sum the series and negate it"
   ]
  },
  {
   "cell_type": "code",
   "execution_count": 12,
   "metadata": {},
   "outputs": [
    {
     "data": {
      "text/plain": [
       "tensor([[0.1594, 0.2071, 0.6265, 0.1019, 0.3931, 0.1496]])"
      ]
     },
     "execution_count": 12,
     "metadata": {},
     "output_type": "execute_result"
    }
   ],
   "source": [
    "# Get the terms corresponding to the target indices\n",
    "probas = sm[range(n_batch), col_indices]\n",
    "probas"
   ]
  },
  {
   "cell_type": "code",
   "execution_count": 13,
   "metadata": {},
   "outputs": [
    {
     "data": {
      "text/plain": [
       "tensor([[-1.8366, -1.5743, -0.4675, -2.2836, -0.9337, -1.9001]])"
      ]
     },
     "execution_count": 13,
     "metadata": {},
     "output_type": "execute_result"
    }
   ],
   "source": [
    "# Take a log of these values\n",
    "log_probas = torch.log(probas)\n",
    "log_probas"
   ]
  },
  {
   "cell_type": "code",
   "execution_count": 14,
   "metadata": {},
   "outputs": [
    {
     "data": {
      "text/plain": [
       "tensor([[1.8366, 1.5743, 0.4675, 2.2836, 0.9337, 1.9001]])"
      ]
     },
     "execution_count": 14,
     "metadata": {},
     "output_type": "execute_result"
    }
   ],
   "source": [
    "# Find the negative log likelihood\n",
    "neg_log_probas = -1 * log_probas\n",
    "neg_log_probas"
   ]
  },
  {
   "cell_type": "code",
   "execution_count": 15,
   "metadata": {},
   "outputs": [
    {
     "data": {
      "text/plain": [
       "tensor(8.9958)"
      ]
     },
     "execution_count": 15,
     "metadata": {},
     "output_type": "execute_result"
    }
   ],
   "source": [
    "# Sum the losses and negate it\n",
    "loss_value = neg_log_probas.sum() \n",
    "loss_value"
   ]
  },
  {
   "cell_type": "markdown",
   "metadata": {},
   "source": [
    "### Use internal cross entropy loss "
   ]
  },
  {
   "cell_type": "code",
   "execution_count": 16,
   "metadata": {},
   "outputs": [
    {
     "data": {
      "text/plain": [
       "tensor([1.8366, 1.5743, 0.4675, 2.2836, 0.9337, 1.9001])"
      ]
     },
     "execution_count": 16,
     "metadata": {},
     "output_type": "execute_result"
    }
   ],
   "source": [
    "# See losses for each individual datapoint\n",
    "torch.nn.CrossEntropyLoss(reduction = 'none')(activations, tensor(col_indices[0]))"
   ]
  },
  {
   "cell_type": "code",
   "execution_count": 17,
   "metadata": {},
   "outputs": [
    {
     "data": {
      "text/plain": [
       "tensor(8.9958)"
      ]
     },
     "execution_count": 17,
     "metadata": {},
     "output_type": "execute_result"
    }
   ],
   "source": [
    "# See the overall loss by summing across all the elements\n",
    "torch.nn.CrossEntropyLoss(reduction = 'sum')(activations, tensor(col_indices[0]))"
   ]
  },
  {
   "cell_type": "markdown",
   "metadata": {},
   "source": [
    "### Use internal log_softmax and nll_loss functions"
   ]
  },
  {
   "cell_type": "code",
   "execution_count": 18,
   "metadata": {},
   "outputs": [
    {
     "data": {
      "text/plain": [
       "tensor([1.8366, 1.5743, 0.4675, 2.2836, 0.9337, 1.9001])"
      ]
     },
     "execution_count": 18,
     "metadata": {},
     "output_type": "execute_result"
    }
   ],
   "source": [
    "# Individual datapoint loss\n",
    "l_sm = F.log_softmax(activations, dim = 1)\n",
    "F.nll_loss(l_sm, tensor(col_indices[0]), reduction = 'none')"
   ]
  },
  {
   "cell_type": "code",
   "execution_count": 19,
   "metadata": {},
   "outputs": [
    {
     "data": {
      "text/plain": [
       "tensor(8.9958)"
      ]
     },
     "execution_count": 19,
     "metadata": {},
     "output_type": "execute_result"
    }
   ],
   "source": [
    "# Cumulative loss\n",
    "l_sm = F.log_softmax(activations, dim = 1)\n",
    "F.nll_loss(l_sm, tensor(col_indices[0]), reduction = 'sum')"
   ]
  },
  {
   "cell_type": "markdown",
   "metadata": {},
   "source": [
    "# fastai convenience functions\n",
    "\n",
    "There are a lot of convenience functions defined in the `fastcore.basics` module which can come in very handy for several operations especially when processing the data.\n",
    "\n",
    "We shall have a look at the following ones which I envision to be really handy\n",
    "\n",
    "- L: It is a class which is very much like a list but slightly better.\n",
    "- listify/tuplify: It is a function which converts any collection/iterable into a list/tuple\n",
    "- uniqueify: It is a function that grabs all the unique items from a collection\n",
    "- last_index: Find the last occurence of an element in a collection\n",
    "- filter_dict: Filters the kv pairs of a dictionary based on a function taking k,v as arguments\n",
    "- filter_keys: Filters the kv pairs of a dictionary based on a function that takes k as arguments\n",
    "- filter_values: Filters the kv pairs of a dictionary based on a function that takes v as arguments"
   ]
  },
  {
   "cell_type": "markdown",
   "metadata": {},
   "source": [
    "`fastai` has introduced a really nice wrapper around python's list class called `L`. It is functionally the same as a list but it's more convenient to work with. Let me show you with an example."
   ]
  },
  {
   "cell_type": "code",
   "execution_count": 20,
   "metadata": {},
   "outputs": [],
   "source": [
    "path = untar_data(URLs.PETS)"
   ]
  },
  {
   "cell_type": "code",
   "execution_count": 58,
   "metadata": {},
   "outputs": [
    {
     "data": {
      "text/plain": [
       "(#7393) [Path('/home/vinayak/.fastai/data/oxford-iiit-pet/images/samoyed_48.jpg'),Path('/home/vinayak/.fastai/data/oxford-iiit-pet/images/chihuahua_119.jpg'),Path('/home/vinayak/.fastai/data/oxford-iiit-pet/images/american_pit_bull_terrier_82.jpg'),Path('/home/vinayak/.fastai/data/oxford-iiit-pet/images/Bengal_182.jpg'),Path('/home/vinayak/.fastai/data/oxford-iiit-pet/images/keeshond_190.jpg'),Path('/home/vinayak/.fastai/data/oxford-iiit-pet/images/english_setter_96.jpg'),Path('/home/vinayak/.fastai/data/oxford-iiit-pet/images/Abyssinian_101.mat'),Path('/home/vinayak/.fastai/data/oxford-iiit-pet/images/Bengal_75.jpg'),Path('/home/vinayak/.fastai/data/oxford-iiit-pet/images/saint_bernard_195.jpg'),Path('/home/vinayak/.fastai/data/oxford-iiit-pet/images/Siamese_80.jpg')...]"
      ]
     },
     "execution_count": 58,
     "metadata": {},
     "output_type": "execute_result"
    }
   ],
   "source": [
    "(path/\"images\").ls()"
   ]
  },
  {
   "cell_type": "code",
   "execution_count": 60,
   "metadata": {},
   "outputs": [],
   "source": [
    "??L"
   ]
  },
  {
   "cell_type": "code",
   "execution_count": 59,
   "metadata": {},
   "outputs": [
    {
     "data": {
      "text/plain": [
       "[Path('/home/vinayak/.fastai/data/oxford-iiit-pet/images/samoyed_48.jpg'),\n",
       " Path('/home/vinayak/.fastai/data/oxford-iiit-pet/images/chihuahua_119.jpg'),\n",
       " Path('/home/vinayak/.fastai/data/oxford-iiit-pet/images/american_pit_bull_terrier_82.jpg'),\n",
       " Path('/home/vinayak/.fastai/data/oxford-iiit-pet/images/Bengal_182.jpg'),\n",
       " Path('/home/vinayak/.fastai/data/oxford-iiit-pet/images/keeshond_190.jpg'),\n",
       " Path('/home/vinayak/.fastai/data/oxford-iiit-pet/images/english_setter_96.jpg'),\n",
       " Path('/home/vinayak/.fastai/data/oxford-iiit-pet/images/Abyssinian_101.mat'),\n",
       " Path('/home/vinayak/.fastai/data/oxford-iiit-pet/images/Bengal_75.jpg'),\n",
       " Path('/home/vinayak/.fastai/data/oxford-iiit-pet/images/saint_bernard_195.jpg'),\n",
       " Path('/home/vinayak/.fastai/data/oxford-iiit-pet/images/Siamese_80.jpg'),\n",
       " Path('/home/vinayak/.fastai/data/oxford-iiit-pet/images/boxer_36.jpg'),\n",
       " Path('/home/vinayak/.fastai/data/oxford-iiit-pet/images/Bombay_164.jpg'),\n",
       " Path('/home/vinayak/.fastai/data/oxford-iiit-pet/images/great_pyrenees_175.jpg'),\n",
       " Path('/home/vinayak/.fastai/data/oxford-iiit-pet/images/chihuahua_105.jpg'),\n",
       " Path('/home/vinayak/.fastai/data/oxford-iiit-pet/images/Ragdoll_118.jpg'),\n",
       " Path('/home/vinayak/.fastai/data/oxford-iiit-pet/images/basset_hound_23.jpg'),\n",
       " Path('/home/vinayak/.fastai/data/oxford-iiit-pet/images/leonberger_141.jpg'),\n",
       " Path('/home/vinayak/.fastai/data/oxford-iiit-pet/images/Siamese_126.jpg'),\n",
       " Path('/home/vinayak/.fastai/data/oxford-iiit-pet/images/basset_hound_151.jpg'),\n",
       " Path('/home/vinayak/.fastai/data/oxford-iiit-pet/images/beagle_194.jpg'),\n",
       " Path('/home/vinayak/.fastai/data/oxford-iiit-pet/images/Bengal_1.jpg'),\n",
       " Path('/home/vinayak/.fastai/data/oxford-iiit-pet/images/Birman_17.jpg'),\n",
       " Path('/home/vinayak/.fastai/data/oxford-iiit-pet/images/scottish_terrier_1.jpg'),\n",
       " Path('/home/vinayak/.fastai/data/oxford-iiit-pet/images/english_setter_135.jpg'),\n",
       " Path('/home/vinayak/.fastai/data/oxford-iiit-pet/images/english_cocker_spaniel_89.jpg'),\n",
       " Path('/home/vinayak/.fastai/data/oxford-iiit-pet/images/Russian_Blue_47.jpg'),\n",
       " Path('/home/vinayak/.fastai/data/oxford-iiit-pet/images/english_cocker_spaniel_11.jpg'),\n",
       " Path('/home/vinayak/.fastai/data/oxford-iiit-pet/images/Egyptian_Mau_171.jpg'),\n",
       " Path('/home/vinayak/.fastai/data/oxford-iiit-pet/images/boxer_126.jpg'),\n",
       " Path('/home/vinayak/.fastai/data/oxford-iiit-pet/images/Maine_Coon_175.jpg'),\n",
       " Path('/home/vinayak/.fastai/data/oxford-iiit-pet/images/miniature_pinscher_86.jpg'),\n",
       " Path('/home/vinayak/.fastai/data/oxford-iiit-pet/images/keeshond_127.jpg'),\n",
       " Path('/home/vinayak/.fastai/data/oxford-iiit-pet/images/Abyssinian_79.jpg'),\n",
       " Path('/home/vinayak/.fastai/data/oxford-iiit-pet/images/english_setter_165.jpg'),\n",
       " Path('/home/vinayak/.fastai/data/oxford-iiit-pet/images/Bengal_98.jpg'),\n",
       " Path('/home/vinayak/.fastai/data/oxford-iiit-pet/images/Persian_34.jpg'),\n",
       " Path('/home/vinayak/.fastai/data/oxford-iiit-pet/images/samoyed_169.jpg'),\n",
       " Path('/home/vinayak/.fastai/data/oxford-iiit-pet/images/Sphynx_122.jpg'),\n",
       " Path('/home/vinayak/.fastai/data/oxford-iiit-pet/images/great_pyrenees_161.jpg'),\n",
       " Path('/home/vinayak/.fastai/data/oxford-iiit-pet/images/leonberger_4.jpg'),\n",
       " Path('/home/vinayak/.fastai/data/oxford-iiit-pet/images/havanese_151.jpg'),\n",
       " Path('/home/vinayak/.fastai/data/oxford-iiit-pet/images/Abyssinian_175.jpg'),\n",
       " Path('/home/vinayak/.fastai/data/oxford-iiit-pet/images/shiba_inu_25.jpg'),\n",
       " Path('/home/vinayak/.fastai/data/oxford-iiit-pet/images/american_pit_bull_terrier_123.jpg'),\n",
       " Path('/home/vinayak/.fastai/data/oxford-iiit-pet/images/staffordshire_bull_terrier_185.jpg'),\n",
       " Path('/home/vinayak/.fastai/data/oxford-iiit-pet/images/Russian_Blue_50.jpg'),\n",
       " Path('/home/vinayak/.fastai/data/oxford-iiit-pet/images/Russian_Blue_27.jpg'),\n",
       " Path('/home/vinayak/.fastai/data/oxford-iiit-pet/images/japanese_chin_102.jpg'),\n",
       " Path('/home/vinayak/.fastai/data/oxford-iiit-pet/images/havanese_192.jpg'),\n",
       " Path('/home/vinayak/.fastai/data/oxford-iiit-pet/images/pug_184.jpg'),\n",
       " Path('/home/vinayak/.fastai/data/oxford-iiit-pet/images/boxer_129.jpg'),\n",
       " Path('/home/vinayak/.fastai/data/oxford-iiit-pet/images/pug_197.jpg'),\n",
       " Path('/home/vinayak/.fastai/data/oxford-iiit-pet/images/shiba_inu_73.jpg'),\n",
       " Path('/home/vinayak/.fastai/data/oxford-iiit-pet/images/newfoundland_147.jpg'),\n",
       " Path('/home/vinayak/.fastai/data/oxford-iiit-pet/images/english_setter_63.jpg'),\n",
       " Path('/home/vinayak/.fastai/data/oxford-iiit-pet/images/samoyed_137.jpg'),\n",
       " Path('/home/vinayak/.fastai/data/oxford-iiit-pet/images/Egyptian_Mau_199.jpg'),\n",
       " Path('/home/vinayak/.fastai/data/oxford-iiit-pet/images/staffordshire_bull_terrier_191.jpg'),\n",
       " Path('/home/vinayak/.fastai/data/oxford-iiit-pet/images/Abyssinian_90.jpg'),\n",
       " Path('/home/vinayak/.fastai/data/oxford-iiit-pet/images/keeshond_144.jpg'),\n",
       " Path('/home/vinayak/.fastai/data/oxford-iiit-pet/images/Ragdoll_105.jpg'),\n",
       " Path('/home/vinayak/.fastai/data/oxford-iiit-pet/images/Bengal_111.jpg'),\n",
       " Path('/home/vinayak/.fastai/data/oxford-iiit-pet/images/english_cocker_spaniel_182.jpg'),\n",
       " Path('/home/vinayak/.fastai/data/oxford-iiit-pet/images/saint_bernard_156.jpg'),\n",
       " Path('/home/vinayak/.fastai/data/oxford-iiit-pet/images/Persian_3.jpg'),\n",
       " Path('/home/vinayak/.fastai/data/oxford-iiit-pet/images/japanese_chin_181.jpg'),\n",
       " Path('/home/vinayak/.fastai/data/oxford-iiit-pet/images/wheaten_terrier_62.jpg'),\n",
       " Path('/home/vinayak/.fastai/data/oxford-iiit-pet/images/wheaten_terrier_170.jpg'),\n",
       " Path('/home/vinayak/.fastai/data/oxford-iiit-pet/images/great_pyrenees_57.jpg'),\n",
       " Path('/home/vinayak/.fastai/data/oxford-iiit-pet/images/great_pyrenees_16.jpg'),\n",
       " Path('/home/vinayak/.fastai/data/oxford-iiit-pet/images/havanese_139.jpg'),\n",
       " Path('/home/vinayak/.fastai/data/oxford-iiit-pet/images/chihuahua_143.jpg'),\n",
       " Path('/home/vinayak/.fastai/data/oxford-iiit-pet/images/boxer_169.jpg'),\n",
       " Path('/home/vinayak/.fastai/data/oxford-iiit-pet/images/keeshond_53.jpg'),\n",
       " Path('/home/vinayak/.fastai/data/oxford-iiit-pet/images/scottish_terrier_98.jpg'),\n",
       " Path('/home/vinayak/.fastai/data/oxford-iiit-pet/images/great_pyrenees_197.jpg'),\n",
       " Path('/home/vinayak/.fastai/data/oxford-iiit-pet/images/Egyptian_Mau_128.jpg'),\n",
       " Path('/home/vinayak/.fastai/data/oxford-iiit-pet/images/english_cocker_spaniel_42.jpg'),\n",
       " Path('/home/vinayak/.fastai/data/oxford-iiit-pet/images/wheaten_terrier_145.jpg'),\n",
       " Path('/home/vinayak/.fastai/data/oxford-iiit-pet/images/pomeranian_39.jpg'),\n",
       " Path('/home/vinayak/.fastai/data/oxford-iiit-pet/images/British_Shorthair_77.jpg'),\n",
       " Path('/home/vinayak/.fastai/data/oxford-iiit-pet/images/saint_bernard_26.jpg'),\n",
       " Path('/home/vinayak/.fastai/data/oxford-iiit-pet/images/american_pit_bull_terrier_163.jpg'),\n",
       " Path('/home/vinayak/.fastai/data/oxford-iiit-pet/images/beagle_31.jpg'),\n",
       " Path('/home/vinayak/.fastai/data/oxford-iiit-pet/images/beagle_92.jpg'),\n",
       " Path('/home/vinayak/.fastai/data/oxford-iiit-pet/images/shiba_inu_85.jpg'),\n",
       " Path('/home/vinayak/.fastai/data/oxford-iiit-pet/images/Sphynx_188.jpg'),\n",
       " Path('/home/vinayak/.fastai/data/oxford-iiit-pet/images/Persian_114.jpg'),\n",
       " Path('/home/vinayak/.fastai/data/oxford-iiit-pet/images/yorkshire_terrier_102.jpg'),\n",
       " Path('/home/vinayak/.fastai/data/oxford-iiit-pet/images/havanese_57.jpg'),\n",
       " Path('/home/vinayak/.fastai/data/oxford-iiit-pet/images/boxer_23.jpg'),\n",
       " Path('/home/vinayak/.fastai/data/oxford-iiit-pet/images/Maine_Coon_193.jpg'),\n",
       " Path('/home/vinayak/.fastai/data/oxford-iiit-pet/images/Siamese_55.jpg'),\n",
       " Path('/home/vinayak/.fastai/data/oxford-iiit-pet/images/Russian_Blue_199.jpg'),\n",
       " Path('/home/vinayak/.fastai/data/oxford-iiit-pet/images/saint_bernard_159.jpg'),\n",
       " Path('/home/vinayak/.fastai/data/oxford-iiit-pet/images/Siamese_67.jpg'),\n",
       " Path('/home/vinayak/.fastai/data/oxford-iiit-pet/images/boxer_32.jpg'),\n",
       " Path('/home/vinayak/.fastai/data/oxford-iiit-pet/images/yorkshire_terrier_39.jpg'),\n",
       " Path('/home/vinayak/.fastai/data/oxford-iiit-pet/images/japanese_chin_113.jpg'),\n",
       " Path('/home/vinayak/.fastai/data/oxford-iiit-pet/images/basset_hound_168.jpg'),\n",
       " Path('/home/vinayak/.fastai/data/oxford-iiit-pet/images/american_bulldog_216.jpg'),\n",
       " Path('/home/vinayak/.fastai/data/oxford-iiit-pet/images/miniature_pinscher_57.jpg'),\n",
       " Path('/home/vinayak/.fastai/data/oxford-iiit-pet/images/Egyptian_Mau_196.jpg'),\n",
       " Path('/home/vinayak/.fastai/data/oxford-iiit-pet/images/Egyptian_Mau_51.jpg'),\n",
       " Path('/home/vinayak/.fastai/data/oxford-iiit-pet/images/miniature_pinscher_157.jpg'),\n",
       " Path('/home/vinayak/.fastai/data/oxford-iiit-pet/images/Ragdoll_35.jpg'),\n",
       " Path('/home/vinayak/.fastai/data/oxford-iiit-pet/images/newfoundland_56.jpg'),\n",
       " Path('/home/vinayak/.fastai/data/oxford-iiit-pet/images/Egyptian_Mau_5.jpg'),\n",
       " Path('/home/vinayak/.fastai/data/oxford-iiit-pet/images/beagle_138.jpg'),\n",
       " Path('/home/vinayak/.fastai/data/oxford-iiit-pet/images/Persian_75.jpg'),\n",
       " Path('/home/vinayak/.fastai/data/oxford-iiit-pet/images/Maine_Coon_37.jpg'),\n",
       " Path('/home/vinayak/.fastai/data/oxford-iiit-pet/images/japanese_chin_31.jpg'),\n",
       " Path('/home/vinayak/.fastai/data/oxford-iiit-pet/images/pug_168.jpg'),\n",
       " Path('/home/vinayak/.fastai/data/oxford-iiit-pet/images/havanese_127.jpg'),\n",
       " Path('/home/vinayak/.fastai/data/oxford-iiit-pet/images/boxer_107.jpg'),\n",
       " Path('/home/vinayak/.fastai/data/oxford-iiit-pet/images/Russian_Blue_101.jpg'),\n",
       " Path('/home/vinayak/.fastai/data/oxford-iiit-pet/images/British_Shorthair_125.jpg'),\n",
       " Path('/home/vinayak/.fastai/data/oxford-iiit-pet/images/miniature_pinscher_182.jpg'),\n",
       " Path('/home/vinayak/.fastai/data/oxford-iiit-pet/images/scottish_terrier_7.jpg'),\n",
       " Path('/home/vinayak/.fastai/data/oxford-iiit-pet/images/shiba_inu_179.jpg'),\n",
       " Path('/home/vinayak/.fastai/data/oxford-iiit-pet/images/pomeranian_131.jpg'),\n",
       " Path('/home/vinayak/.fastai/data/oxford-iiit-pet/images/havanese_145.jpg'),\n",
       " Path('/home/vinayak/.fastai/data/oxford-iiit-pet/images/Bengal_74.jpg'),\n",
       " Path('/home/vinayak/.fastai/data/oxford-iiit-pet/images/basset_hound_78.jpg'),\n",
       " Path('/home/vinayak/.fastai/data/oxford-iiit-pet/images/boxer_189.jpg'),\n",
       " Path('/home/vinayak/.fastai/data/oxford-iiit-pet/images/german_shorthaired_62.jpg'),\n",
       " Path('/home/vinayak/.fastai/data/oxford-iiit-pet/images/japanese_chin_52.jpg'),\n",
       " Path('/home/vinayak/.fastai/data/oxford-iiit-pet/images/Bengal_62.jpg'),\n",
       " Path('/home/vinayak/.fastai/data/oxford-iiit-pet/images/Maine_Coon_154.jpg'),\n",
       " Path('/home/vinayak/.fastai/data/oxford-iiit-pet/images/great_pyrenees_66.jpg'),\n",
       " Path('/home/vinayak/.fastai/data/oxford-iiit-pet/images/chihuahua_23.jpg'),\n",
       " Path('/home/vinayak/.fastai/data/oxford-iiit-pet/images/wheaten_terrier_85.jpg'),\n",
       " Path('/home/vinayak/.fastai/data/oxford-iiit-pet/images/japanese_chin_86.jpg'),\n",
       " Path('/home/vinayak/.fastai/data/oxford-iiit-pet/images/leonberger_29.jpg'),\n",
       " Path('/home/vinayak/.fastai/data/oxford-iiit-pet/images/Russian_Blue_114.jpg'),\n",
       " Path('/home/vinayak/.fastai/data/oxford-iiit-pet/images/Abyssinian_22.jpg'),\n",
       " Path('/home/vinayak/.fastai/data/oxford-iiit-pet/images/Russian_Blue_10.jpg'),\n",
       " Path('/home/vinayak/.fastai/data/oxford-iiit-pet/images/american_bulldog_119.jpg'),\n",
       " Path('/home/vinayak/.fastai/data/oxford-iiit-pet/images/Bengal_188.jpg'),\n",
       " Path('/home/vinayak/.fastai/data/oxford-iiit-pet/images/english_cocker_spaniel_64.jpg'),\n",
       " Path('/home/vinayak/.fastai/data/oxford-iiit-pet/images/saint_bernard_56.jpg'),\n",
       " Path('/home/vinayak/.fastai/data/oxford-iiit-pet/images/chihuahua_63.jpg'),\n",
       " Path('/home/vinayak/.fastai/data/oxford-iiit-pet/images/wheaten_terrier_94.jpg'),\n",
       " Path('/home/vinayak/.fastai/data/oxford-iiit-pet/images/wheaten_terrier_160.jpg'),\n",
       " Path('/home/vinayak/.fastai/data/oxford-iiit-pet/images/chihuahua_171.jpg'),\n",
       " Path('/home/vinayak/.fastai/data/oxford-iiit-pet/images/saint_bernard_87.jpg'),\n",
       " Path('/home/vinayak/.fastai/data/oxford-iiit-pet/images/Persian_12.jpg'),\n",
       " Path('/home/vinayak/.fastai/data/oxford-iiit-pet/images/chihuahua_34.jpg'),\n",
       " Path('/home/vinayak/.fastai/data/oxford-iiit-pet/images/pug_16.jpg'),\n",
       " Path('/home/vinayak/.fastai/data/oxford-iiit-pet/images/american_pit_bull_terrier_142.jpg'),\n",
       " Path('/home/vinayak/.fastai/data/oxford-iiit-pet/images/newfoundland_148.jpg'),\n",
       " Path('/home/vinayak/.fastai/data/oxford-iiit-pet/images/Russian_Blue_171.jpg'),\n",
       " Path('/home/vinayak/.fastai/data/oxford-iiit-pet/images/newfoundland_94.jpg'),\n",
       " Path('/home/vinayak/.fastai/data/oxford-iiit-pet/images/Ragdoll_93.jpg'),\n",
       " Path('/home/vinayak/.fastai/data/oxford-iiit-pet/images/wheaten_terrier_101.jpg'),\n",
       " Path('/home/vinayak/.fastai/data/oxford-iiit-pet/images/shiba_inu_15.jpg'),\n",
       " Path('/home/vinayak/.fastai/data/oxford-iiit-pet/images/english_setter_23.jpg'),\n",
       " Path('/home/vinayak/.fastai/data/oxford-iiit-pet/images/basset_hound_56.jpg'),\n",
       " Path('/home/vinayak/.fastai/data/oxford-iiit-pet/images/newfoundland_182.jpg'),\n",
       " Path('/home/vinayak/.fastai/data/oxford-iiit-pet/images/beagle_180.jpg'),\n",
       " Path('/home/vinayak/.fastai/data/oxford-iiit-pet/images/scottish_terrier_61.jpg'),\n",
       " Path('/home/vinayak/.fastai/data/oxford-iiit-pet/images/keeshond_89.jpg'),\n",
       " Path('/home/vinayak/.fastai/data/oxford-iiit-pet/images/Egyptian_Mau_198.jpg'),\n",
       " Path('/home/vinayak/.fastai/data/oxford-iiit-pet/images/keeshond_113.jpg'),\n",
       " Path('/home/vinayak/.fastai/data/oxford-iiit-pet/images/staffordshire_bull_terrier_172.jpg'),\n",
       " Path('/home/vinayak/.fastai/data/oxford-iiit-pet/images/great_pyrenees_182.jpg'),\n",
       " Path('/home/vinayak/.fastai/data/oxford-iiit-pet/images/Egyptian_Mau_140.jpg'),\n",
       " Path('/home/vinayak/.fastai/data/oxford-iiit-pet/images/english_cocker_spaniel_8.jpg'),\n",
       " Path('/home/vinayak/.fastai/data/oxford-iiit-pet/images/american_pit_bull_terrier_9.jpg'),\n",
       " Path('/home/vinayak/.fastai/data/oxford-iiit-pet/images/Bengal_21.jpg'),\n",
       " Path('/home/vinayak/.fastai/data/oxford-iiit-pet/images/beagle_164.jpg'),\n",
       " Path('/home/vinayak/.fastai/data/oxford-iiit-pet/images/Sphynx_169.jpg'),\n",
       " Path('/home/vinayak/.fastai/data/oxford-iiit-pet/images/staffordshire_bull_terrier_86.jpg'),\n",
       " Path('/home/vinayak/.fastai/data/oxford-iiit-pet/images/staffordshire_bull_terrier_128.jpg'),\n",
       " Path('/home/vinayak/.fastai/data/oxford-iiit-pet/images/samoyed_187.jpg'),\n",
       " Path('/home/vinayak/.fastai/data/oxford-iiit-pet/images/samoyed_104.jpg'),\n",
       " Path('/home/vinayak/.fastai/data/oxford-iiit-pet/images/Abyssinian_221.jpg'),\n",
       " Path('/home/vinayak/.fastai/data/oxford-iiit-pet/images/Sphynx_12.jpg'),\n",
       " Path('/home/vinayak/.fastai/data/oxford-iiit-pet/images/Russian_Blue_146.jpg'),\n",
       " Path('/home/vinayak/.fastai/data/oxford-iiit-pet/images/beagle_51.jpg'),\n",
       " Path('/home/vinayak/.fastai/data/oxford-iiit-pet/images/Sphynx_153.jpg'),\n",
       " Path('/home/vinayak/.fastai/data/oxford-iiit-pet/images/shiba_inu_50.jpg'),\n",
       " Path('/home/vinayak/.fastai/data/oxford-iiit-pet/images/great_pyrenees_2.jpg'),\n",
       " Path('/home/vinayak/.fastai/data/oxford-iiit-pet/images/beagle_134.jpg'),\n",
       " Path('/home/vinayak/.fastai/data/oxford-iiit-pet/images/Russian_Blue_176.jpg'),\n",
       " Path('/home/vinayak/.fastai/data/oxford-iiit-pet/images/Abyssinian_30.jpg'),\n",
       " Path('/home/vinayak/.fastai/data/oxford-iiit-pet/images/english_setter_150.jpg'),\n",
       " Path('/home/vinayak/.fastai/data/oxford-iiit-pet/images/scottish_terrier_74.jpg'),\n",
       " Path('/home/vinayak/.fastai/data/oxford-iiit-pet/images/wheaten_terrier_23.jpg'),\n",
       " Path('/home/vinayak/.fastai/data/oxford-iiit-pet/images/British_Shorthair_58.jpg'),\n",
       " Path('/home/vinayak/.fastai/data/oxford-iiit-pet/images/american_bulldog_135.jpg'),\n",
       " Path('/home/vinayak/.fastai/data/oxford-iiit-pet/images/beagle_202.jpg'),\n",
       " Path('/home/vinayak/.fastai/data/oxford-iiit-pet/images/Birman_167.jpg'),\n",
       " Path('/home/vinayak/.fastai/data/oxford-iiit-pet/images/american_pit_bull_terrier_13.jpg'),\n",
       " Path('/home/vinayak/.fastai/data/oxford-iiit-pet/images/shiba_inu_108.jpg'),\n",
       " Path('/home/vinayak/.fastai/data/oxford-iiit-pet/images/Ragdoll_60.jpg'),\n",
       " Path('/home/vinayak/.fastai/data/oxford-iiit-pet/images/Russian_Blue_244.jpg'),\n",
       " Path('/home/vinayak/.fastai/data/oxford-iiit-pet/images/beagle_143.jpg'),\n",
       " Path('/home/vinayak/.fastai/data/oxford-iiit-pet/images/Russian_Blue_188.jpg'),\n",
       " Path('/home/vinayak/.fastai/data/oxford-iiit-pet/images/chihuahua_156.jpg'),\n",
       " Path('/home/vinayak/.fastai/data/oxford-iiit-pet/images/Birman_104.jpg'),\n",
       " Path('/home/vinayak/.fastai/data/oxford-iiit-pet/images/great_pyrenees_79.jpg'),\n",
       " Path('/home/vinayak/.fastai/data/oxford-iiit-pet/images/american_pit_bull_terrier_183.jpg'),\n",
       " Path('/home/vinayak/.fastai/data/oxford-iiit-pet/images/havanese_91.jpg'),\n",
       " Path('/home/vinayak/.fastai/data/oxford-iiit-pet/images/leonberger_191.jpg'),\n",
       " Path('/home/vinayak/.fastai/data/oxford-iiit-pet/images/Ragdoll_156.jpg'),\n",
       " Path('/home/vinayak/.fastai/data/oxford-iiit-pet/images/boxer_144.jpg'),\n",
       " Path('/home/vinayak/.fastai/data/oxford-iiit-pet/images/scottish_terrier_121.jpg'),\n",
       " Path('/home/vinayak/.fastai/data/oxford-iiit-pet/images/boxer_87.jpg'),\n",
       " Path('/home/vinayak/.fastai/data/oxford-iiit-pet/images/Persian_89.jpg'),\n",
       " Path('/home/vinayak/.fastai/data/oxford-iiit-pet/images/Bengal_56.jpg'),\n",
       " Path('/home/vinayak/.fastai/data/oxford-iiit-pet/images/saint_bernard_79.jpg'),\n",
       " Path('/home/vinayak/.fastai/data/oxford-iiit-pet/images/yorkshire_terrier_63.jpg'),\n",
       " Path('/home/vinayak/.fastai/data/oxford-iiit-pet/images/pomeranian_42.jpg'),\n",
       " Path('/home/vinayak/.fastai/data/oxford-iiit-pet/images/japanese_chin_108.jpg'),\n",
       " Path('/home/vinayak/.fastai/data/oxford-iiit-pet/images/american_pit_bull_terrier_129.jpg'),\n",
       " Path('/home/vinayak/.fastai/data/oxford-iiit-pet/images/american_bulldog_141.jpg'),\n",
       " Path('/home/vinayak/.fastai/data/oxford-iiit-pet/images/Bengal_34.jpg'),\n",
       " Path('/home/vinayak/.fastai/data/oxford-iiit-pet/images/newfoundland_176.jpg'),\n",
       " Path('/home/vinayak/.fastai/data/oxford-iiit-pet/images/english_cocker_spaniel_165.jpg'),\n",
       " Path('/home/vinayak/.fastai/data/oxford-iiit-pet/images/beagle_64.jpg'),\n",
       " Path('/home/vinayak/.fastai/data/oxford-iiit-pet/images/japanese_chin_96.jpg'),\n",
       " Path('/home/vinayak/.fastai/data/oxford-iiit-pet/images/english_cocker_spaniel_185.jpg'),\n",
       " Path('/home/vinayak/.fastai/data/oxford-iiit-pet/images/newfoundland_129.jpg'),\n",
       " Path('/home/vinayak/.fastai/data/oxford-iiit-pet/images/boxer_171.jpg'),\n",
       " Path('/home/vinayak/.fastai/data/oxford-iiit-pet/images/British_Shorthair_166.jpg'),\n",
       " Path('/home/vinayak/.fastai/data/oxford-iiit-pet/images/english_setter_131.jpg'),\n",
       " Path('/home/vinayak/.fastai/data/oxford-iiit-pet/images/miniature_pinscher_99.jpg'),\n",
       " Path('/home/vinayak/.fastai/data/oxford-iiit-pet/images/scottish_terrier_130.jpg'),\n",
       " Path('/home/vinayak/.fastai/data/oxford-iiit-pet/images/havanese_23.jpg'),\n",
       " Path('/home/vinayak/.fastai/data/oxford-iiit-pet/images/english_cocker_spaniel_151.jpg'),\n",
       " Path('/home/vinayak/.fastai/data/oxford-iiit-pet/images/Siamese_57.jpg'),\n",
       " Path('/home/vinayak/.fastai/data/oxford-iiit-pet/images/boxer_103.jpg'),\n",
       " Path('/home/vinayak/.fastai/data/oxford-iiit-pet/images/basset_hound_150.jpg'),\n",
       " Path('/home/vinayak/.fastai/data/oxford-iiit-pet/images/great_pyrenees_94.jpg'),\n",
       " Path('/home/vinayak/.fastai/data/oxford-iiit-pet/images/British_Shorthair_135.jpg'),\n",
       " Path('/home/vinayak/.fastai/data/oxford-iiit-pet/images/miniature_pinscher_28.jpg'),\n",
       " Path('/home/vinayak/.fastai/data/oxford-iiit-pet/images/Bombay_213.jpg'),\n",
       " Path('/home/vinayak/.fastai/data/oxford-iiit-pet/images/american_bulldog_33.jpg'),\n",
       " Path('/home/vinayak/.fastai/data/oxford-iiit-pet/images/Russian_Blue_71.jpg'),\n",
       " Path('/home/vinayak/.fastai/data/oxford-iiit-pet/images/Birman_45.jpg'),\n",
       " Path('/home/vinayak/.fastai/data/oxford-iiit-pet/images/shiba_inu_162.jpg'),\n",
       " Path('/home/vinayak/.fastai/data/oxford-iiit-pet/images/saint_bernard_36.jpg'),\n",
       " Path('/home/vinayak/.fastai/data/oxford-iiit-pet/images/leonberger_24.jpg'),\n",
       " Path('/home/vinayak/.fastai/data/oxford-iiit-pet/images/Siamese_43.jpg'),\n",
       " Path('/home/vinayak/.fastai/data/oxford-iiit-pet/images/Ragdoll_142.jpg'),\n",
       " Path('/home/vinayak/.fastai/data/oxford-iiit-pet/images/newfoundland_15.jpg'),\n",
       " Path('/home/vinayak/.fastai/data/oxford-iiit-pet/images/miniature_pinscher_39.jpg'),\n",
       " Path('/home/vinayak/.fastai/data/oxford-iiit-pet/images/basset_hound_169.jpg'),\n",
       " Path('/home/vinayak/.fastai/data/oxford-iiit-pet/images/Abyssinian_98.jpg'),\n",
       " Path('/home/vinayak/.fastai/data/oxford-iiit-pet/images/Egyptian_Mau_93.jpg'),\n",
       " Path('/home/vinayak/.fastai/data/oxford-iiit-pet/images/beagle_85.jpg'),\n",
       " Path('/home/vinayak/.fastai/data/oxford-iiit-pet/images/wheaten_terrier_12.jpg'),\n",
       " Path('/home/vinayak/.fastai/data/oxford-iiit-pet/images/saint_bernard_192.jpg'),\n",
       " Path('/home/vinayak/.fastai/data/oxford-iiit-pet/images/chihuahua_101.jpg'),\n",
       " Path('/home/vinayak/.fastai/data/oxford-iiit-pet/images/saint_bernard_162.jpg'),\n",
       " Path('/home/vinayak/.fastai/data/oxford-iiit-pet/images/wheaten_terrier_65.jpg'),\n",
       " Path('/home/vinayak/.fastai/data/oxford-iiit-pet/images/Sphynx_249.jpg'),\n",
       " Path('/home/vinayak/.fastai/data/oxford-iiit-pet/images/newfoundland_48.jpg'),\n",
       " Path('/home/vinayak/.fastai/data/oxford-iiit-pet/images/staffordshire_bull_terrier_152.jpg'),\n",
       " Path('/home/vinayak/.fastai/data/oxford-iiit-pet/images/american_bulldog_23.jpg'),\n",
       " Path('/home/vinayak/.fastai/data/oxford-iiit-pet/images/wheaten_terrier_30.jpg'),\n",
       " Path('/home/vinayak/.fastai/data/oxford-iiit-pet/images/havanese_183.jpg'),\n",
       " Path('/home/vinayak/.fastai/data/oxford-iiit-pet/images/Siamese_19.jpg'),\n",
       " Path('/home/vinayak/.fastai/data/oxford-iiit-pet/images/english_cocker_spaniel_200.jpg'),\n",
       " Path('/home/vinayak/.fastai/data/oxford-iiit-pet/images/saint_bernard_133.jpg'),\n",
       " Path('/home/vinayak/.fastai/data/oxford-iiit-pet/images/pug_57.jpg'),\n",
       " Path('/home/vinayak/.fastai/data/oxford-iiit-pet/images/Maine_Coon_18.jpg'),\n",
       " Path('/home/vinayak/.fastai/data/oxford-iiit-pet/images/great_pyrenees_50.jpg'),\n",
       " Path('/home/vinayak/.fastai/data/oxford-iiit-pet/images/scottish_terrier_145.jpg'),\n",
       " Path('/home/vinayak/.fastai/data/oxford-iiit-pet/images/havanese_173.jpg'),\n",
       " Path('/home/vinayak/.fastai/data/oxford-iiit-pet/images/yorkshire_terrier_44.jpg'),\n",
       " Path('/home/vinayak/.fastai/data/oxford-iiit-pet/images/Bengal_71.jpg'),\n",
       " Path('/home/vinayak/.fastai/data/oxford-iiit-pet/images/english_setter_175.jpg'),\n",
       " Path('/home/vinayak/.fastai/data/oxford-iiit-pet/images/havanese_150.jpg'),\n",
       " Path('/home/vinayak/.fastai/data/oxford-iiit-pet/images/miniature_pinscher_67.jpg'),\n",
       " Path('/home/vinayak/.fastai/data/oxford-iiit-pet/images/Maine_Coon_67.jpg'),\n",
       " Path('/home/vinayak/.fastai/data/oxford-iiit-pet/images/saint_bernard_90.jpg'),\n",
       " Path('/home/vinayak/.fastai/data/oxford-iiit-pet/images/basset_hound_82.jpg'),\n",
       " Path('/home/vinayak/.fastai/data/oxford-iiit-pet/images/Bombay_16.jpg'),\n",
       " Path('/home/vinayak/.fastai/data/oxford-iiit-pet/images/chihuahua_61.jpg'),\n",
       " Path('/home/vinayak/.fastai/data/oxford-iiit-pet/images/newfoundland_70.jpg'),\n",
       " Path('/home/vinayak/.fastai/data/oxford-iiit-pet/images/Sphynx_222.jpg'),\n",
       " Path('/home/vinayak/.fastai/data/oxford-iiit-pet/images/scottish_terrier_83.jpg'),\n",
       " Path('/home/vinayak/.fastai/data/oxford-iiit-pet/images/staffordshire_bull_terrier_93.jpg'),\n",
       " Path('/home/vinayak/.fastai/data/oxford-iiit-pet/images/english_cocker_spaniel_78.jpg'),\n",
       " Path('/home/vinayak/.fastai/data/oxford-iiit-pet/images/havanese_15.jpg'),\n",
       " Path('/home/vinayak/.fastai/data/oxford-iiit-pet/images/Persian_262.jpg'),\n",
       " Path('/home/vinayak/.fastai/data/oxford-iiit-pet/images/Russian_Blue_149.jpg'),\n",
       " Path('/home/vinayak/.fastai/data/oxford-iiit-pet/images/Bombay_39.jpg'),\n",
       " Path('/home/vinayak/.fastai/data/oxford-iiit-pet/images/shiba_inu_71.jpg'),\n",
       " Path('/home/vinayak/.fastai/data/oxford-iiit-pet/images/British_Shorthair_218.jpg'),\n",
       " Path('/home/vinayak/.fastai/data/oxford-iiit-pet/images/Egyptian_Mau_115.jpg'),\n",
       " Path('/home/vinayak/.fastai/data/oxford-iiit-pet/images/Maine_Coon_84.jpg'),\n",
       " Path('/home/vinayak/.fastai/data/oxford-iiit-pet/images/newfoundland_150.jpg'),\n",
       " Path('/home/vinayak/.fastai/data/oxford-iiit-pet/images/scottish_terrier_120.jpg'),\n",
       " Path('/home/vinayak/.fastai/data/oxford-iiit-pet/images/Bengal_85.jpg'),\n",
       " Path('/home/vinayak/.fastai/data/oxford-iiit-pet/images/pug_158.jpg'),\n",
       " Path('/home/vinayak/.fastai/data/oxford-iiit-pet/images/Maine_Coon_116.jpg'),\n",
       " Path('/home/vinayak/.fastai/data/oxford-iiit-pet/images/miniature_pinscher_19.jpg'),\n",
       " Path('/home/vinayak/.fastai/data/oxford-iiit-pet/images/Russian_Blue_80.jpg'),\n",
       " Path('/home/vinayak/.fastai/data/oxford-iiit-pet/images/saint_bernard_80.jpg'),\n",
       " Path('/home/vinayak/.fastai/data/oxford-iiit-pet/images/Russian_Blue_55.jpg'),\n",
       " Path('/home/vinayak/.fastai/data/oxford-iiit-pet/images/yorkshire_terrier_20.jpg'),\n",
       " Path('/home/vinayak/.fastai/data/oxford-iiit-pet/images/Sphynx_14.jpg'),\n",
       " Path('/home/vinayak/.fastai/data/oxford-iiit-pet/images/leonberger_91.jpg'),\n",
       " Path('/home/vinayak/.fastai/data/oxford-iiit-pet/images/pug_46.jpg'),\n",
       " Path('/home/vinayak/.fastai/data/oxford-iiit-pet/images/havanese_157.jpg'),\n",
       " Path('/home/vinayak/.fastai/data/oxford-iiit-pet/images/British_Shorthair_96.jpg'),\n",
       " Path('/home/vinayak/.fastai/data/oxford-iiit-pet/images/Bengal_41.jpg'),\n",
       " Path('/home/vinayak/.fastai/data/oxford-iiit-pet/images/Ragdoll_227.jpg'),\n",
       " Path('/home/vinayak/.fastai/data/oxford-iiit-pet/images/havanese_93.jpg'),\n",
       " Path('/home/vinayak/.fastai/data/oxford-iiit-pet/images/Bengal_160.jpg'),\n",
       " Path('/home/vinayak/.fastai/data/oxford-iiit-pet/images/British_Shorthair_56.jpg'),\n",
       " Path('/home/vinayak/.fastai/data/oxford-iiit-pet/images/english_cocker_spaniel_181.jpg'),\n",
       " Path('/home/vinayak/.fastai/data/oxford-iiit-pet/images/english_setter_11.jpg'),\n",
       " Path('/home/vinayak/.fastai/data/oxford-iiit-pet/images/chihuahua_56.jpg'),\n",
       " Path('/home/vinayak/.fastai/data/oxford-iiit-pet/images/shiba_inu_88.jpg'),\n",
       " Path('/home/vinayak/.fastai/data/oxford-iiit-pet/images/beagle_53.jpg'),\n",
       " Path('/home/vinayak/.fastai/data/oxford-iiit-pet/images/Bombay_101.jpg'),\n",
       " Path('/home/vinayak/.fastai/data/oxford-iiit-pet/images/Siamese_63.jpg'),\n",
       " Path('/home/vinayak/.fastai/data/oxford-iiit-pet/images/keeshond_80.jpg'),\n",
       " Path('/home/vinayak/.fastai/data/oxford-iiit-pet/images/Bengal_17.jpg'),\n",
       " Path('/home/vinayak/.fastai/data/oxford-iiit-pet/images/english_setter_170.jpg'),\n",
       " Path('/home/vinayak/.fastai/data/oxford-iiit-pet/images/staffordshire_bull_terrier_184.jpg'),\n",
       " Path('/home/vinayak/.fastai/data/oxford-iiit-pet/images/newfoundland_85.jpg'),\n",
       " Path('/home/vinayak/.fastai/data/oxford-iiit-pet/images/scottish_terrier_164.jpg'),\n",
       " Path('/home/vinayak/.fastai/data/oxford-iiit-pet/images/Maine_Coon_254.jpg'),\n",
       " Path('/home/vinayak/.fastai/data/oxford-iiit-pet/images/Birman_131.jpg'),\n",
       " Path('/home/vinayak/.fastai/data/oxford-iiit-pet/images/american_pit_bull_terrier_191.jpg'),\n",
       " Path('/home/vinayak/.fastai/data/oxford-iiit-pet/images/keeshond_200.jpg'),\n",
       " Path('/home/vinayak/.fastai/data/oxford-iiit-pet/images/newfoundland_146.jpg'),\n",
       " Path('/home/vinayak/.fastai/data/oxford-iiit-pet/images/Maine_Coon_60.jpg'),\n",
       " Path('/home/vinayak/.fastai/data/oxford-iiit-pet/images/saint_bernard_164.jpg'),\n",
       " Path('/home/vinayak/.fastai/data/oxford-iiit-pet/images/Bengal_49.jpg'),\n",
       " Path('/home/vinayak/.fastai/data/oxford-iiit-pet/images/scottish_terrier_128.jpg'),\n",
       " Path('/home/vinayak/.fastai/data/oxford-iiit-pet/images/samoyed_102.jpg'),\n",
       " Path('/home/vinayak/.fastai/data/oxford-iiit-pet/images/shiba_inu_189.jpg'),\n",
       " Path('/home/vinayak/.fastai/data/oxford-iiit-pet/images/Ragdoll_99.jpg'),\n",
       " Path('/home/vinayak/.fastai/data/oxford-iiit-pet/images/Ragdoll_146.jpg'),\n",
       " Path('/home/vinayak/.fastai/data/oxford-iiit-pet/images/Persian_159.jpg'),\n",
       " Path('/home/vinayak/.fastai/data/oxford-iiit-pet/images/saint_bernard_191.jpg'),\n",
       " Path('/home/vinayak/.fastai/data/oxford-iiit-pet/images/basset_hound_46.jpg'),\n",
       " Path('/home/vinayak/.fastai/data/oxford-iiit-pet/images/american_pit_bull_terrier_133.jpg'),\n",
       " Path('/home/vinayak/.fastai/data/oxford-iiit-pet/images/saint_bernard_127.jpg'),\n",
       " Path('/home/vinayak/.fastai/data/oxford-iiit-pet/images/american_bulldog_224.jpg'),\n",
       " Path('/home/vinayak/.fastai/data/oxford-iiit-pet/images/British_Shorthair_196.jpg'),\n",
       " Path('/home/vinayak/.fastai/data/oxford-iiit-pet/images/english_cocker_spaniel_3.jpg'),\n",
       " Path('/home/vinayak/.fastai/data/oxford-iiit-pet/images/saint_bernard_64.jpg'),\n",
       " Path('/home/vinayak/.fastai/data/oxford-iiit-pet/images/wheaten_terrier_120.jpg'),\n",
       " Path('/home/vinayak/.fastai/data/oxford-iiit-pet/images/havanese_159.jpg'),\n",
       " Path('/home/vinayak/.fastai/data/oxford-iiit-pet/images/miniature_pinscher_96.jpg'),\n",
       " Path('/home/vinayak/.fastai/data/oxford-iiit-pet/images/yorkshire_terrier_200.jpg'),\n",
       " Path('/home/vinayak/.fastai/data/oxford-iiit-pet/images/leonberger_6.jpg'),\n",
       " Path('/home/vinayak/.fastai/data/oxford-iiit-pet/images/havanese_111.jpg'),\n",
       " Path('/home/vinayak/.fastai/data/oxford-iiit-pet/images/Ragdoll_49.jpg'),\n",
       " Path('/home/vinayak/.fastai/data/oxford-iiit-pet/images/Persian_152.jpg'),\n",
       " Path('/home/vinayak/.fastai/data/oxford-iiit-pet/images/Egyptian_Mau_160.jpg'),\n",
       " Path('/home/vinayak/.fastai/data/oxford-iiit-pet/images/miniature_pinscher_54.jpg'),\n",
       " Path('/home/vinayak/.fastai/data/oxford-iiit-pet/images/american_pit_bull_terrier_52.jpg'),\n",
       " Path('/home/vinayak/.fastai/data/oxford-iiit-pet/images/Ragdoll_187.jpg'),\n",
       " Path('/home/vinayak/.fastai/data/oxford-iiit-pet/images/chihuahua_94.jpg'),\n",
       " Path('/home/vinayak/.fastai/data/oxford-iiit-pet/images/Maine_Coon_128.jpg'),\n",
       " Path('/home/vinayak/.fastai/data/oxford-iiit-pet/images/boxer_74.jpg'),\n",
       " Path('/home/vinayak/.fastai/data/oxford-iiit-pet/images/Maine_Coon_87.jpg'),\n",
       " Path('/home/vinayak/.fastai/data/oxford-iiit-pet/images/shiba_inu_141.jpg'),\n",
       " Path('/home/vinayak/.fastai/data/oxford-iiit-pet/images/miniature_pinscher_16.jpg'),\n",
       " Path('/home/vinayak/.fastai/data/oxford-iiit-pet/images/pug_188.jpg'),\n",
       " Path('/home/vinayak/.fastai/data/oxford-iiit-pet/images/basset_hound_41.jpg'),\n",
       " Path('/home/vinayak/.fastai/data/oxford-iiit-pet/images/Persian_118.jpg'),\n",
       " Path('/home/vinayak/.fastai/data/oxford-iiit-pet/images/Russian_Blue_216.jpg'),\n",
       " Path('/home/vinayak/.fastai/data/oxford-iiit-pet/images/miniature_pinscher_88.jpg'),\n",
       " Path('/home/vinayak/.fastai/data/oxford-iiit-pet/images/shiba_inu_21.jpg'),\n",
       " Path('/home/vinayak/.fastai/data/oxford-iiit-pet/images/beagle_45.jpg'),\n",
       " Path('/home/vinayak/.fastai/data/oxford-iiit-pet/images/Bengal_4.jpg'),\n",
       " Path('/home/vinayak/.fastai/data/oxford-iiit-pet/images/japanese_chin_117.jpg'),\n",
       " Path('/home/vinayak/.fastai/data/oxford-iiit-pet/images/scottish_terrier_133.jpg'),\n",
       " Path('/home/vinayak/.fastai/data/oxford-iiit-pet/images/english_setter_31.jpg'),\n",
       " Path('/home/vinayak/.fastai/data/oxford-iiit-pet/images/Russian_Blue_157.jpg'),\n",
       " Path('/home/vinayak/.fastai/data/oxford-iiit-pet/images/keeshond_112.jpg'),\n",
       " Path('/home/vinayak/.fastai/data/oxford-iiit-pet/images/boxer_148.jpg'),\n",
       " Path('/home/vinayak/.fastai/data/oxford-iiit-pet/images/saint_bernard_97.jpg'),\n",
       " Path('/home/vinayak/.fastai/data/oxford-iiit-pet/images/japanese_chin_132.jpg'),\n",
       " Path('/home/vinayak/.fastai/data/oxford-iiit-pet/images/Egyptian_Mau_133.jpg'),\n",
       " Path('/home/vinayak/.fastai/data/oxford-iiit-pet/images/leonberger_175.jpg'),\n",
       " Path('/home/vinayak/.fastai/data/oxford-iiit-pet/images/leonberger_112.jpg'),\n",
       " Path('/home/vinayak/.fastai/data/oxford-iiit-pet/images/newfoundland_106.jpg'),\n",
       " Path('/home/vinayak/.fastai/data/oxford-iiit-pet/images/Ragdoll_190.jpg'),\n",
       " Path('/home/vinayak/.fastai/data/oxford-iiit-pet/images/beagle_184.jpg'),\n",
       " Path('/home/vinayak/.fastai/data/oxford-iiit-pet/images/american_bulldog_65.jpg'),\n",
       " Path('/home/vinayak/.fastai/data/oxford-iiit-pet/images/Persian_139.jpg'),\n",
       " Path('/home/vinayak/.fastai/data/oxford-iiit-pet/images/Maine_Coon_85.jpg'),\n",
       " Path('/home/vinayak/.fastai/data/oxford-iiit-pet/images/Siamese_218.jpg'),\n",
       " Path('/home/vinayak/.fastai/data/oxford-iiit-pet/images/pomeranian_141.jpg'),\n",
       " Path('/home/vinayak/.fastai/data/oxford-iiit-pet/images/Ragdoll_26.jpg'),\n",
       " Path('/home/vinayak/.fastai/data/oxford-iiit-pet/images/Abyssinian_215.jpg'),\n",
       " Path('/home/vinayak/.fastai/data/oxford-iiit-pet/images/pug_56.jpg'),\n",
       " Path('/home/vinayak/.fastai/data/oxford-iiit-pet/images/chihuahua_25.jpg'),\n",
       " Path('/home/vinayak/.fastai/data/oxford-iiit-pet/images/Sphynx_206.jpg'),\n",
       " Path('/home/vinayak/.fastai/data/oxford-iiit-pet/images/scottish_terrier_37.jpg'),\n",
       " Path('/home/vinayak/.fastai/data/oxford-iiit-pet/images/Abyssinian_116.jpg'),\n",
       " Path('/home/vinayak/.fastai/data/oxford-iiit-pet/images/pomeranian_97.jpg'),\n",
       " Path('/home/vinayak/.fastai/data/oxford-iiit-pet/images/yorkshire_terrier_124.jpg'),\n",
       " Path('/home/vinayak/.fastai/data/oxford-iiit-pet/images/staffordshire_bull_terrier_79.jpg'),\n",
       " Path('/home/vinayak/.fastai/data/oxford-iiit-pet/images/Birman_124.jpg'),\n",
       " Path('/home/vinayak/.fastai/data/oxford-iiit-pet/images/miniature_pinscher_22.jpg'),\n",
       " Path('/home/vinayak/.fastai/data/oxford-iiit-pet/images/Maine_Coon_104.jpg'),\n",
       " Path('/home/vinayak/.fastai/data/oxford-iiit-pet/images/havanese_187.jpg'),\n",
       " Path('/home/vinayak/.fastai/data/oxford-iiit-pet/images/samoyed_135.jpg'),\n",
       " Path('/home/vinayak/.fastai/data/oxford-iiit-pet/images/leonberger_21.jpg'),\n",
       " Path('/home/vinayak/.fastai/data/oxford-iiit-pet/images/scottish_terrier_119.jpg'),\n",
       " Path('/home/vinayak/.fastai/data/oxford-iiit-pet/images/British_Shorthair_59.jpg'),\n",
       " Path('/home/vinayak/.fastai/data/oxford-iiit-pet/images/Persian_95.jpg'),\n",
       " Path('/home/vinayak/.fastai/data/oxford-iiit-pet/images/newfoundland_80.jpg'),\n",
       " Path('/home/vinayak/.fastai/data/oxford-iiit-pet/images/great_pyrenees_125.jpg'),\n",
       " Path('/home/vinayak/.fastai/data/oxford-iiit-pet/images/pomeranian_128.jpg'),\n",
       " Path('/home/vinayak/.fastai/data/oxford-iiit-pet/images/boxer_76.jpg'),\n",
       " Path('/home/vinayak/.fastai/data/oxford-iiit-pet/images/pomeranian_133.jpg'),\n",
       " Path('/home/vinayak/.fastai/data/oxford-iiit-pet/images/yorkshire_terrier_7.jpg'),\n",
       " Path('/home/vinayak/.fastai/data/oxford-iiit-pet/images/shiba_inu_199.jpg'),\n",
       " Path('/home/vinayak/.fastai/data/oxford-iiit-pet/images/British_Shorthair_112.jpg'),\n",
       " Path('/home/vinayak/.fastai/data/oxford-iiit-pet/images/leonberger_143.jpg'),\n",
       " Path('/home/vinayak/.fastai/data/oxford-iiit-pet/images/Maine_Coon_51.jpg'),\n",
       " Path('/home/vinayak/.fastai/data/oxford-iiit-pet/images/beagle_168.jpg'),\n",
       " Path('/home/vinayak/.fastai/data/oxford-iiit-pet/images/german_shorthaired_40.jpg'),\n",
       " Path('/home/vinayak/.fastai/data/oxford-iiit-pet/images/miniature_pinscher_60.jpg'),\n",
       " Path('/home/vinayak/.fastai/data/oxford-iiit-pet/images/Bombay_21.jpg'),\n",
       " Path('/home/vinayak/.fastai/data/oxford-iiit-pet/images/american_pit_bull_terrier_125.jpg'),\n",
       " Path('/home/vinayak/.fastai/data/oxford-iiit-pet/images/pomeranian_32.jpg'),\n",
       " Path('/home/vinayak/.fastai/data/oxford-iiit-pet/images/miniature_pinscher_183.jpg'),\n",
       " Path('/home/vinayak/.fastai/data/oxford-iiit-pet/images/Bombay_55.jpg'),\n",
       " Path('/home/vinayak/.fastai/data/oxford-iiit-pet/images/Siamese_114.jpg'),\n",
       " Path('/home/vinayak/.fastai/data/oxford-iiit-pet/images/leonberger_19.jpg'),\n",
       " Path('/home/vinayak/.fastai/data/oxford-iiit-pet/images/havanese_20.jpg'),\n",
       " Path('/home/vinayak/.fastai/data/oxford-iiit-pet/images/samoyed_129.jpg'),\n",
       " Path('/home/vinayak/.fastai/data/oxford-iiit-pet/images/keeshond_171.jpg'),\n",
       " Path('/home/vinayak/.fastai/data/oxford-iiit-pet/images/pug_115.jpg'),\n",
       " Path('/home/vinayak/.fastai/data/oxford-iiit-pet/images/scottish_terrier_185.jpg'),\n",
       " Path('/home/vinayak/.fastai/data/oxford-iiit-pet/images/miniature_pinscher_7.jpg'),\n",
       " Path('/home/vinayak/.fastai/data/oxford-iiit-pet/images/British_Shorthair_197.jpg'),\n",
       " Path('/home/vinayak/.fastai/data/oxford-iiit-pet/images/Maine_Coon_58.jpg'),\n",
       " Path('/home/vinayak/.fastai/data/oxford-iiit-pet/images/Sphynx_49.jpg'),\n",
       " Path('/home/vinayak/.fastai/data/oxford-iiit-pet/images/Siamese_164.jpg'),\n",
       " Path('/home/vinayak/.fastai/data/oxford-iiit-pet/images/Russian_Blue_220.jpg'),\n",
       " Path('/home/vinayak/.fastai/data/oxford-iiit-pet/images/havanese_169.jpg'),\n",
       " Path('/home/vinayak/.fastai/data/oxford-iiit-pet/images/great_pyrenees_102.jpg'),\n",
       " Path('/home/vinayak/.fastai/data/oxford-iiit-pet/images/Maine_Coon_242.jpg'),\n",
       " Path('/home/vinayak/.fastai/data/oxford-iiit-pet/images/pomeranian_17.jpg'),\n",
       " Path('/home/vinayak/.fastai/data/oxford-iiit-pet/images/Bengal_69.jpg'),\n",
       " Path('/home/vinayak/.fastai/data/oxford-iiit-pet/images/german_shorthaired_140.jpg'),\n",
       " Path('/home/vinayak/.fastai/data/oxford-iiit-pet/images/staffordshire_bull_terrier_9.jpg'),\n",
       " Path('/home/vinayak/.fastai/data/oxford-iiit-pet/images/Russian_Blue_237.jpg'),\n",
       " Path('/home/vinayak/.fastai/data/oxford-iiit-pet/images/Sphynx_130.jpg'),\n",
       " Path('/home/vinayak/.fastai/data/oxford-iiit-pet/images/Persian_202.jpg'),\n",
       " Path('/home/vinayak/.fastai/data/oxford-iiit-pet/images/great_pyrenees_109.jpg'),\n",
       " Path('/home/vinayak/.fastai/data/oxford-iiit-pet/images/beagle_105.jpg'),\n",
       " Path('/home/vinayak/.fastai/data/oxford-iiit-pet/images/Abyssinian_91.jpg'),\n",
       " Path('/home/vinayak/.fastai/data/oxford-iiit-pet/images/basset_hound_137.jpg'),\n",
       " Path('/home/vinayak/.fastai/data/oxford-iiit-pet/images/shiba_inu_99.jpg'),\n",
       " Path('/home/vinayak/.fastai/data/oxford-iiit-pet/images/english_cocker_spaniel_186.jpg'),\n",
       " Path('/home/vinayak/.fastai/data/oxford-iiit-pet/images/samoyed_19.jpg'),\n",
       " Path('/home/vinayak/.fastai/data/oxford-iiit-pet/images/wheaten_terrier_75.jpg'),\n",
       " Path('/home/vinayak/.fastai/data/oxford-iiit-pet/images/Bengal_144.jpg'),\n",
       " Path('/home/vinayak/.fastai/data/oxford-iiit-pet/images/Birman_194.jpg'),\n",
       " Path('/home/vinayak/.fastai/data/oxford-iiit-pet/images/keeshond_117.jpg'),\n",
       " Path('/home/vinayak/.fastai/data/oxford-iiit-pet/images/Persian_150.jpg'),\n",
       " Path('/home/vinayak/.fastai/data/oxford-iiit-pet/images/basset_hound_84.jpg'),\n",
       " Path('/home/vinayak/.fastai/data/oxford-iiit-pet/images/Russian_Blue_212.jpg'),\n",
       " Path('/home/vinayak/.fastai/data/oxford-iiit-pet/images/english_setter_36.jpg'),\n",
       " Path('/home/vinayak/.fastai/data/oxford-iiit-pet/images/Egyptian_Mau_215.jpg'),\n",
       " Path('/home/vinayak/.fastai/data/oxford-iiit-pet/images/Bombay_176.jpg'),\n",
       " Path('/home/vinayak/.fastai/data/oxford-iiit-pet/images/pomeranian_184.jpg'),\n",
       " Path('/home/vinayak/.fastai/data/oxford-iiit-pet/images/boxer_151.jpg'),\n",
       " Path('/home/vinayak/.fastai/data/oxford-iiit-pet/images/Bombay_33.jpg'),\n",
       " Path('/home/vinayak/.fastai/data/oxford-iiit-pet/images/Siamese_167.jpg'),\n",
       " Path('/home/vinayak/.fastai/data/oxford-iiit-pet/images/samoyed_58.jpg'),\n",
       " Path('/home/vinayak/.fastai/data/oxford-iiit-pet/images/Bombay_138.jpg'),\n",
       " Path('/home/vinayak/.fastai/data/oxford-iiit-pet/images/yorkshire_terrier_36.jpg'),\n",
       " Path('/home/vinayak/.fastai/data/oxford-iiit-pet/images/Russian_Blue_263.jpg'),\n",
       " Path('/home/vinayak/.fastai/data/oxford-iiit-pet/images/english_cocker_spaniel_195.jpg'),\n",
       " Path('/home/vinayak/.fastai/data/oxford-iiit-pet/images/german_shorthaired_56.jpg'),\n",
       " Path('/home/vinayak/.fastai/data/oxford-iiit-pet/images/Egyptian_Mau_156.jpg'),\n",
       " Path('/home/vinayak/.fastai/data/oxford-iiit-pet/images/newfoundland_64.jpg'),\n",
       " Path('/home/vinayak/.fastai/data/oxford-iiit-pet/images/scottish_terrier_26.jpg'),\n",
       " Path('/home/vinayak/.fastai/data/oxford-iiit-pet/images/Ragdoll_262.jpg'),\n",
       " Path('/home/vinayak/.fastai/data/oxford-iiit-pet/images/pomeranian_43.jpg'),\n",
       " Path('/home/vinayak/.fastai/data/oxford-iiit-pet/images/Birman_1.jpg'),\n",
       " Path('/home/vinayak/.fastai/data/oxford-iiit-pet/images/wheaten_terrier_69.jpg'),\n",
       " Path('/home/vinayak/.fastai/data/oxford-iiit-pet/images/Birman_48.jpg'),\n",
       " Path('/home/vinayak/.fastai/data/oxford-iiit-pet/images/american_bulldog_86.jpg'),\n",
       " Path('/home/vinayak/.fastai/data/oxford-iiit-pet/images/wheaten_terrier_83.jpg'),\n",
       " Path('/home/vinayak/.fastai/data/oxford-iiit-pet/images/Russian_Blue_239.jpg'),\n",
       " Path('/home/vinayak/.fastai/data/oxford-iiit-pet/images/scottish_terrier_8.jpg'),\n",
       " Path('/home/vinayak/.fastai/data/oxford-iiit-pet/images/pomeranian_54.jpg'),\n",
       " Path('/home/vinayak/.fastai/data/oxford-iiit-pet/images/Maine_Coon_76.jpg'),\n",
       " Path('/home/vinayak/.fastai/data/oxford-iiit-pet/images/yorkshire_terrier_116.jpg'),\n",
       " Path('/home/vinayak/.fastai/data/oxford-iiit-pet/images/english_cocker_spaniel_57.jpg'),\n",
       " Path('/home/vinayak/.fastai/data/oxford-iiit-pet/images/chihuahua_104.jpg'),\n",
       " Path('/home/vinayak/.fastai/data/oxford-iiit-pet/images/Persian_26.jpg'),\n",
       " Path('/home/vinayak/.fastai/data/oxford-iiit-pet/images/havanese_45.jpg'),\n",
       " Path('/home/vinayak/.fastai/data/oxford-iiit-pet/images/British_Shorthair_110.jpg'),\n",
       " Path('/home/vinayak/.fastai/data/oxford-iiit-pet/images/staffordshire_bull_terrier_150.jpg'),\n",
       " Path('/home/vinayak/.fastai/data/oxford-iiit-pet/images/Maine_Coon_244.jpg'),\n",
       " Path('/home/vinayak/.fastai/data/oxford-iiit-pet/images/leonberger_184.jpg'),\n",
       " Path('/home/vinayak/.fastai/data/oxford-iiit-pet/images/Persian_82.jpg'),\n",
       " Path('/home/vinayak/.fastai/data/oxford-iiit-pet/images/japanese_chin_128.jpg'),\n",
       " Path('/home/vinayak/.fastai/data/oxford-iiit-pet/images/Birman_108.jpg'),\n",
       " Path('/home/vinayak/.fastai/data/oxford-iiit-pet/images/beagle_76.jpg'),\n",
       " Path('/home/vinayak/.fastai/data/oxford-iiit-pet/images/chihuahua_178.jpg'),\n",
       " Path('/home/vinayak/.fastai/data/oxford-iiit-pet/images/keeshond_107.jpg'),\n",
       " Path('/home/vinayak/.fastai/data/oxford-iiit-pet/images/boxer_199.jpg'),\n",
       " Path('/home/vinayak/.fastai/data/oxford-iiit-pet/images/english_setter_129.jpg'),\n",
       " Path('/home/vinayak/.fastai/data/oxford-iiit-pet/images/Maine_Coon_69.jpg'),\n",
       " Path('/home/vinayak/.fastai/data/oxford-iiit-pet/images/newfoundland_32.jpg'),\n",
       " Path('/home/vinayak/.fastai/data/oxford-iiit-pet/images/Birman_77.jpg'),\n",
       " Path('/home/vinayak/.fastai/data/oxford-iiit-pet/images/newfoundland_193.jpg'),\n",
       " Path('/home/vinayak/.fastai/data/oxford-iiit-pet/images/boxer_42.jpg'),\n",
       " Path('/home/vinayak/.fastai/data/oxford-iiit-pet/images/chihuahua_195.jpg'),\n",
       " Path('/home/vinayak/.fastai/data/oxford-iiit-pet/images/Siamese_6.jpg'),\n",
       " Path('/home/vinayak/.fastai/data/oxford-iiit-pet/images/Abyssinian_103.jpg'),\n",
       " Path('/home/vinayak/.fastai/data/oxford-iiit-pet/images/Egyptian_Mau_45.jpg'),\n",
       " Path('/home/vinayak/.fastai/data/oxford-iiit-pet/images/american_bulldog_52.jpg'),\n",
       " Path('/home/vinayak/.fastai/data/oxford-iiit-pet/images/boxer_2.jpg'),\n",
       " Path('/home/vinayak/.fastai/data/oxford-iiit-pet/images/german_shorthaired_150.jpg'),\n",
       " Path('/home/vinayak/.fastai/data/oxford-iiit-pet/images/Siamese_141.jpg'),\n",
       " Path('/home/vinayak/.fastai/data/oxford-iiit-pet/images/japanese_chin_147.jpg'),\n",
       " Path('/home/vinayak/.fastai/data/oxford-iiit-pet/images/scottish_terrier_151.jpg'),\n",
       " Path('/home/vinayak/.fastai/data/oxford-iiit-pet/images/pomeranian_63.jpg'),\n",
       " Path('/home/vinayak/.fastai/data/oxford-iiit-pet/images/english_cocker_spaniel_28.jpg'),\n",
       " Path('/home/vinayak/.fastai/data/oxford-iiit-pet/images/newfoundland_101.jpg'),\n",
       " Path('/home/vinayak/.fastai/data/oxford-iiit-pet/images/american_pit_bull_terrier_72.jpg'),\n",
       " Path('/home/vinayak/.fastai/data/oxford-iiit-pet/images/Russian_Blue_106.jpg'),\n",
       " Path('/home/vinayak/.fastai/data/oxford-iiit-pet/images/pomeranian_121.jpg'),\n",
       " Path('/home/vinayak/.fastai/data/oxford-iiit-pet/images/staffordshire_bull_terrier_7.jpg'),\n",
       " Path('/home/vinayak/.fastai/data/oxford-iiit-pet/images/yorkshire_terrier_43.jpg'),\n",
       " Path('/home/vinayak/.fastai/data/oxford-iiit-pet/images/Egyptian_Mau_123.jpg'),\n",
       " Path('/home/vinayak/.fastai/data/oxford-iiit-pet/images/staffordshire_bull_terrier_4.jpg'),\n",
       " Path('/home/vinayak/.fastai/data/oxford-iiit-pet/images/wheaten_terrier_166.jpg'),\n",
       " Path('/home/vinayak/.fastai/data/oxford-iiit-pet/images/american_bulldog_19.jpg'),\n",
       " Path('/home/vinayak/.fastai/data/oxford-iiit-pet/images/english_setter_83.jpg'),\n",
       " Path('/home/vinayak/.fastai/data/oxford-iiit-pet/images/chihuahua_144.jpg'),\n",
       " Path('/home/vinayak/.fastai/data/oxford-iiit-pet/images/wheaten_terrier_156.jpg'),\n",
       " Path('/home/vinayak/.fastai/data/oxford-iiit-pet/images/Persian_106.jpg'),\n",
       " Path('/home/vinayak/.fastai/data/oxford-iiit-pet/images/Bengal_91.jpg'),\n",
       " Path('/home/vinayak/.fastai/data/oxford-iiit-pet/images/chihuahua_196.jpg'),\n",
       " Path('/home/vinayak/.fastai/data/oxford-iiit-pet/images/chihuahua_137.jpg'),\n",
       " Path('/home/vinayak/.fastai/data/oxford-iiit-pet/images/staffordshire_bull_terrier_62.jpg'),\n",
       " Path('/home/vinayak/.fastai/data/oxford-iiit-pet/images/Persian_41.jpg'),\n",
       " Path('/home/vinayak/.fastai/data/oxford-iiit-pet/images/japanese_chin_72.jpg'),\n",
       " Path('/home/vinayak/.fastai/data/oxford-iiit-pet/images/chihuahua_180.jpg'),\n",
       " Path('/home/vinayak/.fastai/data/oxford-iiit-pet/images/British_Shorthair_120.jpg'),\n",
       " Path('/home/vinayak/.fastai/data/oxford-iiit-pet/images/staffordshire_bull_terrier_56.jpg'),\n",
       " Path('/home/vinayak/.fastai/data/oxford-iiit-pet/images/american_pit_bull_terrier_201.jpg'),\n",
       " Path('/home/vinayak/.fastai/data/oxford-iiit-pet/images/japanese_chin_153.jpg'),\n",
       " Path('/home/vinayak/.fastai/data/oxford-iiit-pet/images/Russian_Blue_1.jpg'),\n",
       " Path('/home/vinayak/.fastai/data/oxford-iiit-pet/images/beagle_129.jpg'),\n",
       " Path('/home/vinayak/.fastai/data/oxford-iiit-pet/images/german_shorthaired_170.jpg'),\n",
       " Path('/home/vinayak/.fastai/data/oxford-iiit-pet/images/staffordshire_bull_terrier_88.jpg'),\n",
       " Path('/home/vinayak/.fastai/data/oxford-iiit-pet/images/pomeranian_123.jpg'),\n",
       " Path('/home/vinayak/.fastai/data/oxford-iiit-pet/images/Egyptian_Mau_81.jpg'),\n",
       " Path('/home/vinayak/.fastai/data/oxford-iiit-pet/images/japanese_chin_9.jpg'),\n",
       " Path('/home/vinayak/.fastai/data/oxford-iiit-pet/images/havanese_55.jpg'),\n",
       " Path('/home/vinayak/.fastai/data/oxford-iiit-pet/images/great_pyrenees_179.jpg'),\n",
       " Path('/home/vinayak/.fastai/data/oxford-iiit-pet/images/Birman_35.jpg'),\n",
       " Path('/home/vinayak/.fastai/data/oxford-iiit-pet/images/Bengal_104.jpg'),\n",
       " Path('/home/vinayak/.fastai/data/oxford-iiit-pet/images/pug_31.jpg'),\n",
       " Path('/home/vinayak/.fastai/data/oxford-iiit-pet/images/chihuahua_5.jpg'),\n",
       " Path('/home/vinayak/.fastai/data/oxford-iiit-pet/images/Persian_265.jpg'),\n",
       " Path('/home/vinayak/.fastai/data/oxford-iiit-pet/images/beagle_171.jpg'),\n",
       " Path('/home/vinayak/.fastai/data/oxford-iiit-pet/images/great_pyrenees_28.jpg'),\n",
       " Path('/home/vinayak/.fastai/data/oxford-iiit-pet/images/boxer_83.jpg'),\n",
       " Path('/home/vinayak/.fastai/data/oxford-iiit-pet/images/beagle_15.jpg'),\n",
       " Path('/home/vinayak/.fastai/data/oxford-iiit-pet/images/wheaten_terrier_138.jpg'),\n",
       " Path('/home/vinayak/.fastai/data/oxford-iiit-pet/images/miniature_pinscher_184.jpg'),\n",
       " Path('/home/vinayak/.fastai/data/oxford-iiit-pet/images/Bombay_201.jpg'),\n",
       " Path('/home/vinayak/.fastai/data/oxford-iiit-pet/images/boxer_29.jpg'),\n",
       " Path('/home/vinayak/.fastai/data/oxford-iiit-pet/images/saint_bernard_35.jpg'),\n",
       " Path('/home/vinayak/.fastai/data/oxford-iiit-pet/images/wheaten_terrier_118.jpg'),\n",
       " Path('/home/vinayak/.fastai/data/oxford-iiit-pet/images/chihuahua_59.jpg'),\n",
       " Path('/home/vinayak/.fastai/data/oxford-iiit-pet/images/american_pit_bull_terrier_182.jpg'),\n",
       " Path('/home/vinayak/.fastai/data/oxford-iiit-pet/images/Ragdoll_147.jpg'),\n",
       " Path('/home/vinayak/.fastai/data/oxford-iiit-pet/images/wheaten_terrier_11.jpg'),\n",
       " Path('/home/vinayak/.fastai/data/oxford-iiit-pet/images/Maine_Coon_187.jpg'),\n",
       " Path('/home/vinayak/.fastai/data/oxford-iiit-pet/images/samoyed_36.jpg'),\n",
       " Path('/home/vinayak/.fastai/data/oxford-iiit-pet/images/Maine_Coon_44.jpg'),\n",
       " Path('/home/vinayak/.fastai/data/oxford-iiit-pet/images/great_pyrenees_173.jpg'),\n",
       " Path('/home/vinayak/.fastai/data/oxford-iiit-pet/images/samoyed_111.jpg'),\n",
       " Path('/home/vinayak/.fastai/data/oxford-iiit-pet/images/Russian_Blue_68.jpg'),\n",
       " Path('/home/vinayak/.fastai/data/oxford-iiit-pet/images/havanese_98.jpg'),\n",
       " Path('/home/vinayak/.fastai/data/oxford-iiit-pet/images/american_bulldog_181.jpg'),\n",
       " Path('/home/vinayak/.fastai/data/oxford-iiit-pet/images/leonberger_80.jpg'),\n",
       " Path('/home/vinayak/.fastai/data/oxford-iiit-pet/images/miniature_pinscher_20.jpg'),\n",
       " Path('/home/vinayak/.fastai/data/oxford-iiit-pet/images/english_setter_84.jpg'),\n",
       " Path('/home/vinayak/.fastai/data/oxford-iiit-pet/images/Siamese_127.jpg'),\n",
       " Path('/home/vinayak/.fastai/data/oxford-iiit-pet/images/scottish_terrier_51.jpg'),\n",
       " Path('/home/vinayak/.fastai/data/oxford-iiit-pet/images/chihuahua_32.jpg'),\n",
       " Path('/home/vinayak/.fastai/data/oxford-iiit-pet/images/chihuahua_135.jpg'),\n",
       " Path('/home/vinayak/.fastai/data/oxford-iiit-pet/images/chihuahua_2.jpg'),\n",
       " Path('/home/vinayak/.fastai/data/oxford-iiit-pet/images/Maine_Coon_100.jpg'),\n",
       " Path('/home/vinayak/.fastai/data/oxford-iiit-pet/images/samoyed_86.jpg'),\n",
       " Path('/home/vinayak/.fastai/data/oxford-iiit-pet/images/saint_bernard_110.jpg'),\n",
       " Path('/home/vinayak/.fastai/data/oxford-iiit-pet/images/japanese_chin_166.jpg'),\n",
       " Path('/home/vinayak/.fastai/data/oxford-iiit-pet/images/newfoundland_73.jpg'),\n",
       " Path('/home/vinayak/.fastai/data/oxford-iiit-pet/images/newfoundland_181.jpg'),\n",
       " Path('/home/vinayak/.fastai/data/oxford-iiit-pet/images/Bombay_76.jpg'),\n",
       " Path('/home/vinayak/.fastai/data/oxford-iiit-pet/images/Egyptian_Mau_180.jpg'),\n",
       " Path('/home/vinayak/.fastai/data/oxford-iiit-pet/images/Maine_Coon_50.jpg'),\n",
       " Path('/home/vinayak/.fastai/data/oxford-iiit-pet/images/pomeranian_167.jpg'),\n",
       " Path('/home/vinayak/.fastai/data/oxford-iiit-pet/images/basset_hound_114.jpg'),\n",
       " Path('/home/vinayak/.fastai/data/oxford-iiit-pet/images/yorkshire_terrier_127.jpg'),\n",
       " Path('/home/vinayak/.fastai/data/oxford-iiit-pet/images/samoyed_101.jpg'),\n",
       " Path('/home/vinayak/.fastai/data/oxford-iiit-pet/images/pomeranian_194.jpg'),\n",
       " Path('/home/vinayak/.fastai/data/oxford-iiit-pet/images/leonberger_120.jpg'),\n",
       " Path('/home/vinayak/.fastai/data/oxford-iiit-pet/images/Egyptian_Mau_175.jpg'),\n",
       " Path('/home/vinayak/.fastai/data/oxford-iiit-pet/images/pug_199.jpg'),\n",
       " Path('/home/vinayak/.fastai/data/oxford-iiit-pet/images/leonberger_189.jpg'),\n",
       " Path('/home/vinayak/.fastai/data/oxford-iiit-pet/images/english_cocker_spaniel_103.jpg'),\n",
       " Path('/home/vinayak/.fastai/data/oxford-iiit-pet/images/american_pit_bull_terrier_80.jpg'),\n",
       " Path('/home/vinayak/.fastai/data/oxford-iiit-pet/images/pug_123.jpg'),\n",
       " Path('/home/vinayak/.fastai/data/oxford-iiit-pet/images/samoyed_161.jpg'),\n",
       " Path('/home/vinayak/.fastai/data/oxford-iiit-pet/images/wheaten_terrier_21.jpg'),\n",
       " Path('/home/vinayak/.fastai/data/oxford-iiit-pet/images/american_bulldog_177.jpg'),\n",
       " Path('/home/vinayak/.fastai/data/oxford-iiit-pet/images/chihuahua_166.jpg'),\n",
       " Path('/home/vinayak/.fastai/data/oxford-iiit-pet/images/Sphynx_197.jpg'),\n",
       " Path('/home/vinayak/.fastai/data/oxford-iiit-pet/images/english_cocker_spaniel_41.jpg'),\n",
       " Path('/home/vinayak/.fastai/data/oxford-iiit-pet/images/samoyed_106.jpg'),\n",
       " Path('/home/vinayak/.fastai/data/oxford-iiit-pet/images/great_pyrenees_176.jpg'),\n",
       " Path('/home/vinayak/.fastai/data/oxford-iiit-pet/images/keeshond_63.jpg'),\n",
       " Path('/home/vinayak/.fastai/data/oxford-iiit-pet/images/Egyptian_Mau_71.jpg'),\n",
       " Path('/home/vinayak/.fastai/data/oxford-iiit-pet/images/shiba_inu_103.jpg'),\n",
       " Path('/home/vinayak/.fastai/data/oxford-iiit-pet/images/boxer_192.jpg'),\n",
       " Path('/home/vinayak/.fastai/data/oxford-iiit-pet/images/keeshond_1.jpg'),\n",
       " Path('/home/vinayak/.fastai/data/oxford-iiit-pet/images/British_Shorthair_204.jpg'),\n",
       " Path('/home/vinayak/.fastai/data/oxford-iiit-pet/images/Bombay_22.jpg'),\n",
       " Path('/home/vinayak/.fastai/data/oxford-iiit-pet/images/yorkshire_terrier_35.jpg'),\n",
       " Path('/home/vinayak/.fastai/data/oxford-iiit-pet/images/Abyssinian_130.jpg'),\n",
       " Path('/home/vinayak/.fastai/data/oxford-iiit-pet/images/chihuahua_74.jpg'),\n",
       " Path('/home/vinayak/.fastai/data/oxford-iiit-pet/images/miniature_pinscher_129.jpg'),\n",
       " Path('/home/vinayak/.fastai/data/oxford-iiit-pet/images/Russian_Blue_172.jpg'),\n",
       " Path('/home/vinayak/.fastai/data/oxford-iiit-pet/images/shiba_inu_76.jpg'),\n",
       " Path('/home/vinayak/.fastai/data/oxford-iiit-pet/images/beagle_42.jpg'),\n",
       " Path('/home/vinayak/.fastai/data/oxford-iiit-pet/images/Abyssinian_84.jpg'),\n",
       " Path('/home/vinayak/.fastai/data/oxford-iiit-pet/images/Maine_Coon_107.jpg'),\n",
       " Path('/home/vinayak/.fastai/data/oxford-iiit-pet/images/beagle_182.jpg'),\n",
       " Path('/home/vinayak/.fastai/data/oxford-iiit-pet/images/beagle_20.jpg'),\n",
       " Path('/home/vinayak/.fastai/data/oxford-iiit-pet/images/beagle_158.jpg'),\n",
       " Path('/home/vinayak/.fastai/data/oxford-iiit-pet/images/basset_hound_76.jpg'),\n",
       " Path('/home/vinayak/.fastai/data/oxford-iiit-pet/images/wheaten_terrier_86.jpg'),\n",
       " Path('/home/vinayak/.fastai/data/oxford-iiit-pet/images/Maine_Coon_247.jpg'),\n",
       " Path('/home/vinayak/.fastai/data/oxford-iiit-pet/images/english_setter_193.jpg'),\n",
       " Path('/home/vinayak/.fastai/data/oxford-iiit-pet/images/Birman_137.jpg'),\n",
       " Path('/home/vinayak/.fastai/data/oxford-iiit-pet/images/miniature_pinscher_195.jpg'),\n",
       " Path('/home/vinayak/.fastai/data/oxford-iiit-pet/images/Persian_77.jpg'),\n",
       " Path('/home/vinayak/.fastai/data/oxford-iiit-pet/images/shiba_inu_143.jpg'),\n",
       " Path('/home/vinayak/.fastai/data/oxford-iiit-pet/images/saint_bernard_86.jpg'),\n",
       " Path('/home/vinayak/.fastai/data/oxford-iiit-pet/images/pomeranian_47.jpg'),\n",
       " Path('/home/vinayak/.fastai/data/oxford-iiit-pet/images/Abyssinian_93.jpg'),\n",
       " Path('/home/vinayak/.fastai/data/oxford-iiit-pet/images/Abyssinian_131.jpg'),\n",
       " Path('/home/vinayak/.fastai/data/oxford-iiit-pet/images/Sphynx_105.jpg'),\n",
       " Path('/home/vinayak/.fastai/data/oxford-iiit-pet/images/Egyptian_Mau_168.jpg'),\n",
       " Path('/home/vinayak/.fastai/data/oxford-iiit-pet/images/boxer_164.jpg'),\n",
       " Path('/home/vinayak/.fastai/data/oxford-iiit-pet/images/keeshond_17.jpg'),\n",
       " Path('/home/vinayak/.fastai/data/oxford-iiit-pet/images/Siamese_64.jpg'),\n",
       " Path('/home/vinayak/.fastai/data/oxford-iiit-pet/images/german_shorthaired_183.jpg'),\n",
       " Path('/home/vinayak/.fastai/data/oxford-iiit-pet/images/Siamese_201.jpg'),\n",
       " Path('/home/vinayak/.fastai/data/oxford-iiit-pet/images/Abyssinian_121.jpg'),\n",
       " Path('/home/vinayak/.fastai/data/oxford-iiit-pet/images/shiba_inu_172.jpg'),\n",
       " Path('/home/vinayak/.fastai/data/oxford-iiit-pet/images/scottish_terrier_4.jpg'),\n",
       " Path('/home/vinayak/.fastai/data/oxford-iiit-pet/images/american_bulldog_87.jpg'),\n",
       " Path('/home/vinayak/.fastai/data/oxford-iiit-pet/images/Maine_Coon_117.jpg'),\n",
       " Path('/home/vinayak/.fastai/data/oxford-iiit-pet/images/keeshond_2.jpg'),\n",
       " Path('/home/vinayak/.fastai/data/oxford-iiit-pet/images/shiba_inu_8.jpg'),\n",
       " Path('/home/vinayak/.fastai/data/oxford-iiit-pet/images/staffordshire_bull_terrier_124.jpg'),\n",
       " Path('/home/vinayak/.fastai/data/oxford-iiit-pet/images/pug_154.jpg'),\n",
       " Path('/home/vinayak/.fastai/data/oxford-iiit-pet/images/great_pyrenees_192.jpg'),\n",
       " Path('/home/vinayak/.fastai/data/oxford-iiit-pet/images/newfoundland_14.jpg'),\n",
       " Path('/home/vinayak/.fastai/data/oxford-iiit-pet/images/great_pyrenees_33.jpg'),\n",
       " Path('/home/vinayak/.fastai/data/oxford-iiit-pet/images/chihuahua_130.jpg'),\n",
       " Path('/home/vinayak/.fastai/data/oxford-iiit-pet/images/Russian_Blue_66.jpg'),\n",
       " Path('/home/vinayak/.fastai/data/oxford-iiit-pet/images/newfoundland_128.jpg'),\n",
       " Path('/home/vinayak/.fastai/data/oxford-iiit-pet/images/english_cocker_spaniel_166.jpg'),\n",
       " Path('/home/vinayak/.fastai/data/oxford-iiit-pet/images/Siamese_46.jpg'),\n",
       " Path('/home/vinayak/.fastai/data/oxford-iiit-pet/images/wheaten_terrier_80.jpg'),\n",
       " Path('/home/vinayak/.fastai/data/oxford-iiit-pet/images/beagle_3.jpg'),\n",
       " Path('/home/vinayak/.fastai/data/oxford-iiit-pet/images/British_Shorthair_198.jpg'),\n",
       " Path('/home/vinayak/.fastai/data/oxford-iiit-pet/images/wheaten_terrier_197.jpg'),\n",
       " Path('/home/vinayak/.fastai/data/oxford-iiit-pet/images/leonberger_7.jpg'),\n",
       " Path('/home/vinayak/.fastai/data/oxford-iiit-pet/images/japanese_chin_88.jpg'),\n",
       " Path('/home/vinayak/.fastai/data/oxford-iiit-pet/images/pug_111.jpg'),\n",
       " Path('/home/vinayak/.fastai/data/oxford-iiit-pet/images/beagle_49.jpg'),\n",
       " Path('/home/vinayak/.fastai/data/oxford-iiit-pet/images/saint_bernard_43.jpg'),\n",
       " Path('/home/vinayak/.fastai/data/oxford-iiit-pet/images/staffordshire_bull_terrier_155.jpg'),\n",
       " Path('/home/vinayak/.fastai/data/oxford-iiit-pet/images/german_shorthaired_4.jpg'),\n",
       " Path('/home/vinayak/.fastai/data/oxford-iiit-pet/images/staffordshire_bull_terrier_46.jpg'),\n",
       " Path('/home/vinayak/.fastai/data/oxford-iiit-pet/images/saint_bernard_116.jpg'),\n",
       " Path('/home/vinayak/.fastai/data/oxford-iiit-pet/images/Siamese_37.jpg'),\n",
       " Path('/home/vinayak/.fastai/data/oxford-iiit-pet/images/Siamese_250.jpg'),\n",
       " Path('/home/vinayak/.fastai/data/oxford-iiit-pet/images/basset_hound_153.jpg'),\n",
       " Path('/home/vinayak/.fastai/data/oxford-iiit-pet/images/english_cocker_spaniel_72.jpg'),\n",
       " Path('/home/vinayak/.fastai/data/oxford-iiit-pet/images/chihuahua_145.jpg'),\n",
       " Path('/home/vinayak/.fastai/data/oxford-iiit-pet/images/Egyptian_Mau_89.jpg'),\n",
       " Path('/home/vinayak/.fastai/data/oxford-iiit-pet/images/wheaten_terrier_91.jpg'),\n",
       " Path('/home/vinayak/.fastai/data/oxford-iiit-pet/images/english_setter_143.jpg'),\n",
       " Path('/home/vinayak/.fastai/data/oxford-iiit-pet/images/Birman_23.jpg'),\n",
       " Path('/home/vinayak/.fastai/data/oxford-iiit-pet/images/miniature_pinscher_70.jpg'),\n",
       " Path('/home/vinayak/.fastai/data/oxford-iiit-pet/images/keeshond_162.jpg'),\n",
       " Path('/home/vinayak/.fastai/data/oxford-iiit-pet/images/chihuahua_120.jpg'),\n",
       " Path('/home/vinayak/.fastai/data/oxford-iiit-pet/images/leonberger_182.jpg'),\n",
       " Path('/home/vinayak/.fastai/data/oxford-iiit-pet/images/Ragdoll_198.jpg'),\n",
       " Path('/home/vinayak/.fastai/data/oxford-iiit-pet/images/pug_176.jpg'),\n",
       " Path('/home/vinayak/.fastai/data/oxford-iiit-pet/images/chihuahua_89.jpg'),\n",
       " Path('/home/vinayak/.fastai/data/oxford-iiit-pet/images/Birman_116.jpg'),\n",
       " Path('/home/vinayak/.fastai/data/oxford-iiit-pet/images/Persian_61.jpg'),\n",
       " Path('/home/vinayak/.fastai/data/oxford-iiit-pet/images/japanese_chin_13.jpg'),\n",
       " Path('/home/vinayak/.fastai/data/oxford-iiit-pet/images/newfoundland_124.jpg'),\n",
       " Path('/home/vinayak/.fastai/data/oxford-iiit-pet/images/basset_hound_29.jpg'),\n",
       " Path('/home/vinayak/.fastai/data/oxford-iiit-pet/images/Abyssinian_75.jpg'),\n",
       " Path('/home/vinayak/.fastai/data/oxford-iiit-pet/images/shiba_inu_49.jpg'),\n",
       " Path('/home/vinayak/.fastai/data/oxford-iiit-pet/images/Abyssinian_118.jpg'),\n",
       " Path('/home/vinayak/.fastai/data/oxford-iiit-pet/images/Persian_39.jpg'),\n",
       " Path('/home/vinayak/.fastai/data/oxford-iiit-pet/images/Egyptian_Mau_40.jpg'),\n",
       " Path('/home/vinayak/.fastai/data/oxford-iiit-pet/images/havanese_48.jpg'),\n",
       " Path('/home/vinayak/.fastai/data/oxford-iiit-pet/images/Abyssinian_100.mat'),\n",
       " Path('/home/vinayak/.fastai/data/oxford-iiit-pet/images/beagle_95.jpg'),\n",
       " Path('/home/vinayak/.fastai/data/oxford-iiit-pet/images/german_shorthaired_133.jpg'),\n",
       " Path('/home/vinayak/.fastai/data/oxford-iiit-pet/images/pomeranian_183.jpg'),\n",
       " Path('/home/vinayak/.fastai/data/oxford-iiit-pet/images/basset_hound_124.jpg'),\n",
       " Path('/home/vinayak/.fastai/data/oxford-iiit-pet/images/newfoundland_112.jpg'),\n",
       " Path('/home/vinayak/.fastai/data/oxford-iiit-pet/images/shiba_inu_39.jpg'),\n",
       " Path('/home/vinayak/.fastai/data/oxford-iiit-pet/images/japanese_chin_164.jpg'),\n",
       " Path('/home/vinayak/.fastai/data/oxford-iiit-pet/images/pug_191.jpg'),\n",
       " Path('/home/vinayak/.fastai/data/oxford-iiit-pet/images/Egyptian_Mau_34.jpg'),\n",
       " Path('/home/vinayak/.fastai/data/oxford-iiit-pet/images/scottish_terrier_84.jpg'),\n",
       " Path('/home/vinayak/.fastai/data/oxford-iiit-pet/images/samoyed_145.jpg'),\n",
       " Path('/home/vinayak/.fastai/data/oxford-iiit-pet/images/keeshond_163.jpg'),\n",
       " Path('/home/vinayak/.fastai/data/oxford-iiit-pet/images/Egyptian_Mau_74.jpg'),\n",
       " Path('/home/vinayak/.fastai/data/oxford-iiit-pet/images/newfoundland_46.jpg'),\n",
       " Path('/home/vinayak/.fastai/data/oxford-iiit-pet/images/Ragdoll_177.jpg'),\n",
       " Path('/home/vinayak/.fastai/data/oxford-iiit-pet/images/american_bulldog_14.jpg'),\n",
       " Path('/home/vinayak/.fastai/data/oxford-iiit-pet/images/yorkshire_terrier_45.jpg'),\n",
       " Path('/home/vinayak/.fastai/data/oxford-iiit-pet/images/saint_bernard_198.jpg'),\n",
       " Path('/home/vinayak/.fastai/data/oxford-iiit-pet/images/pomeranian_153.jpg'),\n",
       " Path('/home/vinayak/.fastai/data/oxford-iiit-pet/images/english_cocker_spaniel_62.jpg'),\n",
       " Path('/home/vinayak/.fastai/data/oxford-iiit-pet/images/shiba_inu_196.jpg'),\n",
       " Path('/home/vinayak/.fastai/data/oxford-iiit-pet/images/boxer_128.jpg'),\n",
       " Path('/home/vinayak/.fastai/data/oxford-iiit-pet/images/shiba_inu_26.jpg'),\n",
       " Path('/home/vinayak/.fastai/data/oxford-iiit-pet/images/havanese_186.jpg'),\n",
       " Path('/home/vinayak/.fastai/data/oxford-iiit-pet/images/wheaten_terrier_132.jpg'),\n",
       " Path('/home/vinayak/.fastai/data/oxford-iiit-pet/images/British_Shorthair_156.jpg'),\n",
       " Path('/home/vinayak/.fastai/data/oxford-iiit-pet/images/japanese_chin_100.jpg'),\n",
       " Path('/home/vinayak/.fastai/data/oxford-iiit-pet/images/Persian_37.jpg'),\n",
       " Path('/home/vinayak/.fastai/data/oxford-iiit-pet/images/saint_bernard_200.jpg'),\n",
       " Path('/home/vinayak/.fastai/data/oxford-iiit-pet/images/pomeranian_200.jpg'),\n",
       " Path('/home/vinayak/.fastai/data/oxford-iiit-pet/images/basset_hound_62.jpg'),\n",
       " Path('/home/vinayak/.fastai/data/oxford-iiit-pet/images/keeshond_55.jpg'),\n",
       " Path('/home/vinayak/.fastai/data/oxford-iiit-pet/images/shiba_inu_178.jpg'),\n",
       " Path('/home/vinayak/.fastai/data/oxford-iiit-pet/images/scottish_terrier_55.jpg'),\n",
       " Path('/home/vinayak/.fastai/data/oxford-iiit-pet/images/Sphynx_132.jpg'),\n",
       " Path('/home/vinayak/.fastai/data/oxford-iiit-pet/images/pomeranian_136.jpg'),\n",
       " Path('/home/vinayak/.fastai/data/oxford-iiit-pet/images/yorkshire_terrier_99.jpg'),\n",
       " Path('/home/vinayak/.fastai/data/oxford-iiit-pet/images/Sphynx_117.jpg'),\n",
       " Path('/home/vinayak/.fastai/data/oxford-iiit-pet/images/Sphynx_91.jpg'),\n",
       " Path('/home/vinayak/.fastai/data/oxford-iiit-pet/images/boxer_15.jpg'),\n",
       " Path('/home/vinayak/.fastai/data/oxford-iiit-pet/images/shiba_inu_105.jpg'),\n",
       " Path('/home/vinayak/.fastai/data/oxford-iiit-pet/images/leonberger_152.jpg'),\n",
       " Path('/home/vinayak/.fastai/data/oxford-iiit-pet/images/great_pyrenees_82.jpg'),\n",
       " Path('/home/vinayak/.fastai/data/oxford-iiit-pet/images/Bengal_169.jpg'),\n",
       " Path('/home/vinayak/.fastai/data/oxford-iiit-pet/images/Maine_Coon_35.jpg'),\n",
       " Path('/home/vinayak/.fastai/data/oxford-iiit-pet/images/staffordshire_bull_terrier_71.jpg'),\n",
       " Path('/home/vinayak/.fastai/data/oxford-iiit-pet/images/miniature_pinscher_11.jpg'),\n",
       " Path('/home/vinayak/.fastai/data/oxford-iiit-pet/images/Siamese_163.jpg'),\n",
       " Path('/home/vinayak/.fastai/data/oxford-iiit-pet/images/Bengal_130.jpg'),\n",
       " Path('/home/vinayak/.fastai/data/oxford-iiit-pet/images/chihuahua_16.jpg'),\n",
       " Path('/home/vinayak/.fastai/data/oxford-iiit-pet/images/japanese_chin_121.jpg'),\n",
       " Path('/home/vinayak/.fastai/data/oxford-iiit-pet/images/newfoundland_191.jpg'),\n",
       " Path('/home/vinayak/.fastai/data/oxford-iiit-pet/images/boxer_35.jpg'),\n",
       " Path('/home/vinayak/.fastai/data/oxford-iiit-pet/images/Egyptian_Mau_124.jpg'),\n",
       " Path('/home/vinayak/.fastai/data/oxford-iiit-pet/images/newfoundland_4.jpg'),\n",
       " Path('/home/vinayak/.fastai/data/oxford-iiit-pet/images/scottish_terrier_62.jpg'),\n",
       " Path('/home/vinayak/.fastai/data/oxford-iiit-pet/images/Abyssinian_117.jpg'),\n",
       " Path('/home/vinayak/.fastai/data/oxford-iiit-pet/images/saint_bernard_92.jpg'),\n",
       " Path('/home/vinayak/.fastai/data/oxford-iiit-pet/images/pomeranian_69.jpg'),\n",
       " Path('/home/vinayak/.fastai/data/oxford-iiit-pet/images/english_setter_67.jpg'),\n",
       " Path('/home/vinayak/.fastai/data/oxford-iiit-pet/images/german_shorthaired_139.jpg'),\n",
       " Path('/home/vinayak/.fastai/data/oxford-iiit-pet/images/staffordshire_bull_terrier_60.jpg'),\n",
       " Path('/home/vinayak/.fastai/data/oxford-iiit-pet/images/shiba_inu_55.jpg'),\n",
       " Path('/home/vinayak/.fastai/data/oxford-iiit-pet/images/Bengal_197.jpg'),\n",
       " Path('/home/vinayak/.fastai/data/oxford-iiit-pet/images/keeshond_10.jpg'),\n",
       " Path('/home/vinayak/.fastai/data/oxford-iiit-pet/images/Bengal_78.jpg'),\n",
       " Path('/home/vinayak/.fastai/data/oxford-iiit-pet/images/english_setter_88.jpg'),\n",
       " Path('/home/vinayak/.fastai/data/oxford-iiit-pet/images/american_pit_bull_terrier_157.jpg'),\n",
       " Path('/home/vinayak/.fastai/data/oxford-iiit-pet/images/keeshond_153.jpg'),\n",
       " Path('/home/vinayak/.fastai/data/oxford-iiit-pet/images/Abyssinian_15.jpg'),\n",
       " Path('/home/vinayak/.fastai/data/oxford-iiit-pet/images/keeshond_194.jpg'),\n",
       " Path('/home/vinayak/.fastai/data/oxford-iiit-pet/images/Ragdoll_42.jpg'),\n",
       " Path('/home/vinayak/.fastai/data/oxford-iiit-pet/images/great_pyrenees_22.jpg'),\n",
       " Path('/home/vinayak/.fastai/data/oxford-iiit-pet/images/Siamese_249.jpg'),\n",
       " Path('/home/vinayak/.fastai/data/oxford-iiit-pet/images/english_setter_1.jpg'),\n",
       " Path('/home/vinayak/.fastai/data/oxford-iiit-pet/images/scottish_terrier_127.jpg'),\n",
       " Path('/home/vinayak/.fastai/data/oxford-iiit-pet/images/Bengal_121.jpg'),\n",
       " Path('/home/vinayak/.fastai/data/oxford-iiit-pet/images/japanese_chin_24.jpg'),\n",
       " Path('/home/vinayak/.fastai/data/oxford-iiit-pet/images/staffordshire_bull_terrier_21.jpg'),\n",
       " Path('/home/vinayak/.fastai/data/oxford-iiit-pet/images/english_setter_90.jpg'),\n",
       " Path('/home/vinayak/.fastai/data/oxford-iiit-pet/images/english_cocker_spaniel_92.jpg'),\n",
       " Path('/home/vinayak/.fastai/data/oxford-iiit-pet/images/japanese_chin_176.jpg'),\n",
       " Path('/home/vinayak/.fastai/data/oxford-iiit-pet/images/miniature_pinscher_192.jpg'),\n",
       " Path('/home/vinayak/.fastai/data/oxford-iiit-pet/images/great_pyrenees_107.jpg'),\n",
       " Path('/home/vinayak/.fastai/data/oxford-iiit-pet/images/scottish_terrier_114.jpg'),\n",
       " Path('/home/vinayak/.fastai/data/oxford-iiit-pet/images/newfoundland_25.jpg'),\n",
       " Path('/home/vinayak/.fastai/data/oxford-iiit-pet/images/Abyssinian_16.jpg'),\n",
       " Path('/home/vinayak/.fastai/data/oxford-iiit-pet/images/Ragdoll_260.jpg'),\n",
       " Path('/home/vinayak/.fastai/data/oxford-iiit-pet/images/beagle_52.jpg'),\n",
       " Path('/home/vinayak/.fastai/data/oxford-iiit-pet/images/samoyed_65.jpg'),\n",
       " Path('/home/vinayak/.fastai/data/oxford-iiit-pet/images/Siamese_31.jpg'),\n",
       " Path('/home/vinayak/.fastai/data/oxford-iiit-pet/images/newfoundland_131.jpg'),\n",
       " Path('/home/vinayak/.fastai/data/oxford-iiit-pet/images/saint_bernard_161.jpg'),\n",
       " Path('/home/vinayak/.fastai/data/oxford-iiit-pet/images/Persian_74.jpg'),\n",
       " Path('/home/vinayak/.fastai/data/oxford-iiit-pet/images/Abyssinian_95.jpg'),\n",
       " Path('/home/vinayak/.fastai/data/oxford-iiit-pet/images/staffordshire_bull_terrier_120.jpg'),\n",
       " Path('/home/vinayak/.fastai/data/oxford-iiit-pet/images/saint_bernard_14.jpg'),\n",
       " Path('/home/vinayak/.fastai/data/oxford-iiit-pet/images/pug_105.jpg'),\n",
       " Path('/home/vinayak/.fastai/data/oxford-iiit-pet/images/shiba_inu_114.jpg'),\n",
       " Path('/home/vinayak/.fastai/data/oxford-iiit-pet/images/saint_bernard_180.jpg'),\n",
       " Path('/home/vinayak/.fastai/data/oxford-iiit-pet/images/chihuahua_57.jpg'),\n",
       " Path('/home/vinayak/.fastai/data/oxford-iiit-pet/images/german_shorthaired_185.jpg'),\n",
       " Path('/home/vinayak/.fastai/data/oxford-iiit-pet/images/pomeranian_62.jpg'),\n",
       " Path('/home/vinayak/.fastai/data/oxford-iiit-pet/images/keeshond_44.jpg'),\n",
       " Path('/home/vinayak/.fastai/data/oxford-iiit-pet/images/Birman_183.jpg'),\n",
       " Path('/home/vinayak/.fastai/data/oxford-iiit-pet/images/chihuahua_76.jpg'),\n",
       " Path('/home/vinayak/.fastai/data/oxford-iiit-pet/images/english_setter_178.jpg'),\n",
       " Path('/home/vinayak/.fastai/data/oxford-iiit-pet/images/miniature_pinscher_161.jpg'),\n",
       " Path('/home/vinayak/.fastai/data/oxford-iiit-pet/images/Egyptian_Mau_151.jpg'),\n",
       " Path('/home/vinayak/.fastai/data/oxford-iiit-pet/images/yorkshire_terrier_49.jpg'),\n",
       " Path('/home/vinayak/.fastai/data/oxford-iiit-pet/images/Abyssinian_160.jpg'),\n",
       " Path('/home/vinayak/.fastai/data/oxford-iiit-pet/images/British_Shorthair_115.jpg'),\n",
       " Path('/home/vinayak/.fastai/data/oxford-iiit-pet/images/basset_hound_63.jpg'),\n",
       " Path('/home/vinayak/.fastai/data/oxford-iiit-pet/images/boxer_25.jpg'),\n",
       " Path('/home/vinayak/.fastai/data/oxford-iiit-pet/images/Abyssinian_148.jpg'),\n",
       " Path('/home/vinayak/.fastai/data/oxford-iiit-pet/images/Bombay_173.jpg'),\n",
       " Path('/home/vinayak/.fastai/data/oxford-iiit-pet/images/english_setter_194.jpg'),\n",
       " Path('/home/vinayak/.fastai/data/oxford-iiit-pet/images/chihuahua_108.jpg'),\n",
       " Path('/home/vinayak/.fastai/data/oxford-iiit-pet/images/english_cocker_spaniel_19.jpg'),\n",
       " Path('/home/vinayak/.fastai/data/oxford-iiit-pet/images/Sphynx_181.jpg'),\n",
       " Path('/home/vinayak/.fastai/data/oxford-iiit-pet/images/Maine_Coon_210.jpg'),\n",
       " Path('/home/vinayak/.fastai/data/oxford-iiit-pet/images/saint_bernard_74.jpg'),\n",
       " Path('/home/vinayak/.fastai/data/oxford-iiit-pet/images/english_setter_44.jpg'),\n",
       " Path('/home/vinayak/.fastai/data/oxford-iiit-pet/images/Abyssinian_125.jpg'),\n",
       " Path('/home/vinayak/.fastai/data/oxford-iiit-pet/images/Russian_Blue_133.jpg'),\n",
       " Path('/home/vinayak/.fastai/data/oxford-iiit-pet/images/great_pyrenees_183.jpg'),\n",
       " Path('/home/vinayak/.fastai/data/oxford-iiit-pet/images/basset_hound_181.jpg'),\n",
       " Path('/home/vinayak/.fastai/data/oxford-iiit-pet/images/Maine_Coon_146.jpg'),\n",
       " Path('/home/vinayak/.fastai/data/oxford-iiit-pet/images/British_Shorthair_57.jpg'),\n",
       " Path('/home/vinayak/.fastai/data/oxford-iiit-pet/images/wheaten_terrier_195.jpg'),\n",
       " Path('/home/vinayak/.fastai/data/oxford-iiit-pet/images/english_setter_71.jpg'),\n",
       " Path('/home/vinayak/.fastai/data/oxford-iiit-pet/images/Russian_Blue_98.jpg'),\n",
       " Path('/home/vinayak/.fastai/data/oxford-iiit-pet/images/english_cocker_spaniel_154.jpg'),\n",
       " Path('/home/vinayak/.fastai/data/oxford-iiit-pet/images/german_shorthaired_154.jpg'),\n",
       " Path('/home/vinayak/.fastai/data/oxford-iiit-pet/images/Bombay_118.jpg'),\n",
       " Path('/home/vinayak/.fastai/data/oxford-iiit-pet/images/american_bulldog_70.jpg'),\n",
       " Path('/home/vinayak/.fastai/data/oxford-iiit-pet/images/english_cocker_spaniel_190.jpg'),\n",
       " Path('/home/vinayak/.fastai/data/oxford-iiit-pet/images/newfoundland_67.jpg'),\n",
       " Path('/home/vinayak/.fastai/data/oxford-iiit-pet/images/american_bulldog_80.jpg'),\n",
       " Path('/home/vinayak/.fastai/data/oxford-iiit-pet/images/american_bulldog_127.jpg'),\n",
       " Path('/home/vinayak/.fastai/data/oxford-iiit-pet/images/Russian_Blue_75.jpg'),\n",
       " Path('/home/vinayak/.fastai/data/oxford-iiit-pet/images/japanese_chin_34.jpg'),\n",
       " Path('/home/vinayak/.fastai/data/oxford-iiit-pet/images/Bombay_215.jpg'),\n",
       " Path('/home/vinayak/.fastai/data/oxford-iiit-pet/images/german_shorthaired_184.jpg'),\n",
       " Path('/home/vinayak/.fastai/data/oxford-iiit-pet/images/english_setter_198.jpg'),\n",
       " Path('/home/vinayak/.fastai/data/oxford-iiit-pet/images/chihuahua_139.jpg'),\n",
       " Path('/home/vinayak/.fastai/data/oxford-iiit-pet/images/Russian_Blue_29.jpg'),\n",
       " Path('/home/vinayak/.fastai/data/oxford-iiit-pet/images/pug_41.jpg'),\n",
       " Path('/home/vinayak/.fastai/data/oxford-iiit-pet/images/american_bulldog_15.jpg'),\n",
       " Path('/home/vinayak/.fastai/data/oxford-iiit-pet/images/pomeranian_107.jpg'),\n",
       " Path('/home/vinayak/.fastai/data/oxford-iiit-pet/images/Bombay_130.jpg'),\n",
       " Path('/home/vinayak/.fastai/data/oxford-iiit-pet/images/Maine_Coon_5.jpg'),\n",
       " Path('/home/vinayak/.fastai/data/oxford-iiit-pet/images/miniature_pinscher_95.jpg'),\n",
       " Path('/home/vinayak/.fastai/data/oxford-iiit-pet/images/shiba_inu_122.jpg'),\n",
       " Path('/home/vinayak/.fastai/data/oxford-iiit-pet/images/american_pit_bull_terrier_84.jpg'),\n",
       " Path('/home/vinayak/.fastai/data/oxford-iiit-pet/images/British_Shorthair_34.jpg'),\n",
       " Path('/home/vinayak/.fastai/data/oxford-iiit-pet/images/Sphynx_242.jpg'),\n",
       " Path('/home/vinayak/.fastai/data/oxford-iiit-pet/images/Birman_177.jpg'),\n",
       " Path('/home/vinayak/.fastai/data/oxford-iiit-pet/images/Bombay_203.jpg'),\n",
       " Path('/home/vinayak/.fastai/data/oxford-iiit-pet/images/havanese_165.jpg'),\n",
       " Path('/home/vinayak/.fastai/data/oxford-iiit-pet/images/havanese_9.jpg'),\n",
       " Path('/home/vinayak/.fastai/data/oxford-iiit-pet/images/english_setter_185.jpg'),\n",
       " Path('/home/vinayak/.fastai/data/oxford-iiit-pet/images/Russian_Blue_19.jpg'),\n",
       " Path('/home/vinayak/.fastai/data/oxford-iiit-pet/images/Persian_166.jpg'),\n",
       " Path('/home/vinayak/.fastai/data/oxford-iiit-pet/images/beagle_149.jpg'),\n",
       " Path('/home/vinayak/.fastai/data/oxford-iiit-pet/images/keeshond_182.jpg'),\n",
       " Path('/home/vinayak/.fastai/data/oxford-iiit-pet/images/english_setter_75.jpg'),\n",
       " Path('/home/vinayak/.fastai/data/oxford-iiit-pet/images/german_shorthaired_87.jpg'),\n",
       " Path('/home/vinayak/.fastai/data/oxford-iiit-pet/images/great_pyrenees_124.jpg'),\n",
       " Path('/home/vinayak/.fastai/data/oxford-iiit-pet/images/Russian_Blue_182.jpg'),\n",
       " Path('/home/vinayak/.fastai/data/oxford-iiit-pet/images/scottish_terrier_108.jpg'),\n",
       " Path('/home/vinayak/.fastai/data/oxford-iiit-pet/images/havanese_52.jpg'),\n",
       " Path('/home/vinayak/.fastai/data/oxford-iiit-pet/images/german_shorthaired_11.jpg'),\n",
       " Path('/home/vinayak/.fastai/data/oxford-iiit-pet/images/Abyssinian_137.jpg'),\n",
       " Path('/home/vinayak/.fastai/data/oxford-iiit-pet/images/Abyssinian_3.jpg'),\n",
       " Path('/home/vinayak/.fastai/data/oxford-iiit-pet/images/miniature_pinscher_166.jpg'),\n",
       " Path('/home/vinayak/.fastai/data/oxford-iiit-pet/images/yorkshire_terrier_130.jpg'),\n",
       " Path('/home/vinayak/.fastai/data/oxford-iiit-pet/images/keeshond_3.jpg'),\n",
       " Path('/home/vinayak/.fastai/data/oxford-iiit-pet/images/chihuahua_181.jpg'),\n",
       " Path('/home/vinayak/.fastai/data/oxford-iiit-pet/images/saint_bernard_183.jpg'),\n",
       " Path('/home/vinayak/.fastai/data/oxford-iiit-pet/images/Birman_95.jpg'),\n",
       " Path('/home/vinayak/.fastai/data/oxford-iiit-pet/images/german_shorthaired_42.jpg'),\n",
       " Path('/home/vinayak/.fastai/data/oxford-iiit-pet/images/boxer_176.jpg'),\n",
       " Path('/home/vinayak/.fastai/data/oxford-iiit-pet/images/staffordshire_bull_terrier_194.jpg'),\n",
       " Path('/home/vinayak/.fastai/data/oxford-iiit-pet/images/chihuahua_91.jpg'),\n",
       " Path('/home/vinayak/.fastai/data/oxford-iiit-pet/images/chihuahua_39.jpg'),\n",
       " Path('/home/vinayak/.fastai/data/oxford-iiit-pet/images/keeshond_132.jpg'),\n",
       " Path('/home/vinayak/.fastai/data/oxford-iiit-pet/images/British_Shorthair_42.jpg'),\n",
       " Path('/home/vinayak/.fastai/data/oxford-iiit-pet/images/japanese_chin_79.jpg'),\n",
       " Path('/home/vinayak/.fastai/data/oxford-iiit-pet/images/english_cocker_spaniel_118.jpg'),\n",
       " Path('/home/vinayak/.fastai/data/oxford-iiit-pet/images/samoyed_7.jpg'),\n",
       " Path('/home/vinayak/.fastai/data/oxford-iiit-pet/images/chihuahua_192.jpg'),\n",
       " Path('/home/vinayak/.fastai/data/oxford-iiit-pet/images/havanese_43.jpg'),\n",
       " Path('/home/vinayak/.fastai/data/oxford-iiit-pet/images/Bengal_145.jpg'),\n",
       " Path('/home/vinayak/.fastai/data/oxford-iiit-pet/images/British_Shorthair_155.jpg'),\n",
       " Path('/home/vinayak/.fastai/data/oxford-iiit-pet/images/Bombay_181.jpg'),\n",
       " Path('/home/vinayak/.fastai/data/oxford-iiit-pet/images/Russian_Blue_109.jpg'),\n",
       " Path('/home/vinayak/.fastai/data/oxford-iiit-pet/images/english_cocker_spaniel_133.jpg'),\n",
       " Path('/home/vinayak/.fastai/data/oxford-iiit-pet/images/saint_bernard_114.jpg'),\n",
       " Path('/home/vinayak/.fastai/data/oxford-iiit-pet/images/Abyssinian_7.jpg'),\n",
       " Path('/home/vinayak/.fastai/data/oxford-iiit-pet/images/Egyptian_Mau_28.jpg'),\n",
       " Path('/home/vinayak/.fastai/data/oxford-iiit-pet/images/leonberger_109.jpg'),\n",
       " Path('/home/vinayak/.fastai/data/oxford-iiit-pet/images/leonberger_187.jpg'),\n",
       " Path('/home/vinayak/.fastai/data/oxford-iiit-pet/images/Persian_62.jpg'),\n",
       " Path('/home/vinayak/.fastai/data/oxford-iiit-pet/images/Ragdoll_250.jpg'),\n",
       " Path('/home/vinayak/.fastai/data/oxford-iiit-pet/images/Birman_133.jpg'),\n",
       " Path('/home/vinayak/.fastai/data/oxford-iiit-pet/images/Birman_132.jpg'),\n",
       " Path('/home/vinayak/.fastai/data/oxford-iiit-pet/images/newfoundland_45.jpg'),\n",
       " Path('/home/vinayak/.fastai/data/oxford-iiit-pet/images/american_bulldog_151.jpg'),\n",
       " Path('/home/vinayak/.fastai/data/oxford-iiit-pet/images/Siamese_206.jpg'),\n",
       " Path('/home/vinayak/.fastai/data/oxford-iiit-pet/images/Persian_163.jpg'),\n",
       " Path('/home/vinayak/.fastai/data/oxford-iiit-pet/images/american_bulldog_136.jpg'),\n",
       " Path('/home/vinayak/.fastai/data/oxford-iiit-pet/images/pug_132.jpg'),\n",
       " Path('/home/vinayak/.fastai/data/oxford-iiit-pet/images/english_setter_32.jpg'),\n",
       " Path('/home/vinayak/.fastai/data/oxford-iiit-pet/images/american_bulldog_187.jpg'),\n",
       " Path('/home/vinayak/.fastai/data/oxford-iiit-pet/images/staffordshire_bull_terrier_92.jpg'),\n",
       " Path('/home/vinayak/.fastai/data/oxford-iiit-pet/images/japanese_chin_73.jpg'),\n",
       " Path('/home/vinayak/.fastai/data/oxford-iiit-pet/images/newfoundland_53.jpg'),\n",
       " Path('/home/vinayak/.fastai/data/oxford-iiit-pet/images/Bombay_115.jpg'),\n",
       " Path('/home/vinayak/.fastai/data/oxford-iiit-pet/images/havanese_67.jpg'),\n",
       " Path('/home/vinayak/.fastai/data/oxford-iiit-pet/images/english_cocker_spaniel_32.jpg'),\n",
       " Path('/home/vinayak/.fastai/data/oxford-iiit-pet/images/pomeranian_11.jpg'),\n",
       " Path('/home/vinayak/.fastai/data/oxford-iiit-pet/images/basset_hound_61.jpg'),\n",
       " Path('/home/vinayak/.fastai/data/oxford-iiit-pet/images/Sphynx_155.jpg'),\n",
       " Path('/home/vinayak/.fastai/data/oxford-iiit-pet/images/Birman_89.jpg'),\n",
       " Path('/home/vinayak/.fastai/data/oxford-iiit-pet/images/scottish_terrier_96.jpg'),\n",
       " Path('/home/vinayak/.fastai/data/oxford-iiit-pet/images/Bengal_27.jpg'),\n",
       " Path('/home/vinayak/.fastai/data/oxford-iiit-pet/images/staffordshire_bull_terrier_123.jpg'),\n",
       " Path('/home/vinayak/.fastai/data/oxford-iiit-pet/images/chihuahua_44.jpg'),\n",
       " Path('/home/vinayak/.fastai/data/oxford-iiit-pet/images/english_setter_53.jpg'),\n",
       " Path('/home/vinayak/.fastai/data/oxford-iiit-pet/images/Bengal_159.jpg'),\n",
       " Path('/home/vinayak/.fastai/data/oxford-iiit-pet/images/Birman_78.jpg'),\n",
       " Path('/home/vinayak/.fastai/data/oxford-iiit-pet/images/havanese_97.jpg'),\n",
       " Path('/home/vinayak/.fastai/data/oxford-iiit-pet/images/american_pit_bull_terrier_11.jpg'),\n",
       " Path('/home/vinayak/.fastai/data/oxford-iiit-pet/images/samoyed_150.jpg'),\n",
       " Path('/home/vinayak/.fastai/data/oxford-iiit-pet/images/scottish_terrier_68.jpg'),\n",
       " Path('/home/vinayak/.fastai/data/oxford-iiit-pet/images/Birman_5.jpg'),\n",
       " Path('/home/vinayak/.fastai/data/oxford-iiit-pet/images/havanese_62.jpg'),\n",
       " Path('/home/vinayak/.fastai/data/oxford-iiit-pet/images/miniature_pinscher_177.jpg'),\n",
       " Path('/home/vinayak/.fastai/data/oxford-iiit-pet/images/beagle_12.jpg'),\n",
       " Path('/home/vinayak/.fastai/data/oxford-iiit-pet/images/yorkshire_terrier_106.jpg'),\n",
       " Path('/home/vinayak/.fastai/data/oxford-iiit-pet/images/great_pyrenees_142.jpg'),\n",
       " Path('/home/vinayak/.fastai/data/oxford-iiit-pet/images/scottish_terrier_3.jpg'),\n",
       " Path('/home/vinayak/.fastai/data/oxford-iiit-pet/images/miniature_pinscher_113.jpg'),\n",
       " Path('/home/vinayak/.fastai/data/oxford-iiit-pet/images/British_Shorthair_21.jpg'),\n",
       " Path('/home/vinayak/.fastai/data/oxford-iiit-pet/images/great_pyrenees_65.jpg'),\n",
       " Path('/home/vinayak/.fastai/data/oxford-iiit-pet/images/pomeranian_106.jpg'),\n",
       " Path('/home/vinayak/.fastai/data/oxford-iiit-pet/images/german_shorthaired_5.jpg'),\n",
       " Path('/home/vinayak/.fastai/data/oxford-iiit-pet/images/leonberger_135.jpg'),\n",
       " Path('/home/vinayak/.fastai/data/oxford-iiit-pet/images/Bombay_54.jpg'),\n",
       " Path('/home/vinayak/.fastai/data/oxford-iiit-pet/images/keeshond_8.jpg'),\n",
       " Path('/home/vinayak/.fastai/data/oxford-iiit-pet/images/Russian_Blue_74.jpg'),\n",
       " Path('/home/vinayak/.fastai/data/oxford-iiit-pet/images/basset_hound_79.jpg'),\n",
       " Path('/home/vinayak/.fastai/data/oxford-iiit-pet/images/scottish_terrier_157.jpg'),\n",
       " Path('/home/vinayak/.fastai/data/oxford-iiit-pet/images/samoyed_52.jpg'),\n",
       " Path('/home/vinayak/.fastai/data/oxford-iiit-pet/images/keeshond_146.jpg'),\n",
       " Path('/home/vinayak/.fastai/data/oxford-iiit-pet/images/Russian_Blue_96.jpg'),\n",
       " Path('/home/vinayak/.fastai/data/oxford-iiit-pet/images/leonberger_54.jpg'),\n",
       " Path('/home/vinayak/.fastai/data/oxford-iiit-pet/images/japanese_chin_136.jpg'),\n",
       " Path('/home/vinayak/.fastai/data/oxford-iiit-pet/images/wheaten_terrier_103.jpg'),\n",
       " Path('/home/vinayak/.fastai/data/oxford-iiit-pet/images/english_cocker_spaniel_177.jpg'),\n",
       " Path('/home/vinayak/.fastai/data/oxford-iiit-pet/images/Sphynx_88.jpg'),\n",
       " Path('/home/vinayak/.fastai/data/oxford-iiit-pet/images/Siamese_74.jpg'),\n",
       " Path('/home/vinayak/.fastai/data/oxford-iiit-pet/images/Maine_Coon_52.jpg'),\n",
       " Path('/home/vinayak/.fastai/data/oxford-iiit-pet/images/pug_98.jpg'),\n",
       " Path('/home/vinayak/.fastai/data/oxford-iiit-pet/images/Birman_154.jpg'),\n",
       " Path('/home/vinayak/.fastai/data/oxford-iiit-pet/images/saint_bernard_33.jpg'),\n",
       " Path('/home/vinayak/.fastai/data/oxford-iiit-pet/images/British_Shorthair_271.jpg'),\n",
       " Path('/home/vinayak/.fastai/data/oxford-iiit-pet/images/Abyssinian_143.jpg'),\n",
       " Path('/home/vinayak/.fastai/data/oxford-iiit-pet/images/pug_45.jpg'),\n",
       " Path('/home/vinayak/.fastai/data/oxford-iiit-pet/images/american_pit_bull_terrier_66.jpg'),\n",
       " Path('/home/vinayak/.fastai/data/oxford-iiit-pet/images/american_bulldog_102.jpg'),\n",
       " Path('/home/vinayak/.fastai/data/oxford-iiit-pet/images/great_pyrenees_123.jpg'),\n",
       " Path('/home/vinayak/.fastai/data/oxford-iiit-pet/images/newfoundland_77.jpg'),\n",
       " Path('/home/vinayak/.fastai/data/oxford-iiit-pet/images/saint_bernard_131.jpg'),\n",
       " Path('/home/vinayak/.fastai/data/oxford-iiit-pet/images/boxer_155.jpg'),\n",
       " Path('/home/vinayak/.fastai/data/oxford-iiit-pet/images/scottish_terrier_88.jpg'),\n",
       " ...]"
      ]
     },
     "execution_count": 59,
     "metadata": {},
     "output_type": "execute_result"
    }
   ],
   "source": [
    "list((path/\"images\").ls())"
   ]
  },
  {
   "cell_type": "code",
   "execution_count": 22,
   "metadata": {},
   "outputs": [
    {
     "data": {
      "text/plain": [
       "[1, 2, 3, 4]"
      ]
     },
     "execution_count": 22,
     "metadata": {},
     "output_type": "execute_result"
    }
   ],
   "source": [
    "# Converts any given collection into a list\n",
    "listify(set({1,2,3,4}))"
   ]
  },
  {
   "cell_type": "code",
   "execution_count": 23,
   "metadata": {},
   "outputs": [
    {
     "data": {
      "text/plain": [
       "['k', 'v']"
      ]
     },
     "execution_count": 23,
     "metadata": {},
     "output_type": "execute_result"
    }
   ],
   "source": [
    "listify({\"k\":2, \"v\":3})"
   ]
  },
  {
   "cell_type": "code",
   "execution_count": 24,
   "metadata": {},
   "outputs": [
    {
     "data": {
      "text/plain": [
       "[1, 2, 3]"
      ]
     },
     "execution_count": 24,
     "metadata": {},
     "output_type": "execute_result"
    }
   ],
   "source": [
    "listify((1,2,3))"
   ]
  },
  {
   "cell_type": "code",
   "execution_count": 25,
   "metadata": {},
   "outputs": [
    {
     "data": {
      "text/plain": [
       "(1, 2, 3, 4)"
      ]
     },
     "execution_count": 25,
     "metadata": {},
     "output_type": "execute_result"
    }
   ],
   "source": [
    "# Converts any given collection into a tuple\n",
    "tuplify(set({1,2,3,4}))"
   ]
  },
  {
   "cell_type": "code",
   "execution_count": 26,
   "metadata": {},
   "outputs": [
    {
     "data": {
      "text/plain": [
       "('k', 'v')"
      ]
     },
     "execution_count": 26,
     "metadata": {},
     "output_type": "execute_result"
    }
   ],
   "source": [
    "tuplify({\"k\":2, \"v\":3})"
   ]
  },
  {
   "cell_type": "code",
   "execution_count": 27,
   "metadata": {},
   "outputs": [
    {
     "data": {
      "text/plain": [
       "(1, 2, 4)"
      ]
     },
     "execution_count": 27,
     "metadata": {},
     "output_type": "execute_result"
    }
   ],
   "source": [
    "tuplify([1, 2, 4])"
   ]
  },
  {
   "cell_type": "code",
   "execution_count": 28,
   "metadata": {},
   "outputs": [
    {
     "data": {
      "text/plain": [
       "[3, 1, 2]"
      ]
     },
     "execution_count": 28,
     "metadata": {},
     "output_type": "execute_result"
    }
   ],
   "source": [
    "# Grabs a list of all the unique elements in a provided collection\n",
    "uniqueify([3,1,2,3,1,3,2,1])"
   ]
  },
  {
   "cell_type": "code",
   "execution_count": 29,
   "metadata": {},
   "outputs": [
    {
     "data": {
      "text/plain": [
       "8"
      ]
     },
     "execution_count": 29,
     "metadata": {},
     "output_type": "execute_result"
    }
   ],
   "source": [
    "# Tells where the query last occurred in the collection\n",
    "last_index(2, [1,2,3,4,1,1,2,3,2])"
   ]
  },
  {
   "cell_type": "code",
   "execution_count": 30,
   "metadata": {},
   "outputs": [],
   "source": [
    "# Create a simple dictionary\n",
    "d = {\"Fruit: Apple\":5, \"Fruit: Bananas\":4, \"Menu: Apple Pie\":34, \"Ingredient: Butter\": 32, \"Ingredient: Salt\": 5}"
   ]
  },
  {
   "cell_type": "code",
   "execution_count": 31,
   "metadata": {},
   "outputs": [
    {
     "data": {
      "text/plain": [
       "{'Fruit: Apple': 5, 'Fruit: Bananas': 4}"
      ]
     },
     "execution_count": 31,
     "metadata": {},
     "output_type": "execute_result"
    }
   ],
   "source": [
    "# Filter out only fruits from the dictionary\n",
    "fruit = lambda query: re.match(r\"Fruit: \\w+\", query)\n",
    "filter_keys(d, fruit)"
   ]
  },
  {
   "cell_type": "code",
   "execution_count": 32,
   "metadata": {},
   "outputs": [
    {
     "data": {
      "text/plain": [
       "{'Fruit: Apple': 5, 'Fruit: Bananas': 4, 'Ingredient: Salt': 5}"
      ]
     },
     "execution_count": 32,
     "metadata": {},
     "output_type": "execute_result"
    }
   ],
   "source": [
    "# Filter out only items with less than 10 units cost\n",
    "cost = lambda query: query < 10\n",
    "filter_values(d, cost)"
   ]
  },
  {
   "cell_type": "code",
   "execution_count": 33,
   "metadata": {},
   "outputs": [
    {
     "data": {
      "text/plain": [
       "{'Ingredient: Salt': 5}"
      ]
     },
     "execution_count": 33,
     "metadata": {},
     "output_type": "execute_result"
    }
   ],
   "source": [
    "# Filter out ingredients with cost less than 10 units\n",
    "cheap_ingredient = lambda k, v: re.match(r\"Ingredient: \\w+\", k) and v < 10\n",
    "filter_dict(d, cheap_ingredient) "
   ]
  },
  {
   "cell_type": "markdown",
   "metadata": {},
   "source": [
    "# Regular Expressions\n",
    "\n",
    "Regexes short for regular expressions are a language in themselves. They are a language which specifies a set of rules for representation of common language strings like English in a particular syntax.\n",
    "\n",
    "This can help us find if a given word/phrase/sentence(more generally strings) contains a particular pattern that we want to be there and more powerfully, extract such patterns whenever they're encountered from such strings.\n",
    "\n",
    "Let us play around with the pets dataset URLs using regex to understand the importance of this language and subsequently how this could help us in Deep Learning.\n",
    "\n",
    "Here is a really good one stop resource for understanding different characters/patterns in regex which can help create our custom query patterns for string matching.\n",
    "\n",
    "[Data Quest Regex Cheatsheet](https://www.dataquest.io/wp-content/uploads/2019/03/python-regular-expressions-cheat-sheet.pdf)\n",
    "\n",
    "In python, we have the module called `re` which comes in pre-built that could be used to leverage regular expressions."
   ]
  },
  {
   "cell_type": "code",
   "execution_count": 34,
   "metadata": {},
   "outputs": [],
   "source": [
    "import re"
   ]
  },
  {
   "cell_type": "code",
   "execution_count": 35,
   "metadata": {},
   "outputs": [
    {
     "data": {
      "text/plain": [
       "(#2) [Path('/home/vinayak/.fastai/data/oxford-iiit-pet/images'),Path('/home/vinayak/.fastai/data/oxford-iiit-pet/annotations')]"
      ]
     },
     "execution_count": 35,
     "metadata": {},
     "output_type": "execute_result"
    }
   ],
   "source": [
    "path.ls()"
   ]
  },
  {
   "cell_type": "code",
   "execution_count": 36,
   "metadata": {},
   "outputs": [
    {
     "data": {
      "text/plain": [
       "(#7393) [Path('/home/vinayak/.fastai/data/oxford-iiit-pet/images/samoyed_48.jpg'),Path('/home/vinayak/.fastai/data/oxford-iiit-pet/images/chihuahua_119.jpg'),Path('/home/vinayak/.fastai/data/oxford-iiit-pet/images/american_pit_bull_terrier_82.jpg'),Path('/home/vinayak/.fastai/data/oxford-iiit-pet/images/Bengal_182.jpg'),Path('/home/vinayak/.fastai/data/oxford-iiit-pet/images/keeshond_190.jpg'),Path('/home/vinayak/.fastai/data/oxford-iiit-pet/images/english_setter_96.jpg'),Path('/home/vinayak/.fastai/data/oxford-iiit-pet/images/Abyssinian_101.mat'),Path('/home/vinayak/.fastai/data/oxford-iiit-pet/images/Bengal_75.jpg'),Path('/home/vinayak/.fastai/data/oxford-iiit-pet/images/saint_bernard_195.jpg'),Path('/home/vinayak/.fastai/data/oxford-iiit-pet/images/Siamese_80.jpg')...]"
      ]
     },
     "execution_count": 36,
     "metadata": {},
     "output_type": "execute_result"
    }
   ],
   "source": [
    "images_path = path/\"images\"\n",
    "images_path.ls()"
   ]
  },
  {
   "cell_type": "markdown",
   "metadata": {},
   "source": [
    "The paths in `oxford-iiit dataset` are named in a very `structured` way. This helps us leverage regex to understand more about the dataset.\n",
    "\n",
    "Precisely the way data is structured is:\n",
    "- The name of all dog breed files start with a small letter\n",
    "- The name of all files is in the format \\<breed\\>_\\<number\\>.jpg\n",
    "- If the breed is a multiple word breed, then the breed will be represented by `_` in between words"
   ]
  },
  {
   "cell_type": "markdown",
   "metadata": {},
   "source": [
    "## Using regex to get all the cat files"
   ]
  },
  {
   "cell_type": "code",
   "execution_count": 37,
   "metadata": {},
   "outputs": [
    {
     "data": {
      "text/plain": [
       "(#7393) ['samoyed_48.jpg','chihuahua_119.jpg','american_pit_bull_terrier_82.jpg','Bengal_182.jpg','keeshond_190.jpg','english_setter_96.jpg','Abyssinian_101.mat','Bengal_75.jpg','saint_bernard_195.jpg','Siamese_80.jpg'...]"
      ]
     },
     "execution_count": 37,
     "metadata": {},
     "output_type": "execute_result"
    }
   ],
   "source": [
    "filenames = L([x.name for x in images_path.ls()])\n",
    "filenames"
   ]
  },
  {
   "cell_type": "code",
   "execution_count": 38,
   "metadata": {},
   "outputs": [
    {
     "data": {
      "text/plain": [
       "(#7393) [[],[],[],['Bengal_182.jpg'],[],[],['Abyssinian_101.mat'],['Bengal_75.jpg'],[],['Siamese_80.jpg']...]"
      ]
     },
     "execution_count": 38,
     "metadata": {},
     "output_type": "execute_result"
    }
   ],
   "source": [
    "cat_pattern = r\"[A-Z].+\"\n",
    "cats = L([re.findall(cat_pattern, x) for x in filenames])\n",
    "cats"
   ]
  },
  {
   "cell_type": "code",
   "execution_count": 39,
   "metadata": {},
   "outputs": [
    {
     "data": {
      "text/plain": [
       "(#2403) ['Bengal_182.jpg','Abyssinian_101.mat','Bengal_75.jpg','Siamese_80.jpg','Bombay_164.jpg','Ragdoll_118.jpg','Siamese_126.jpg','Bengal_1.jpg','Birman_17.jpg','Russian_Blue_47.jpg'...]"
      ]
     },
     "execution_count": 39,
     "metadata": {},
     "output_type": "execute_result"
    }
   ],
   "source": [
    "cats = L([x[0] for x in cats if len(x) > 0])\n",
    "cats"
   ]
  },
  {
   "cell_type": "markdown",
   "metadata": {},
   "source": [
    "## Using regex to get all the cat breeds\n",
    "\n",
    "Now that we have cat files, we can get the cat breeds from these using another regex as follows"
   ]
  },
  {
   "cell_type": "code",
   "execution_count": 40,
   "metadata": {},
   "outputs": [
    {
     "data": {
      "text/plain": [
       "(#7393) ['samoyed_48.jpg','chihuahua_119.jpg','american_pit_bull_terrier_82.jpg','Bengal_182.jpg','keeshond_190.jpg','english_setter_96.jpg','Abyssinian_101.mat','Bengal_75.jpg','saint_bernard_195.jpg','Siamese_80.jpg'...]"
      ]
     },
     "execution_count": 40,
     "metadata": {},
     "output_type": "execute_result"
    }
   ],
   "source": [
    "filenames"
   ]
  },
  {
   "cell_type": "code",
   "execution_count": 41,
   "metadata": {},
   "outputs": [],
   "source": [
    "cat_breed_pattern = r\"(^[A-Z].+)_\\d+\"\n",
    "cat_breeds = L([re.findall(cat_breed_pattern, x) for x in filenames])\n",
    "cat_breeds = L([x[0] for x in cat_breeds if len(x) > 0])\n",
    "cat_breeds = L(uniqueify(cat_breeds))"
   ]
  },
  {
   "cell_type": "code",
   "execution_count": 42,
   "metadata": {},
   "outputs": [
    {
     "data": {
      "text/plain": [
       "(#12) ['Bengal','Abyssinian','Siamese','Bombay','Ragdoll','Birman','Russian_Blue','Egyptian_Mau','Maine_Coon','Persian'...]"
      ]
     },
     "execution_count": 42,
     "metadata": {},
     "output_type": "execute_result"
    }
   ],
   "source": [
    "cat_breeds"
   ]
  },
  {
   "cell_type": "markdown",
   "metadata": {},
   "source": [
    "## Using regex to get all the dog breeds"
   ]
  },
  {
   "cell_type": "code",
   "execution_count": 43,
   "metadata": {},
   "outputs": [
    {
     "data": {
      "text/plain": [
       "(#7393) ['samoyed_48.jpg','chihuahua_119.jpg','american_pit_bull_terrier_82.jpg','Bengal_182.jpg','keeshond_190.jpg','english_setter_96.jpg','Abyssinian_101.mat','Bengal_75.jpg','saint_bernard_195.jpg','Siamese_80.jpg'...]"
      ]
     },
     "execution_count": 43,
     "metadata": {},
     "output_type": "execute_result"
    }
   ],
   "source": [
    "filenames"
   ]
  },
  {
   "cell_type": "code",
   "execution_count": 44,
   "metadata": {},
   "outputs": [],
   "source": [
    "dog_breed_pattern = r\"(^[a-z].+)_\\d+\"\n",
    "dog_breeds = L([re.findall(dog_breed_pattern, x) for x in filenames])\n",
    "dog_breeds = L([x[0] for x in dog_breeds if len(x) > 0])\n",
    "dog_breeds = L(uniqueify(dog_breeds))"
   ]
  },
  {
   "cell_type": "code",
   "execution_count": 45,
   "metadata": {},
   "outputs": [
    {
     "data": {
      "text/plain": [
       "(#25) ['samoyed','chihuahua','american_pit_bull_terrier','keeshond','english_setter','saint_bernard','boxer','great_pyrenees','basset_hound','leonberger'...]"
      ]
     },
     "execution_count": 45,
     "metadata": {},
     "output_type": "execute_result"
    }
   ],
   "source": [
    "dog_breeds"
   ]
  },
  {
   "cell_type": "markdown",
   "metadata": {},
   "source": [
    "## Using regex to get all dogs and all cats"
   ]
  },
  {
   "cell_type": "code",
   "execution_count": 46,
   "metadata": {},
   "outputs": [
    {
     "data": {
      "text/plain": [
       "(#7393) ['samoyed_48.jpg','chihuahua_119.jpg','american_pit_bull_terrier_82.jpg','Bengal_182.jpg','keeshond_190.jpg','english_setter_96.jpg','Abyssinian_101.mat','Bengal_75.jpg','saint_bernard_195.jpg','Siamese_80.jpg'...]"
      ]
     },
     "execution_count": 46,
     "metadata": {},
     "output_type": "execute_result"
    }
   ],
   "source": [
    "filenames"
   ]
  },
  {
   "cell_type": "code",
   "execution_count": 47,
   "metadata": {},
   "outputs": [
    {
     "data": {
      "text/plain": [
       "(#4990) ['samoyed_48.jpg','chihuahua_119.jpg','american_pit_bull_terrier_82.jpg','keeshond_190.jpg','english_setter_96.jpg','saint_bernard_195.jpg','boxer_36.jpg','great_pyrenees_175.jpg','chihuahua_105.jpg','basset_hound_23.jpg'...]"
      ]
     },
     "execution_count": 47,
     "metadata": {},
     "output_type": "execute_result"
    }
   ],
   "source": [
    "dog_pattern = r\"^[a-z].+_\\d+.jpg\"\n",
    "dogs = L([re.findall(dog_pattern, x) for x in filenames])\n",
    "dogs = L([x[0] for x in dogs if len(x) > 0])\n",
    "dogs"
   ]
  },
  {
   "cell_type": "code",
   "execution_count": 48,
   "metadata": {},
   "outputs": [
    {
     "data": {
      "text/plain": [
       "(#2400) ['Bengal_182.jpg','Bengal_75.jpg','Siamese_80.jpg','Bombay_164.jpg','Ragdoll_118.jpg','Siamese_126.jpg','Bengal_1.jpg','Birman_17.jpg','Russian_Blue_47.jpg','Egyptian_Mau_171.jpg'...]"
      ]
     },
     "execution_count": 48,
     "metadata": {},
     "output_type": "execute_result"
    }
   ],
   "source": [
    "cat_pattern = r\"^[A-Z].+_\\d+.jpg\"\n",
    "cats = L([re.findall(cat_pattern, x) for x in filenames])\n",
    "cats = L([x[0] for x in cats if len(x) > 0])\n",
    "cats"
   ]
  },
  {
   "cell_type": "code",
   "execution_count": 57,
   "metadata": {},
   "outputs": [
    {
     "data": {
      "text/plain": [
       "(#7393) [['samoyed_48.jpg'],['chihuahua_119.jpg'],['american_pit_bull_terrier_82.jpg'],['Bengal_182.jpg'],['keeshond_190.jpg'],['english_setter_96.jpg'],[],['Bengal_75.jpg'],['saint_bernard_195.jpg'],['Siamese_80.jpg']...]"
      ]
     },
     "execution_count": 57,
     "metadata": {},
     "output_type": "execute_result"
    }
   ],
   "source": [
    "L([re.findall(r\"^[a-zA-z].+_\\d+.jpg\", x) for x in filenames])"
   ]
  },
  {
   "cell_type": "markdown",
   "metadata": {},
   "source": [
    "## Check the union of cats and dogs equals all files"
   ]
  },
  {
   "cell_type": "code",
   "execution_count": 53,
   "metadata": {
    "scrolled": true
   },
   "outputs": [
    {
     "data": {
      "text/plain": [
       "7390"
      ]
     },
     "execution_count": 53,
     "metadata": {},
     "output_type": "execute_result"
    }
   ],
   "source": [
    "2400+4990"
   ]
  },
  {
   "cell_type": "code",
   "execution_count": 54,
   "metadata": {},
   "outputs": [
    {
     "data": {
      "text/plain": [
       "(#7393) ['samoyed_48.jpg','chihuahua_119.jpg','american_pit_bull_terrier_82.jpg','Bengal_182.jpg','keeshond_190.jpg','english_setter_96.jpg','Abyssinian_101.mat','Bengal_75.jpg','saint_bernard_195.jpg','Siamese_80.jpg'...]"
      ]
     },
     "execution_count": 54,
     "metadata": {},
     "output_type": "execute_result"
    }
   ],
   "source": [
    "filenames"
   ]
  },
  {
   "cell_type": "code",
   "execution_count": 51,
   "metadata": {},
   "outputs": [
    {
     "data": {
      "text/plain": [
       "{'Abyssinian_100.mat', 'Abyssinian_101.mat', 'Abyssinian_102.mat'}"
      ]
     },
     "execution_count": 51,
     "metadata": {},
     "output_type": "execute_result"
    }
   ],
   "source": [
    "set(filenames).difference(set(cats).union(set(dogs)))"
   ]
  }
 ],
 "metadata": {
  "kernelspec": {
   "display_name": "Python 3",
   "language": "python",
   "name": "python3"
  },
  "language_info": {
   "codemirror_mode": {
    "name": "ipython",
    "version": 3
   },
   "file_extension": ".py",
   "mimetype": "text/x-python",
   "name": "python",
   "nbconvert_exporter": "python",
   "pygments_lexer": "ipython3",
   "version": "3.8.8"
  },
  "latex_envs": {
   "LaTeX_envs_menu_present": true,
   "autoclose": false,
   "autocomplete": true,
   "bibliofile": "biblio.bib",
   "cite_by": "apalike",
   "current_citInitial": 1,
   "eqLabelWithNumbers": true,
   "eqNumInitial": 1,
   "hotkeys": {
    "equation": "Ctrl-E",
    "itemize": "Ctrl-I"
   },
   "labels_anchors": false,
   "latex_user_defs": false,
   "report_style_numbering": false,
   "user_envs_cfg": false
  },
  "toc": {
   "base_numbering": 1,
   "nav_menu": {},
   "number_sections": true,
   "sideBar": true,
   "skip_h1_title": false,
   "title_cell": "Table of Contents",
   "title_sidebar": "Contents",
   "toc_cell": false,
   "toc_position": {
    "height": "calc(100% - 180px)",
    "left": "10px",
    "top": "150px",
    "width": "294.062px"
   },
   "toc_section_display": true,
   "toc_window_display": true
  },
  "varInspector": {
   "cols": {
    "lenName": 16,
    "lenType": 16,
    "lenVar": 40
   },
   "kernels_config": {
    "python": {
     "delete_cmd_postfix": "",
     "delete_cmd_prefix": "del ",
     "library": "var_list.py",
     "varRefreshCmd": "print(var_dic_list())"
    },
    "r": {
     "delete_cmd_postfix": ") ",
     "delete_cmd_prefix": "rm(",
     "library": "var_list.r",
     "varRefreshCmd": "cat(var_dic_list()) "
    }
   },
   "types_to_exclude": [
    "module",
    "function",
    "builtin_function_or_method",
    "instance",
    "_Feature"
   ],
   "window_display": false
  }
 },
 "nbformat": 4,
 "nbformat_minor": 4
}
