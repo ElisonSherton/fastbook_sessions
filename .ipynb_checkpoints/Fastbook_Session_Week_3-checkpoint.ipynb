{
 "cells": [
  {
   "cell_type": "markdown",
   "metadata": {},
   "source": [
    "# Creating your own datasets"
   ]
  },
  {
   "cell_type": "code",
   "execution_count": 1,
   "metadata": {},
   "outputs": [],
   "source": [
    "from fastai import *\n",
    "from fastai.vision.all import *"
   ]
  },
  {
   "cell_type": "markdown",
   "metadata": {},
   "source": [
    "As a fun project I want to build a classifier which can tell one Avenger apart from another. For this first I need to create a dataset of the images corresponding to different Avengers for which I am going to use the `search_images_ddg` function defined in [fastai docs here](https://course.fast.ai/images#DuckDuckGo)."
   ]
  },
  {
   "cell_type": "code",
   "execution_count": 2,
   "metadata": {},
   "outputs": [],
   "source": [
    "def search_images_ddg(term, max_images):\n",
    "    \"Search for `term` with DuckDuckGo and return a unique urls of about `max_images` images\"\n",
    "    \n",
    "    assert max_images<1000\n",
    "    \n",
    "    url = 'https://duckduckgo.com/'\n",
    "    res = urlread(url,data={'q':term})\n",
    "    searchObj = re.search(r'vqd=([\\d-]+)\\&', res)\n",
    "    assert searchObj\n",
    "    \n",
    "    requestUrl = url + 'i.js'\n",
    "    params = dict(l='us-en', o='json', q=term, vqd=searchObj.group(1), f=',,,', p='1', v7exp='a')\n",
    "    urls,data = set(),{'next':1}\n",
    "    \n",
    "    while len(urls)<max_images and 'next' in data:\n",
    "        try:\n",
    "            data = urljson(requestUrl,data=params)\n",
    "            urls.update(L(data['results']).itemgot('image'))\n",
    "            requestUrl = url + data['next']\n",
    "        except (URLError,HTTPError): pass\n",
    "        time.sleep(0.2)\n",
    "    \n",
    "    return L(urls)"
   ]
  },
  {
   "cell_type": "code",
   "execution_count": 3,
   "metadata": {},
   "outputs": [],
   "source": [
    "# Define a list of my favorite avengers\n",
    "animals = L([\"cats\", \"horses\", \"tigers\", \"frogs\"])"
   ]
  },
  {
   "cell_type": "code",
   "execution_count": 4,
   "metadata": {},
   "outputs": [
    {
     "data": {
      "text/html": [
       "\n",
       "    <div>\n",
       "        <style>\n",
       "            /* Turns off some styling */\n",
       "            progress {\n",
       "                /* gets rid of default border in Firefox and Opera. */\n",
       "                border: none;\n",
       "                /* Needs to be in here for Safari polyfill so background images work as expected. */\n",
       "                background-size: auto;\n",
       "            }\n",
       "            .progress-bar-interrupted, .progress-bar-interrupted::-webkit-progress-bar {\n",
       "                background: #F44336;\n",
       "            }\n",
       "        </style>\n",
       "      <progress value='4' class='' max='4' style='width:300px; height:20px; vertical-align: middle;'></progress>\n",
       "      100.00% [4/4 00:04<00:00 Extracting image links]\n",
       "    </div>\n",
       "    "
      ],
      "text/plain": [
       "<IPython.core.display.HTML object>"
      ]
     },
     "metadata": {},
     "output_type": "display_data"
    }
   ],
   "source": [
    "# Define a dictionary which maps all the avengers to their respective links as returned \n",
    "# from the function above and collect data from the same\n",
    "animalsLinks = {}\n",
    "for animal in progress_bar(animals, comment = \"Extracting image links\"):\n",
    "    animalsLinks[animal] = search_images_ddg(animal, max_images = 64)"
   ]
  },
  {
   "cell_type": "code",
   "execution_count": 5,
   "metadata": {
    "scrolled": false
   },
   "outputs": [
    {
     "data": {
      "text/html": [
       "\n",
       "    <div>\n",
       "        <style>\n",
       "            /* Turns off some styling */\n",
       "            progress {\n",
       "                /* gets rid of default border in Firefox and Opera. */\n",
       "                border: none;\n",
       "                /* Needs to be in here for Safari polyfill so background images work as expected. */\n",
       "                background-size: auto;\n",
       "            }\n",
       "            .progress-bar-interrupted, .progress-bar-interrupted::-webkit-progress-bar {\n",
       "                background: #F44336;\n",
       "            }\n",
       "        </style>\n",
       "      <progress value='4' class='' max='4' style='width:300px; height:20px; vertical-align: middle;'></progress>\n",
       "      100.00% [4/4 04:15<00:00 Downloading images...]\n",
       "    </div>\n",
       "    "
      ],
      "text/plain": [
       "<IPython.core.display.HTML object>"
      ]
     },
     "metadata": {},
     "output_type": "display_data"
    },
    {
     "name": "stdout",
     "output_type": "stream",
     "text": [
      "\n",
      " Download of http://www.zastavki.com/pictures/originals/2013/Animals___Horses_Thoroughbred_horses_053765_.jpg has failed after 5 retries\n",
      " Fix the download manually:\n",
      "$ mkdir -p /home/vinayak/Animals/horses\n",
      "$ cd /home/vinayak/Animals/horses\n",
      "$ wget -c http://www.zastavki.com/pictures/originals/2013/Animals___Horses_Thoroughbred_horses_053765_.jpg\n",
      "$ tar xf Animals___Horses_Thoroughbred_horses_053765_.jpg\n",
      " And re-run your code once the download is successful\n",
      "\n",
      "\n",
      " Download of http://www.zastavki.com/pictures/originals/2013/Animals___Horses_Trotting_horses_053825_.jpg has failed after 5 retries\n",
      " Fix the download manually:\n",
      "$ mkdir -p /home/vinayak/Animals/horses\n",
      "$ cd /home/vinayak/Animals/horses\n",
      "$ wget -c http://www.zastavki.com/pictures/originals/2013/Animals___Horses_Trotting_horses_053825_.jpg\n",
      "$ tar xf Animals___Horses_Trotting_horses_053825_.jpg\n",
      " And re-run your code once the download is successful\n",
      "\n"
     ]
    }
   ],
   "source": [
    "# Now that we have the links for every item, let's download the images\n",
    "path = Path(\"/home/vinayak/Animals\")\n",
    "\n",
    "if not path.exists():\n",
    "    path.mkdir()\n",
    "    for animal in progress_bar(animalsLinks.keys(), comment = \"Downloading images...\"):\n",
    "        dest = (path/animal)\n",
    "        dest.mkdir(exist_ok=True)\n",
    "        results = animalsLinks[animal]\n",
    "        download_images(dest, urls=results, timeout=2)"
   ]
  },
  {
   "cell_type": "code",
   "execution_count": 7,
   "metadata": {},
   "outputs": [
    {
     "name": "stdout",
     "output_type": "stream",
     "text": [
      "cats                : n_image links = 100; downloaded images = 88\n",
      "horses              : n_image links = 100; downloaded images = 87\n",
      "tigers              : n_image links = 100; downloaded images = 85\n",
      "frogs               : n_image links = 100; downloaded images = 86\n"
     ]
    }
   ],
   "source": [
    "# Let's see how many total image links are there v/s how many images got downloaded\n",
    "for animal in animalsLinks.keys():\n",
    "    downloaded_images = get_image_files(path/animal)\n",
    "    print(f\"{animal:<20}: n_image links = {len(animalsLinks[animal])}; downloaded images = {len(downloaded_images)}\")"
   ]
  },
  {
   "cell_type": "code",
   "execution_count": 8,
   "metadata": {},
   "outputs": [
    {
     "data": {
      "text/plain": [
       "(#346) [Path('/home/vinayak/Animals/horses/00000057.jpg'),Path('/home/vinayak/Animals/horses/00000045.jpg'),Path('/home/vinayak/Animals/horses/00000047.jpg'),Path('/home/vinayak/Animals/horses/00000009.jpg'),Path('/home/vinayak/Animals/horses/00000073.jpg'),Path('/home/vinayak/Animals/horses/00000024.jpg'),Path('/home/vinayak/Animals/horses/00000080.jpg'),Path('/home/vinayak/Animals/horses/00000051.jpg'),Path('/home/vinayak/Animals/horses/00000088.jpg'),Path('/home/vinayak/Animals/horses/00000034.jpg')...]"
      ]
     },
     "execution_count": 8,
     "metadata": {},
     "output_type": "execute_result"
    }
   ],
   "source": [
    "# See how many images got downloaded in all\n",
    "filenames = get_image_files(path)\n",
    "filenames"
   ]
  },
  {
   "cell_type": "code",
   "execution_count": 9,
   "metadata": {},
   "outputs": [
    {
     "data": {
      "text/plain": [
       "(#0) []"
      ]
     },
     "execution_count": 9,
     "metadata": {},
     "output_type": "execute_result"
    }
   ],
   "source": [
    "# Check the images out of the downloaded images which were corrupt/ couldn't be downloaded etc.\n",
    "failed = verify_images(filenames)\n",
    "failed"
   ]
  },
  {
   "cell_type": "code",
   "execution_count": 10,
   "metadata": {},
   "outputs": [],
   "source": [
    "# Delete the images which were corrupt/weren't downloaded properly\n",
    "failed.map(Path.unlink);"
   ]
  },
  {
   "cell_type": "markdown",
   "metadata": {},
   "source": [
    "This is how we can use fastai helper functions along with basic python datastructures to create our very own dataset for training."
   ]
  }
 ],
 "metadata": {
  "kernelspec": {
   "display_name": "Python 3",
   "language": "python",
   "name": "python3"
  },
  "language_info": {
   "codemirror_mode": {
    "name": "ipython",
    "version": 3
   },
   "file_extension": ".py",
   "mimetype": "text/x-python",
   "name": "python",
   "nbconvert_exporter": "python",
   "pygments_lexer": "ipython3",
   "version": "3.8.8"
  },
  "latex_envs": {
   "LaTeX_envs_menu_present": true,
   "autoclose": false,
   "autocomplete": true,
   "bibliofile": "biblio.bib",
   "cite_by": "apalike",
   "current_citInitial": 1,
   "eqLabelWithNumbers": true,
   "eqNumInitial": 1,
   "hotkeys": {
    "equation": "Ctrl-E",
    "itemize": "Ctrl-I"
   },
   "labels_anchors": false,
   "latex_user_defs": false,
   "report_style_numbering": false,
   "user_envs_cfg": false
  }
 },
 "nbformat": 4,
 "nbformat_minor": 4
}
