{
 "cells": [
  {
   "cell_type": "code",
   "execution_count": 8,
   "metadata": {},
   "outputs": [],
   "source": [
    "from fastai.vision.all import *\n",
    "import PIL.Image"
   ]
  },
  {
   "cell_type": "code",
   "execution_count": 18,
   "metadata": {},
   "outputs": [],
   "source": [
    "# Open an image\n",
    "i1 = PIL.Image.open(\"/home/vinayak/Desktop/i1.png\").convert('RGB')"
   ]
  },
  {
   "cell_type": "code",
   "execution_count": 29,
   "metadata": {},
   "outputs": [],
   "source": [
    "# Accessing weights (and biases) of conv layer\n",
    "c1 = nn.Conv2d(3, 10, (5, 5)).state_dict()['weight']"
   ]
  },
  {
   "cell_type": "code",
   "execution_count": 30,
   "metadata": {},
   "outputs": [
    {
     "data": {
      "text/plain": [
       "torch.Size([10, 3, 5, 5])"
      ]
     },
     "execution_count": 30,
     "metadata": {},
     "output_type": "execute_result"
    }
   ],
   "source": [
    "# How does it look, a convolutional kernel\n",
    "c1.shape"
   ]
  },
  {
   "cell_type": "code",
   "execution_count": 35,
   "metadata": {},
   "outputs": [
    {
     "data": {
      "text/plain": [
       "tensor([[[ 0.0675, -0.0509, -0.1092, -0.0358, -0.0899],\n",
       "         [-0.0134,  0.0515, -0.0097,  0.0579,  0.0372],\n",
       "         [-0.0673,  0.0036,  0.0859,  0.0949, -0.0306],\n",
       "         [-0.0823, -0.0032, -0.0080,  0.0595,  0.0859],\n",
       "         [ 0.0845, -0.1106,  0.0994,  0.0659,  0.0292]],\n",
       "\n",
       "        [[ 0.0514, -0.0926, -0.0267, -0.0503, -0.0511],\n",
       "         [-0.0931, -0.0029, -0.0372, -0.0895,  0.0335],\n",
       "         [-0.0738,  0.1122,  0.0498,  0.0635,  0.0117],\n",
       "         [ 0.0848,  0.0630, -0.0796,  0.0632,  0.1114],\n",
       "         [-0.0783,  0.1146,  0.0294, -0.0692,  0.0724]],\n",
       "\n",
       "        [[ 0.0144, -0.0462, -0.0410, -0.0291, -0.0703],\n",
       "         [ 0.0103,  0.0266,  0.0124,  0.0005, -0.0975],\n",
       "         [ 0.0575, -0.0175, -0.0805,  0.0050, -0.0864],\n",
       "         [-0.0722, -0.1129, -0.0620,  0.0307, -0.0310],\n",
       "         [-0.0976, -0.0207,  0.0244, -0.0306, -0.0169]]])"
      ]
     },
     "execution_count": 35,
     "metadata": {},
     "output_type": "execute_result"
    }
   ],
   "source": [
    "# One kernel in particular\n",
    "c1[1, :, :, :]"
   ]
  },
  {
   "cell_type": "code",
   "execution_count": 43,
   "metadata": {},
   "outputs": [
    {
     "data": {
      "text/plain": [
       "torch.Size([649, 768, 3])"
      ]
     },
     "execution_count": 43,
     "metadata": {},
     "output_type": "execute_result"
    }
   ],
   "source": [
    "# Default image tensor shape\n",
    "tensor(i1).shape"
   ]
  },
  {
   "cell_type": "code",
   "execution_count": 80,
   "metadata": {},
   "outputs": [],
   "source": [
    "# NCHW format\n",
    "# Convert image to tensor\n",
    "# Add axis in 0th postition\n",
    "# Swap the last channel and 0th position axes\n",
    "# Drop the unwanted swapped last axis\n",
    "# Unsqueeze the axis on the 0th position for batch dimension\n",
    "b1 = tensor(i1).\\\n",
    "     unsqueeze(0).\\\n",
    "     transpose(0, -1).\\\n",
    "     squeeze(-1).\\\n",
    "     unsqueeze(0).\\\n",
    "     float()"
   ]
  },
  {
   "cell_type": "code",
   "execution_count": 83,
   "metadata": {},
   "outputs": [
    {
     "data": {
      "text/plain": [
       "torch.Size([1, 3, 649, 768])"
      ]
     },
     "execution_count": 83,
     "metadata": {},
     "output_type": "execute_result"
    }
   ],
   "source": [
    "b1.shape"
   ]
  },
  {
   "cell_type": "code",
   "execution_count": 81,
   "metadata": {},
   "outputs": [],
   "source": [
    "k1 = c1[1, :, :, :]"
   ]
  },
  {
   "cell_type": "code",
   "execution_count": 82,
   "metadata": {},
   "outputs": [
    {
     "data": {
      "text/plain": [
       "torch.Size([3, 5, 5])"
      ]
     },
     "execution_count": 82,
     "metadata": {},
     "output_type": "execute_result"
    }
   ],
   "source": [
    "k1.shape"
   ]
  },
  {
   "cell_type": "code",
   "execution_count": 115,
   "metadata": {},
   "outputs": [
    {
     "data": {
      "text/plain": [
       "torch.Size([1, 1, 645, 764])"
      ]
     },
     "execution_count": 115,
     "metadata": {},
     "output_type": "execute_result"
    }
   ],
   "source": [
    "p = F.conv2d(b1, weight = k1.unsqueeze(0))\n",
    "p.shape"
   ]
  },
  {
   "cell_type": "code",
   "execution_count": 110,
   "metadata": {},
   "outputs": [],
   "source": [
    "# 0th kernel across 0th position\n",
    "m1 = F.conv2d(b1[:, 0, :, :].unsqueeze(1), k1[0].unsqueeze(0).unsqueeze(0))"
   ]
  },
  {
   "cell_type": "code",
   "execution_count": 111,
   "metadata": {},
   "outputs": [],
   "source": [
    "# 1st kernel across the 1st channel\n",
    "m2 = F.conv2d(b1[:, 1, :, :].unsqueeze(1), k1[1].unsqueeze(0).unsqueeze(0))"
   ]
  },
  {
   "cell_type": "code",
   "execution_count": 112,
   "metadata": {},
   "outputs": [],
   "source": [
    "# 2nd kernel across 2nd position\n",
    "m3 = F.conv2d(b1[:, 2, :, :].unsqueeze(1), k1[2].unsqueeze(0).unsqueeze(0))"
   ]
  },
  {
   "cell_type": "code",
   "execution_count": 117,
   "metadata": {},
   "outputs": [
    {
     "data": {
      "text/plain": [
       "tensor([[[[-102.4522, -102.4522, -102.4522,  ..., -102.4522, -102.4522,\n",
       "           -102.4522],\n",
       "          [-102.4522, -102.4522, -102.4522,  ..., -102.4522, -102.4522,\n",
       "           -102.4522],\n",
       "          [-102.4522, -102.4522, -102.4522,  ..., -102.4522, -102.4522,\n",
       "           -102.4522],\n",
       "          ...,\n",
       "          [-102.4522, -102.4522, -102.4522,  ..., -102.4522, -102.4522,\n",
       "           -102.4522],\n",
       "          [-102.4522, -102.4522, -102.4522,  ..., -102.4522, -102.4522,\n",
       "           -102.4522],\n",
       "          [-102.4522, -102.4522, -102.4522,  ..., -102.4522, -102.4522,\n",
       "           -102.4522]]]])"
      ]
     },
     "execution_count": 117,
     "metadata": {},
     "output_type": "execute_result"
    }
   ],
   "source": [
    "(m1 + m2 + m3)"
   ]
  },
  {
   "cell_type": "code",
   "execution_count": 116,
   "metadata": {},
   "outputs": [
    {
     "data": {
      "text/plain": [
       "tensor([[[[-102.4523, -102.4523, -102.4523,  ..., -102.4523, -102.4523,\n",
       "           -102.4523],\n",
       "          [-102.4523, -102.4523, -102.4523,  ..., -102.4523, -102.4523,\n",
       "           -102.4523],\n",
       "          [-102.4523, -102.4523, -102.4523,  ..., -102.4523, -102.4523,\n",
       "           -102.4523],\n",
       "          ...,\n",
       "          [-102.4523, -102.4523, -102.4523,  ..., -102.4523, -102.4523,\n",
       "           -102.4523],\n",
       "          [-102.4523, -102.4523, -102.4523,  ..., -102.4523, -102.4523,\n",
       "           -102.4523],\n",
       "          [-102.4523, -102.4523, -102.4523,  ..., -102.4523, -102.4523,\n",
       "           -102.4523]]]])"
      ]
     },
     "execution_count": 116,
     "metadata": {},
     "output_type": "execute_result"
    }
   ],
   "source": [
    "p"
   ]
  },
  {
   "cell_type": "code",
   "execution_count": 121,
   "metadata": {
    "scrolled": true
   },
   "outputs": [
    {
     "data": {
      "text/plain": [
       "ResNet(\n",
       "  (conv1): Conv2d(3, 64, kernel_size=(7, 7), stride=(2, 2), padding=(3, 3), bias=False)\n",
       "  (bn1): BatchNorm2d(64, eps=1e-05, momentum=0.1, affine=True, track_running_stats=True)\n",
       "  (relu): ReLU(inplace=True)\n",
       "  (maxpool): MaxPool2d(kernel_size=3, stride=2, padding=1, dilation=1, ceil_mode=False)\n",
       "  (layer1): Sequential(\n",
       "    (0): BasicBlock(\n",
       "      (conv1): Conv2d(64, 64, kernel_size=(3, 3), stride=(1, 1), padding=(1, 1), bias=False)\n",
       "      (bn1): BatchNorm2d(64, eps=1e-05, momentum=0.1, affine=True, track_running_stats=True)\n",
       "      (relu): ReLU(inplace=True)\n",
       "      (conv2): Conv2d(64, 64, kernel_size=(3, 3), stride=(1, 1), padding=(1, 1), bias=False)\n",
       "      (bn2): BatchNorm2d(64, eps=1e-05, momentum=0.1, affine=True, track_running_stats=True)\n",
       "    )\n",
       "    (1): BasicBlock(\n",
       "      (conv1): Conv2d(64, 64, kernel_size=(3, 3), stride=(1, 1), padding=(1, 1), bias=False)\n",
       "      (bn1): BatchNorm2d(64, eps=1e-05, momentum=0.1, affine=True, track_running_stats=True)\n",
       "      (relu): ReLU(inplace=True)\n",
       "      (conv2): Conv2d(64, 64, kernel_size=(3, 3), stride=(1, 1), padding=(1, 1), bias=False)\n",
       "      (bn2): BatchNorm2d(64, eps=1e-05, momentum=0.1, affine=True, track_running_stats=True)\n",
       "    )\n",
       "  )\n",
       "  (layer2): Sequential(\n",
       "    (0): BasicBlock(\n",
       "      (conv1): Conv2d(64, 128, kernel_size=(3, 3), stride=(2, 2), padding=(1, 1), bias=False)\n",
       "      (bn1): BatchNorm2d(128, eps=1e-05, momentum=0.1, affine=True, track_running_stats=True)\n",
       "      (relu): ReLU(inplace=True)\n",
       "      (conv2): Conv2d(128, 128, kernel_size=(3, 3), stride=(1, 1), padding=(1, 1), bias=False)\n",
       "      (bn2): BatchNorm2d(128, eps=1e-05, momentum=0.1, affine=True, track_running_stats=True)\n",
       "      (downsample): Sequential(\n",
       "        (0): Conv2d(64, 128, kernel_size=(1, 1), stride=(2, 2), bias=False)\n",
       "        (1): BatchNorm2d(128, eps=1e-05, momentum=0.1, affine=True, track_running_stats=True)\n",
       "      )\n",
       "    )\n",
       "    (1): BasicBlock(\n",
       "      (conv1): Conv2d(128, 128, kernel_size=(3, 3), stride=(1, 1), padding=(1, 1), bias=False)\n",
       "      (bn1): BatchNorm2d(128, eps=1e-05, momentum=0.1, affine=True, track_running_stats=True)\n",
       "      (relu): ReLU(inplace=True)\n",
       "      (conv2): Conv2d(128, 128, kernel_size=(3, 3), stride=(1, 1), padding=(1, 1), bias=False)\n",
       "      (bn2): BatchNorm2d(128, eps=1e-05, momentum=0.1, affine=True, track_running_stats=True)\n",
       "    )\n",
       "  )\n",
       "  (layer3): Sequential(\n",
       "    (0): BasicBlock(\n",
       "      (conv1): Conv2d(128, 256, kernel_size=(3, 3), stride=(2, 2), padding=(1, 1), bias=False)\n",
       "      (bn1): BatchNorm2d(256, eps=1e-05, momentum=0.1, affine=True, track_running_stats=True)\n",
       "      (relu): ReLU(inplace=True)\n",
       "      (conv2): Conv2d(256, 256, kernel_size=(3, 3), stride=(1, 1), padding=(1, 1), bias=False)\n",
       "      (bn2): BatchNorm2d(256, eps=1e-05, momentum=0.1, affine=True, track_running_stats=True)\n",
       "      (downsample): Sequential(\n",
       "        (0): Conv2d(128, 256, kernel_size=(1, 1), stride=(2, 2), bias=False)\n",
       "        (1): BatchNorm2d(256, eps=1e-05, momentum=0.1, affine=True, track_running_stats=True)\n",
       "      )\n",
       "    )\n",
       "    (1): BasicBlock(\n",
       "      (conv1): Conv2d(256, 256, kernel_size=(3, 3), stride=(1, 1), padding=(1, 1), bias=False)\n",
       "      (bn1): BatchNorm2d(256, eps=1e-05, momentum=0.1, affine=True, track_running_stats=True)\n",
       "      (relu): ReLU(inplace=True)\n",
       "      (conv2): Conv2d(256, 256, kernel_size=(3, 3), stride=(1, 1), padding=(1, 1), bias=False)\n",
       "      (bn2): BatchNorm2d(256, eps=1e-05, momentum=0.1, affine=True, track_running_stats=True)\n",
       "    )\n",
       "  )\n",
       "  (layer4): Sequential(\n",
       "    (0): BasicBlock(\n",
       "      (conv1): Conv2d(256, 512, kernel_size=(3, 3), stride=(2, 2), padding=(1, 1), bias=False)\n",
       "      (bn1): BatchNorm2d(512, eps=1e-05, momentum=0.1, affine=True, track_running_stats=True)\n",
       "      (relu): ReLU(inplace=True)\n",
       "      (conv2): Conv2d(512, 512, kernel_size=(3, 3), stride=(1, 1), padding=(1, 1), bias=False)\n",
       "      (bn2): BatchNorm2d(512, eps=1e-05, momentum=0.1, affine=True, track_running_stats=True)\n",
       "      (downsample): Sequential(\n",
       "        (0): Conv2d(256, 512, kernel_size=(1, 1), stride=(2, 2), bias=False)\n",
       "        (1): BatchNorm2d(512, eps=1e-05, momentum=0.1, affine=True, track_running_stats=True)\n",
       "      )\n",
       "    )\n",
       "    (1): BasicBlock(\n",
       "      (conv1): Conv2d(512, 512, kernel_size=(3, 3), stride=(1, 1), padding=(1, 1), bias=False)\n",
       "      (bn1): BatchNorm2d(512, eps=1e-05, momentum=0.1, affine=True, track_running_stats=True)\n",
       "      (relu): ReLU(inplace=True)\n",
       "      (conv2): Conv2d(512, 512, kernel_size=(3, 3), stride=(1, 1), padding=(1, 1), bias=False)\n",
       "      (bn2): BatchNorm2d(512, eps=1e-05, momentum=0.1, affine=True, track_running_stats=True)\n",
       "    )\n",
       "  )\n",
       "  (avgpool): AdaptiveAvgPool2d(output_size=(1, 1))\n",
       "  (fc): Linear(in_features=512, out_features=1000, bias=True)\n",
       ")"
      ]
     },
     "execution_count": 121,
     "metadata": {},
     "output_type": "execute_result"
    }
   ],
   "source": [
    "r = resnet18()\n",
    "r"
   ]
  },
  {
   "cell_type": "code",
   "execution_count": 125,
   "metadata": {},
   "outputs": [
    {
     "data": {
      "text/plain": [
       "torch.Size([64, 3, 7, 7])"
      ]
     },
     "execution_count": 125,
     "metadata": {},
     "output_type": "execute_result"
    }
   ],
   "source": [
    "r.conv1.state_dict()[\"weight\"].shape"
   ]
  },
  {
   "cell_type": "code",
   "execution_count": 127,
   "metadata": {},
   "outputs": [
    {
     "data": {
      "text/plain": [
       "tensor([[[ 0.0132,  0.0225,  0.0156,  0.0134, -0.0798, -0.0179,  0.0099],\n",
       "         [-0.0246,  0.0104,  0.0133, -0.0083, -0.0063, -0.0047, -0.0138],\n",
       "         [-0.0100,  0.0117, -0.0221,  0.0495, -0.0066,  0.0348, -0.0357],\n",
       "         [ 0.0227,  0.0227,  0.0319, -0.0081, -0.0353, -0.0204, -0.0070],\n",
       "         [ 0.0559,  0.0416, -0.0362, -0.0068,  0.0162,  0.0341,  0.0243],\n",
       "         [-0.0244,  0.0027, -0.0644, -0.0403,  0.0371, -0.0118,  0.0355],\n",
       "         [ 0.0390,  0.0308, -0.0239, -0.0263,  0.0377,  0.0097,  0.0148]],\n",
       "\n",
       "        [[ 0.0072,  0.0077, -0.0126,  0.0213, -0.0059,  0.0057,  0.0107],\n",
       "         [ 0.0580,  0.0121,  0.0336, -0.0508, -0.0073,  0.0149, -0.0018],\n",
       "         [-0.0106,  0.0351, -0.0121,  0.0151, -0.0207, -0.0151, -0.0175],\n",
       "         [ 0.0238,  0.0175,  0.0049, -0.0130,  0.0229, -0.0026,  0.0412],\n",
       "         [-0.0224, -0.0172, -0.0011,  0.0390,  0.0310, -0.0087, -0.0072],\n",
       "         [ 0.0275,  0.0072,  0.0149,  0.0123, -0.0177, -0.0111, -0.0377],\n",
       "         [ 0.0168,  0.0043,  0.0250,  0.0439,  0.0282, -0.0317, -0.0130]],\n",
       "\n",
       "        [[-0.0332,  0.0335, -0.0103, -0.0269, -0.0312, -0.0098, -0.0306],\n",
       "         [-0.0024,  0.0417, -0.0294, -0.0064,  0.0259,  0.0066,  0.0830],\n",
       "         [ 0.0147, -0.0371,  0.0105,  0.0196,  0.0399,  0.0250,  0.0237],\n",
       "         [ 0.0134,  0.0365, -0.0308, -0.0266, -0.0077, -0.0236,  0.0068],\n",
       "         [ 0.0201, -0.0382,  0.0418, -0.0010, -0.0130,  0.0394, -0.0018],\n",
       "         [ 0.0131, -0.0892,  0.0176,  0.0166, -0.0397,  0.0237, -0.0049],\n",
       "         [ 0.0316, -0.0251, -0.0146,  0.0060, -0.0051,  0.0133, -0.0126]]])"
      ]
     },
     "execution_count": 127,
     "metadata": {},
     "output_type": "execute_result"
    }
   ],
   "source": [
    "r.conv1.state_dict()[\"weight\"][0, :, :, :]"
   ]
  }
 ],
 "metadata": {
  "kernelspec": {
   "display_name": "Python 3",
   "language": "python",
   "name": "python3"
  },
  "language_info": {
   "codemirror_mode": {
    "name": "ipython",
    "version": 3
   },
   "file_extension": ".py",
   "mimetype": "text/x-python",
   "name": "python",
   "nbconvert_exporter": "python",
   "pygments_lexer": "ipython3",
   "version": "3.8.8"
  },
  "latex_envs": {
   "LaTeX_envs_menu_present": true,
   "autoclose": false,
   "autocomplete": true,
   "bibliofile": "biblio.bib",
   "cite_by": "apalike",
   "current_citInitial": 1,
   "eqLabelWithNumbers": true,
   "eqNumInitial": 1,
   "hotkeys": {
    "equation": "Ctrl-E",
    "itemize": "Ctrl-I"
   },
   "labels_anchors": false,
   "latex_user_defs": false,
   "report_style_numbering": false,
   "user_envs_cfg": false
  },
  "toc": {
   "base_numbering": 1,
   "nav_menu": {},
   "number_sections": true,
   "sideBar": true,
   "skip_h1_title": false,
   "title_cell": "Table of Contents",
   "title_sidebar": "Contents",
   "toc_cell": false,
   "toc_position": {},
   "toc_section_display": true,
   "toc_window_display": false
  },
  "varInspector": {
   "cols": {
    "lenName": 16,
    "lenType": 16,
    "lenVar": 40
   },
   "kernels_config": {
    "python": {
     "delete_cmd_postfix": "",
     "delete_cmd_prefix": "del ",
     "library": "var_list.py",
     "varRefreshCmd": "print(var_dic_list())"
    },
    "r": {
     "delete_cmd_postfix": ") ",
     "delete_cmd_prefix": "rm(",
     "library": "var_list.r",
     "varRefreshCmd": "cat(var_dic_list()) "
    }
   },
   "types_to_exclude": [
    "module",
    "function",
    "builtin_function_or_method",
    "instance",
    "_Feature"
   ],
   "window_display": false
  }
 },
 "nbformat": 4,
 "nbformat_minor": 4
}
