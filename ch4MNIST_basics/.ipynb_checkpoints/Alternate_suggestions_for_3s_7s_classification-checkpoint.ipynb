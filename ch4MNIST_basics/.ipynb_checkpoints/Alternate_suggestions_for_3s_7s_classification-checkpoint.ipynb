{
 "cells": [
  {
   "cell_type": "markdown",
   "metadata": {},
   "source": [
    "# Get the data"
   ]
  },
  {
   "cell_type": "code",
   "execution_count": 1,
   "metadata": {},
   "outputs": [],
   "source": [
    "from fastai import *\n",
    "from fastai.vision.all import *\n",
    "import seaborn as sns\n",
    "\n",
    "matplotlib.rc('image', cmap='Greys')\n",
    "\n",
    "import warnings\n",
    "warnings.filterwarnings('ignore')"
   ]
  },
  {
   "cell_type": "code",
   "execution_count": 2,
   "metadata": {},
   "outputs": [],
   "source": [
    "# Get the threes sevens MNIST Sample data\n",
    "path = untar_data(URLs.MNIST_SAMPLE)"
   ]
  },
  {
   "cell_type": "code",
   "execution_count": 3,
   "metadata": {},
   "outputs": [
    {
     "data": {
      "text/plain": [
       "(#3) [Path('/home/vinayak/.fastai/data/mnist_sample/train'),Path('/home/vinayak/.fastai/data/mnist_sample/labels.csv'),Path('/home/vinayak/.fastai/data/mnist_sample/valid')]"
      ]
     },
     "execution_count": 3,
     "metadata": {},
     "output_type": "execute_result"
    }
   ],
   "source": [
    "# Have a look at the contents of the data\n",
    "path.ls()"
   ]
  },
  {
   "cell_type": "code",
   "execution_count": 4,
   "metadata": {},
   "outputs": [],
   "source": [
    "# Get all the file names for different categories in 3s and 7s folders\n",
    "train_3s = (path/\"train\"/\"3\").ls()\n",
    "valid_3s = (path/\"valid\"/\"3\").ls()\n",
    "\n",
    "train_7s = (path/\"train\"/\"7\").ls()\n",
    "valid_7s = (path/\"valid\"/\"7\").ls()"
   ]
  },
  {
   "cell_type": "code",
   "execution_count": 5,
   "metadata": {},
   "outputs": [
    {
     "data": {
      "text/plain": [
       "(6131, 1010)"
      ]
     },
     "execution_count": 5,
     "metadata": {},
     "output_type": "execute_result"
    }
   ],
   "source": [
    "len(train_3s), len(valid_3s)"
   ]
  },
  {
   "cell_type": "code",
   "execution_count": 6,
   "metadata": {},
   "outputs": [
    {
     "data": {
      "text/plain": [
       "(6265, 1028)"
      ]
     },
     "execution_count": 6,
     "metadata": {},
     "output_type": "execute_result"
    }
   ],
   "source": [
    "len(train_7s), len(valid_7s)"
   ]
  },
  {
   "cell_type": "markdown",
   "metadata": {},
   "source": [
    "# Look at sample images"
   ]
  },
  {
   "cell_type": "code",
   "execution_count": 7,
   "metadata": {},
   "outputs": [],
   "source": [
    "# Randomly sample a three and a seven\n",
    "random.seed(42)\n",
    "random3 = random.sample(train_3s, 1)[0]\n",
    "random7 = random.sample(train_7s, 1)[0]"
   ]
  },
  {
   "cell_type": "code",
   "execution_count": 8,
   "metadata": {},
   "outputs": [],
   "source": [
    "# Define a function to open an image and convert it to a tensor\n",
    "def tensorify_image(x: Path): return tensor(Image.open(x))"
   ]
  },
  {
   "cell_type": "code",
   "execution_count": 9,
   "metadata": {},
   "outputs": [],
   "source": [
    "random3_image = tensorify_image(random3)\n",
    "random7_image = tensorify_image(random7)"
   ]
  },
  {
   "cell_type": "markdown",
   "metadata": {},
   "source": [
    "## Inspect a random 3 image"
   ]
  },
  {
   "cell_type": "code",
   "execution_count": 10,
   "metadata": {},
   "outputs": [],
   "source": [
    "# Slice into the first 14 rows to get the top half of the image \n",
    "top = random3_image[:14, :]"
   ]
  },
  {
   "cell_type": "code",
   "execution_count": 11,
   "metadata": {},
   "outputs": [],
   "source": [
    "# Slice into the bottom 14 rows to get the bottom half of the image\n",
    "# Then flip it upside down \n",
    "bottom = random3_image[14:, :]\n",
    "flip_bottom = torch.flip(bottom, [0])"
   ]
  },
  {
   "cell_type": "code",
   "execution_count": 12,
   "metadata": {},
   "outputs": [
    {
     "data": {
      "text/plain": [
       "(torch.Size([14, 28]), torch.Size([14, 28]), torch.Size([14, 28]))"
      ]
     },
     "execution_count": 12,
     "metadata": {},
     "output_type": "execute_result"
    }
   ],
   "source": [
    "# Inspect the shape of the three tensors\n",
    "top.shape, bottom.shape, flip_bottom.shape"
   ]
  },
  {
   "cell_type": "markdown",
   "metadata": {},
   "source": [
    "**Visualize the top, the bottom and the top overlaid on the flipped bottom images; for reproducibility with random7 image, write it as a function.**"
   ]
  },
  {
   "cell_type": "code",
   "execution_count": 13,
   "metadata": {},
   "outputs": [],
   "source": [
    "def visualize(img_pth: Path, binarize: bool = False):\n",
    "    # Read the image as a tensor\n",
    "    img = tensorify_image(img_pth)\n",
    "    \n",
    "    # If binarize, we shall convert the image to a binary image\n",
    "    if binarize: img = torch.where(img > 0, 1, 0)\n",
    "    \n",
    "    # Slice the image into top, bottom and bottom flipped\n",
    "    top = img[:14, :]\n",
    "    bottom = img[14:, :]\n",
    "    flip_bottom = torch.flip(bottom, [0])\n",
    "    \n",
    "    # Create a grid of three axes to show the top half, bottom half and the flipped bottom overlaid on the top half\n",
    "    fig, ax = plt.subplots(1, 4, figsize = (20, 10))\n",
    "    \n",
    "    # Create a function to format an axis object in matplotlib to show only relevant stuff and remove other info\n",
    "    def format_axis(ax:object, title:str):\n",
    "        ax.set_xticks([])\n",
    "        ax.set_yticks([])\n",
    "        ax.set_title(title)\n",
    "        \n",
    "    # Show top, bottom and flipped bottom\n",
    "    ax[0].imshow(Image.fromarray(top.numpy().astype(np.uint8)), alpha = 0.7)\n",
    "    ax[1].imshow(Image.fromarray(bottom.numpy().astype(np.uint8)), alpha = 0.7)\n",
    "    ax[2].imshow(Image.fromarray(flip_bottom.numpy().astype(np.uint8)), alpha = 0.7)\n",
    "    \n",
    "    # Show the overlay of top and flipped bottom on top\n",
    "    ax[3].imshow(Image.fromarray(top.numpy().astype(np.uint8)), alpha = 0.7)\n",
    "    ax[3].imshow(Image.fromarray(flip_bottom.numpy().astype(np.uint8)), alpha = 0.7)\n",
    "    \n",
    "    # Format the axes to make the objects presentable\n",
    "    for axis, type_ in zip(ax, [\"top\", \"bottom\", \"flipped bottom\", \"flipped bottom on top\"]): format_axis(axis, type_)"
   ]
  },
  {
   "cell_type": "code",
   "execution_count": 41,
   "metadata": {},
   "outputs": [
    {
     "data": {
      "image/png": "[encoded data removed]",
      "text/plain": [
       "<Figure size 1440x720 with 4 Axes>"
      ]
     },
     "metadata": {},
     "output_type": "display_data"
    }
   ],
   "source": [
    "visualize(random3, True)"
   ]
  },
  {
   "cell_type": "code",
   "execution_count": 42,
   "metadata": {},
   "outputs": [
    {
     "data": {
      "image/png": "[encoded data removed]",
      "text/plain": [
       "<Figure size 1440x720 with 4 Axes>"
      ]
     },
     "metadata": {},
     "output_type": "display_data"
    }
   ],
   "source": [
    "visualize(random7, True)"
   ]
  },
  {
   "cell_type": "markdown",
   "metadata": {},
   "source": [
    "# Take pixelwise differences of illuminations"
   ]
  },
  {
   "cell_type": "code",
   "execution_count": 16,
   "metadata": {},
   "outputs": [],
   "source": [
    "def distance(a, b): return ((a - b) ** 2.).mean().sqrt().item()"
   ]
  },
  {
   "cell_type": "code",
   "execution_count": 17,
   "metadata": {},
   "outputs": [],
   "source": [
    "def symmetric_quantifier(i):\n",
    "    top = i[:14, :]\n",
    "    \n",
    "    bottom = i[14:, :]\n",
    "    flip_bottom = torch.flip(bottom, [0])\n",
    "    \n",
    "    return distance(top, flip_bottom)"
   ]
  },
  {
   "cell_type": "code",
   "execution_count": 18,
   "metadata": {},
   "outputs": [],
   "source": [
    "train_3s_tensors = [tensorify_image(x) for x in train_3s]\n",
    "train_7s_tensors = [tensorify_image(x) for x in train_7s]\n",
    "\n",
    "valid_3s_tensors = [tensorify_image(x) for x in valid_3s]\n",
    "valid_7s_tensors = [tensorify_image(x) for x in valid_7s]"
   ]
  },
  {
   "cell_type": "code",
   "execution_count": 19,
   "metadata": {},
   "outputs": [],
   "source": [
    "train_3s_dists = [symmetric_quantifier(x) for x in train_3s_tensors]\n",
    "train_7s_dists = [symmetric_quantifier(x) for x in train_7s_tensors]"
   ]
  },
  {
   "cell_type": "code",
   "execution_count": 20,
   "metadata": {},
   "outputs": [
    {
     "name": "stdout",
     "output_type": "stream",
     "text": [
      "Mean : 83.72, Std: 10.17 of distribution for 3s distances.\n",
      "Mean : 81.53, Std: 10.0 of distribution for 7s distances.\n"
     ]
    }
   ],
   "source": [
    "mean_dist_3s, std_dist_3s = np.mean(train_3s_dists), np.std(train_3s_dists)\n",
    "mean_dist_7s, std_dist_7s = np.mean(train_7s_dists), np.std(train_7s_dists)\n",
    "\n",
    "print(f\"Mean : {round(mean_dist_3s, 2)}, Std: {round(std_dist_3s, 2)} of distribution for 3s distances.\")\n",
    "print(f\"Mean : {round(mean_dist_7s, 2)}, Std: {round(std_dist_7s, 2)} of distribution for 7s distances.\")"
   ]
  },
  {
   "cell_type": "code",
   "execution_count": 21,
   "metadata": {},
   "outputs": [
    {
     "data": {
      "image/png": "[encoded data removed]",
      "text/plain": [
       "<Figure size 576x360 with 1 Axes>"
      ]
     },
     "metadata": {
      "needs_background": "light"
     },
     "output_type": "display_data"
    }
   ],
   "source": [
    "fig, ax = plt.subplots(1, 1, figsize = (8, 5))\n",
    "sns.distplot(train_3s_dists, ax = ax)\n",
    "sns.distplot(train_7s_dists, ax = ax)\n",
    "ax.legend([\"threes_distribution\", \"sevens_distribution\"], bbox_to_anchor=(0.65, 0.75));"
   ]
  },
  {
   "cell_type": "markdown",
   "metadata": {},
   "source": [
    "These two distributions are very close to each other; had there been some seperation between the two, we could've thought of using this metric of symmetric distance as a measure of classification. But to no effect.\n",
    "\n",
    "We can now try one more thing which is we could binarize the input images and compute the similarity score between top and bottom halves based on the % of 255s matched in the positions..."
   ]
  },
  {
   "cell_type": "markdown",
   "metadata": {},
   "source": [
    "# Binarizing the image and computing a similarity score"
   ]
  },
  {
   "cell_type": "code",
   "execution_count": 22,
   "metadata": {},
   "outputs": [],
   "source": [
    "tensor3 = tensorify_image(random3)\n",
    "binarized_tensor3 = torch.where(tensor3 > 127, 1, 0)"
   ]
  },
  {
   "cell_type": "code",
   "execution_count": 23,
   "metadata": {},
   "outputs": [],
   "source": [
    "top = binarized_tensor3[:14, :]\n",
    "bottom = binarized_tensor3[14:, :]\n",
    "flipped_bottom = torch.flip(bottom, [0])"
   ]
  },
  {
   "cell_type": "code",
   "execution_count": 24,
   "metadata": {},
   "outputs": [],
   "source": [
    "def compute_similarity(img_pth: Path):\n",
    "    \n",
    "    # Read the image as a tensor\n",
    "    tensor_image = tensorify_image(img_pth)\n",
    "    \n",
    "    # Binarize the tensorified image\n",
    "    binarized_tensor = torch.where(tensor_image > 0, 1, 0)\n",
    "    \n",
    "    # Get sections of the image\n",
    "    top = binarized_tensor[:14, :]\n",
    "    bottom = binarized_tensor[14:, :]\n",
    "    flipped_bottom = torch.flip(bottom, [0])\n",
    "    \n",
    "    # Add up the two sections\n",
    "    combined_image_tensor = top + flipped_bottom\n",
    "    \n",
    "    # Where both illuminations are 1 in indivisual sections, combined image tensor will\n",
    "    # be 2, so look out for those positions and then get a total of the same\n",
    "    similarity = torch.where(combined_image_tensor == 2, 1, 0).sum().item()\n",
    "    \n",
    "    return similarity"
   ]
  },
  {
   "cell_type": "code",
   "execution_count": 25,
   "metadata": {},
   "outputs": [],
   "source": [
    "train_3s_scores = [compute_similarity(x) for x in train_3s]\n",
    "train_7s_scores = [compute_similarity(x) for x in train_7s]"
   ]
  },
  {
   "cell_type": "code",
   "execution_count": 26,
   "metadata": {},
   "outputs": [
    {
     "name": "stdout",
     "output_type": "stream",
     "text": [
      "Mean : 43.96, Std: 16.95 of distribution for 3s simances.\n",
      "Mean : 27.99, Std: 9.88 of distribution for 7s simances.\n"
     ]
    }
   ],
   "source": [
    "mean_sim_3s, std_sim_3s = np.mean(train_3s_scores), np.std(train_3s_scores)\n",
    "mean_sim_7s, std_sim_7s = np.mean(train_7s_scores), np.std(train_7s_scores)\n",
    "\n",
    "print(f\"Mean : {round(mean_sim_3s, 2)}, Std: {round(std_sim_3s, 2)} of distribution for 3s simances.\")\n",
    "print(f\"Mean : {round(mean_sim_7s, 2)}, Std: {round(std_sim_7s, 2)} of distribution for 7s simances.\")"
   ]
  },
  {
   "cell_type": "code",
   "execution_count": 27,
   "metadata": {},
   "outputs": [
    {
     "data": {
      "image/png": "[encoded data removed]",
      "text/plain": [
       "<Figure size 576x360 with 1 Axes>"
      ]
     },
     "metadata": {
      "needs_background": "light"
     },
     "output_type": "display_data"
    }
   ],
   "source": [
    "fig, ax = plt.subplots(1, 1, figsize = (8, 5))\n",
    "sns.distplot(train_3s_scores, ax = ax)\n",
    "sns.distplot(train_7s_scores, ax = ax)\n",
    "ax.legend([\"threes_distribution\", \"sevens_distribution\"], bbox_to_anchor=(1, 0.75));"
   ]
  },
  {
   "cell_type": "markdown",
   "metadata": {},
   "source": [
    "# Predict using distances and similarities both "
   ]
  },
  {
   "cell_type": "code",
   "execution_count": 28,
   "metadata": {},
   "outputs": [],
   "source": [
    "def check_in_bounds(number: float, bounds: tuple):\n",
    "    if (number < bounds[1]) and (number > bounds[0]): return True\n",
    "    return False\n",
    "\n",
    "def predict_on_binarization_similarity(img_path: Path):\n",
    "    sim = compute_similarity(img_path)\n",
    "    \n",
    "    seven_bounds = (mean_sim_3s - 1 * std_sim_3s, mean_sim_3s - 1 * std_sim_3s)\n",
    "    three_bounds = (mean_sim_7s - 1 * std_sim_7s, mean_sim_7s - 1 * std_sim_7s)\n",
    "    \n",
    "    sevens = check_in_bounds(sim, seven_bounds)\n",
    "    threes = check_in_bounds(sim, three_bounds)\n",
    "    \n",
    "    if sevens == threes: \n",
    "        if abs(sim - mean_sim_3s) < abs(sim - mean_sim_7s): return \"3\"\n",
    "        else: return 7\n",
    "    elif sevens:\n",
    "        return \"7\"\n",
    "    elif threes:\n",
    "        return \"3\"\n",
    "\n",
    "def predict_on_symmetric_quantifier(img_path: Path):\n",
    "    dist = symmetric_quantifier(tensorify_image(img_path))\n",
    "    \n",
    "    seven_bounds = (mean_dist_3s - 1 * std_dist_3s, mean_dist_3s - 1 * std_dist_3s)\n",
    "    three_bounds = (mean_dist_7s - 1 * std_dist_7s, mean_dist_7s - 1 * std_dist_7s)\n",
    "    \n",
    "    sevens = check_in_bounds(dist, seven_bounds)\n",
    "    threes = check_in_bounds(dist, three_bounds)\n",
    "    \n",
    "    if sevens == threes: \n",
    "        if abs(dist - mean_dist_3s) < abs(dist - mean_dist_7s): return \"3\"\n",
    "        else: return 7\n",
    "    elif sevens:\n",
    "        return \"7\"\n",
    "    elif threes:\n",
    "        return \"3\""
   ]
  },
  {
   "cell_type": "code",
   "execution_count": 29,
   "metadata": {},
   "outputs": [],
   "source": [
    "validation_data = valid_3s + valid_7s\n",
    "validation_targets = [x.parts[-2] for x in validation_data]"
   ]
  },
  {
   "cell_type": "code",
   "execution_count": 30,
   "metadata": {},
   "outputs": [],
   "source": [
    "sim_preds = [predict_on_binarization_similarity(x) for x in validation_data]\n",
    "dist_preds = [predict_on_symmetric_quantifier(x) for x in validation_data]"
   ]
  },
  {
   "cell_type": "code",
   "execution_count": 31,
   "metadata": {},
   "outputs": [],
   "source": [
    "def acc(trues, preds): return array([t == p for t, p in zip(trues, preds)]).sum() / len(trues)"
   ]
  },
  {
   "cell_type": "code",
   "execution_count": 32,
   "metadata": {},
   "outputs": [
    {
     "data": {
      "text/plain": [
       "0.3478900883218842"
      ]
     },
     "execution_count": 32,
     "metadata": {},
     "output_type": "execute_result"
    }
   ],
   "source": [
    "acc(sim_preds, validation_targets)"
   ]
  },
  {
   "cell_type": "code",
   "execution_count": 33,
   "metadata": {},
   "outputs": [
    {
     "data": {
      "text/plain": [
       "0.2664376840039254"
      ]
     },
     "execution_count": 33,
     "metadata": {},
     "output_type": "execute_result"
    }
   ],
   "source": [
    "acc(dist_preds, validation_targets)"
   ]
  },
  {
   "cell_type": "markdown",
   "metadata": {},
   "source": [
    "# Check surface area coverage of non-zero pixels"
   ]
  },
  {
   "cell_type": "code",
   "execution_count": 34,
   "metadata": {},
   "outputs": [],
   "source": [
    "def compute_surface_area(img_pth: Path, threshold: int = 0):\n",
    "    \n",
    "    # Read the image as a tensor\n",
    "    tensor_image = tensorify_image(img_pth)\n",
    "    \n",
    "    # Compute the surface coverage of illuminated region\n",
    "    surface_illuminated = torch.where(tensor_image > threshold, 1, 0).sum().item()\n",
    "    \n",
    "    # Compute the surface area occupied\n",
    "    surface_area = surface_illuminated / (tensor_image.shape[0] * tensor_image.shape[1])\n",
    "    \n",
    "    return surface_area"
   ]
  },
  {
   "cell_type": "code",
   "execution_count": 35,
   "metadata": {},
   "outputs": [],
   "source": [
    "train_3s_sa = [compute_surface_area(x) for x in train_3s]\n",
    "train_7s_sa = [compute_surface_area(x) for x in train_7s]"
   ]
  },
  {
   "cell_type": "code",
   "execution_count": 36,
   "metadata": {},
   "outputs": [
    {
     "data": {
      "image/png": "[encoded data removed]",
      "text/plain": [
       "<Figure size 576x360 with 1 Axes>"
      ]
     },
     "metadata": {
      "needs_background": "light"
     },
     "output_type": "display_data"
    }
   ],
   "source": [
    "fig, ax = plt.subplots(1, 1, figsize = (8, 5))\n",
    "sns.distplot(train_3s_sa, ax = ax)\n",
    "sns.distplot(train_7s_sa, ax = ax)\n",
    "ax.legend([\"threes_distribution\", \"sevens_distribution\"], bbox_to_anchor=(1, 0.75));"
   ]
  },
  {
   "cell_type": "code",
   "execution_count": 37,
   "metadata": {},
   "outputs": [
    {
     "name": "stdout",
     "output_type": "stream",
     "text": [
      "Mean : 0.21, Std: 0.04 of distribution for 3s surface areas.\n",
      "Mean : 0.17, Std: 0.03 of distribution for 7s surface areas.\n"
     ]
    }
   ],
   "source": [
    "mean_sa_3s, std_sa_3s = np.mean(train_3s_sa), np.std(train_3s_sa)\n",
    "mean_sa_7s, std_sa_7s = np.mean(train_7s_sa), np.std(train_7s_sa)\n",
    "\n",
    "print(f\"Mean : {round(mean_sa_3s, 2)}, Std: {round(std_sa_3s, 2)} of distribution for 3s surface areas.\")\n",
    "print(f\"Mean : {round(mean_sa_7s, 2)}, Std: {round(std_sa_7s, 2)} of distribution for 7s surface areas.\")"
   ]
  },
  {
   "cell_type": "code",
   "execution_count": 38,
   "metadata": {},
   "outputs": [],
   "source": [
    "def predict_on_sa_similarity(img_path: Path):\n",
    "    sa = compute_surface_area(img_path)\n",
    "    \n",
    "    seven_bounds = (mean_sa_3s - 1 * std_sa_3s, mean_sa_3s - 1 * std_sa_3s)\n",
    "    three_bounds = (mean_sa_7s - 1 * std_sa_7s, mean_sa_7s - 1 * std_sa_7s)\n",
    "    \n",
    "    sevens = check_in_bounds(sa, seven_bounds)\n",
    "    threes = check_in_bounds(sa, three_bounds)\n",
    "    \n",
    "    if sevens == threes: \n",
    "        if abs(sa - mean_sa_3s) < abs(sa - mean_sa_7s): return \"3\"\n",
    "        else: return 7\n",
    "    elif sevens:\n",
    "        return \"7\"\n",
    "    elif threes:\n",
    "        return \"3\""
   ]
  },
  {
   "cell_type": "code",
   "execution_count": 39,
   "metadata": {},
   "outputs": [
    {
     "data": {
      "text/plain": [
       "0.3361138370951914"
      ]
     },
     "execution_count": 39,
     "metadata": {},
     "output_type": "execute_result"
    }
   ],
   "source": [
    "sa_preds = [predict_on_sa_similarity(x) for x in validation_data]\n",
    "acc(sa_preds, validation_targets)"
   ]
  }
 ],
 "metadata": {
  "kernelspec": {
   "display_name": "Python 3",
   "language": "python",
   "name": "python3"
  },
  "language_info": {
   "codemirror_mode": {
    "name": "ipython",
    "version": 3
   },
   "file_extension": ".py",
   "mimetype": "text/x-python",
   "name": "python",
   "nbconvert_exporter": "python",
   "pygments_lexer": "ipython3",
   "version": "3.8.8"
  },
  "latex_envs": {
   "LaTeX_envs_menu_present": true,
   "autoclose": false,
   "autocomplete": true,
   "bibliofile": "biblio.bib",
   "cite_by": "apalike",
   "current_citInitial": 1,
   "eqLabelWithNumbers": true,
   "eqNumInitial": 1,
   "hotkeys": {
    "equation": "Ctrl-E",
    "itemize": "Ctrl-I"
   },
   "labels_anchors": false,
   "latex_user_defs": false,
   "report_style_numbering": false,
   "user_envs_cfg": false
  }
 },
 "nbformat": 4,
 "nbformat_minor": 4
}
