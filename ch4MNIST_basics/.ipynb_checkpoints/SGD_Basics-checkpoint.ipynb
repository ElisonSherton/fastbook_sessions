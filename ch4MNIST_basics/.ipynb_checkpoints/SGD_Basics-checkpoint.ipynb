{
 "cells": [
  {
   "cell_type": "markdown",
   "metadata": {},
   "source": [
    "# Understanding Stochastic Gradient Descent"
   ]
  },
  {
   "cell_type": "code",
   "execution_count": 1,
   "metadata": {},
   "outputs": [],
   "source": [
    "import fastbook\n",
    "from fastbook import *"
   ]
  },
  {
   "cell_type": "markdown",
   "metadata": {},
   "source": [
    "Let us create a scenario. Assume we are simulating the motion of a roller coaster and we wish to study the speed of the roller-coaster as it goes through different points in the trajectory\n",
    "\n",
    "<img src=\"./roller_coaster.jpg\" width=75%>\n",
    "\n",
    "As seen in the image above, we can experience that the roller coaster speeds up when it falls from the topmost point and it's speed continuously decreases as it climbs up to the topmost point and at the topmost point it is zero. Also, we know that the variation is quadratic in nature.\n",
    "\n",
    "So, let our dependent variable be the velocity at a point of trajectory and the independent variable be the co-ordinate of the point of trajectory. We can then simulate the function as follows by adding some randomness to it."
   ]
  },
  {
   "cell_type": "code",
   "execution_count": 2,
   "metadata": {},
   "outputs": [],
   "source": [
    "# Simulate the speeds as a function of position\n",
    "positions = torch.from_numpy(np.arange(0, 100, 0.5))\n",
    "speeds = 0.009333 * (positions ** 2) - 0.933 * positions + 80\n",
    "speeds = speeds + torch.rand_like(speeds) * 5"
   ]
  },
  {
   "cell_type": "code",
   "execution_count": 3,
   "metadata": {
    "code_folding": []
   },
   "outputs": [
    {
     "data": {
      "image/png": "[encoded data removed]",
      "text/plain": [
       "<Figure size 720x576 with 1 Axes>"
      ]
     },
     "metadata": {
      "needs_background": "light"
     },
     "output_type": "display_data"
    }
   ],
   "source": [
    "# Plot the speeds to have a look\n",
    "fig, ax = plt.subplots(1, 1, figsize = (10, 8))\n",
    "ax.scatter(positions, speeds);"
   ]
  },
  {
   "cell_type": "markdown",
   "metadata": {},
   "source": [
    "Any ML algorithm has these basic steps involved in it. Now that we have an understanding of our problem, and since we know our function is inherently quadratic with some noise, let's try modelling a quadratic function to fit this function using SGD.\n",
    "\n",
    "![](ml_basic_algorithm.svg)\n"
   ]
  },
  {
   "cell_type": "markdown",
   "metadata": {},
   "source": [
    "## Weight Initialisation"
   ]
  },
  {
   "cell_type": "code",
   "execution_count": 4,
   "metadata": {},
   "outputs": [
    {
     "data": {
      "text/plain": [
       "tensor([ 0.0591,  0.4445, -1.2168], requires_grad=True)"
      ]
     },
     "execution_count": 4,
     "metadata": {},
     "output_type": "execute_result"
    }
   ],
   "source": [
    "# For us, we'll have three weights i.e. a,b,c which are co-efficients of the quadratic polynomial through which we obtained the above distribution\n",
    "torch.manual_seed(73)\n",
    "weights = torch.randn(3)\n",
    "weights.requires_grad_()"
   ]
  },
  {
   "cell_type": "markdown",
   "metadata": {},
   "source": [
    "## Prediction"
   ]
  },
  {
   "cell_type": "code",
   "execution_count": 5,
   "metadata": {},
   "outputs": [
    {
     "data": {
      "text/plain": [
       "tensor([-1.2168e+00, -9.7971e-01, -7.1310e-01, -4.1691e-01, -9.1168e-02,  2.6414e-01,  6.4902e-01,  1.0635e+00,  1.5075e+00,  1.9810e+00,  2.4842e+00,  3.0169e+00,  3.5791e+00,  4.1710e+00,\n",
       "         4.7924e+00,  5.4433e+00,  6.1239e+00,  6.8340e+00,  7.5736e+00,  8.3428e+00,  9.1416e+00,  9.9700e+00,  1.0828e+01,  1.1715e+01,  1.2632e+01,  1.3579e+01,  1.4555e+01,  1.5561e+01,\n",
       "         1.6596e+01,  1.7661e+01,  1.8756e+01,  1.9880e+01,  2.1033e+01,  2.2216e+01,  2.3429e+01,  2.4671e+01,  2.5943e+01,  2.7244e+01,  2.8575e+01,  2.9936e+01,  3.1326e+01,  3.2746e+01,\n",
       "         3.4195e+01,  3.5674e+01,  3.7182e+01,  3.8720e+01,  4.0287e+01,  4.1884e+01,  4.3511e+01,  4.5167e+01,  4.6853e+01,  4.8568e+01,  5.0313e+01,  5.2088e+01,  5.3892e+01,  5.5725e+01,\n",
       "         5.7588e+01,  5.9481e+01,  6.1403e+01,  6.3355e+01,  6.5336e+01,  6.7347e+01,  6.9388e+01,  7.1458e+01,  7.3558e+01,  7.5687e+01,  7.7846e+01,  8.0034e+01,  8.2252e+01,  8.4499e+01,\n",
       "         8.6776e+01,  8.9083e+01,  9.1419e+01,  9.3785e+01,  9.6180e+01,  9.8605e+01,  1.0106e+02,  1.0354e+02,  1.0606e+02,  1.0860e+02,  1.1117e+02,  1.1378e+02,  1.1641e+02,  1.1907e+02,\n",
       "         1.2176e+02,  1.2448e+02,  1.2723e+02,  1.3001e+02,  1.3282e+02,  1.3566e+02,  1.3853e+02,  1.4142e+02,  1.4435e+02,  1.4731e+02,  1.5030e+02,  1.5331e+02,  1.5636e+02,  1.5943e+02,\n",
       "         1.6254e+02,  1.6567e+02,  1.6884e+02,  1.7203e+02,  1.7525e+02,  1.7850e+02,  1.8179e+02,  1.8510e+02,  1.8844e+02,  1.9181e+02,  1.9521e+02,  1.9864e+02,  2.0210e+02,  2.0559e+02,\n",
       "         2.0911e+02,  2.1266e+02,  2.1624e+02,  2.1984e+02,  2.2348e+02,  2.2715e+02,  2.3084e+02,  2.3457e+02,  2.3832e+02,  2.4211e+02,  2.4592e+02,  2.4977e+02,  2.5364e+02,  2.5754e+02,\n",
       "         2.6148e+02,  2.6544e+02,  2.6943e+02,  2.7345e+02,  2.7750e+02,  2.8158e+02,  2.8569e+02,  2.8983e+02,  2.9400e+02,  2.9820e+02,  3.0243e+02,  3.0669e+02,  3.1098e+02,  3.1529e+02,\n",
       "         3.1964e+02,  3.2401e+02,  3.2842e+02,  3.3286e+02,  3.3732e+02,  3.4182e+02,  3.4634e+02,  3.5089e+02,  3.5548e+02,  3.6009e+02,  3.6473e+02,  3.6940e+02,  3.7410e+02,  3.7883e+02,\n",
       "         3.8360e+02,  3.8839e+02,  3.9321e+02,  3.9805e+02,  4.0293e+02,  4.0784e+02,  4.1278e+02,  4.1775e+02,  4.2274e+02,  4.2777e+02,  4.3283e+02,  4.3791e+02,  4.4303e+02,  4.4817e+02,\n",
       "         4.5335e+02,  4.5855e+02,  4.6378e+02,  4.6905e+02,  4.7434e+02,  4.7966e+02,  4.8501e+02,  4.9040e+02,  4.9581e+02,  5.0125e+02,  5.0672e+02,  5.1222e+02,  5.1775e+02,  5.2330e+02,\n",
       "         5.2889e+02,  5.3451e+02,  5.4016e+02,  5.4584e+02,  5.5154e+02,  5.5728e+02,  5.6304e+02,  5.6884e+02,  5.7466e+02,  5.8052e+02,  5.8640e+02,  5.9232e+02,  5.9826e+02,  6.0423e+02,\n",
       "         6.1023e+02,  6.1627e+02,  6.2233e+02,  6.2842e+02], dtype=torch.float64, grad_fn=<AddBackward0>)"
      ]
     },
     "execution_count": 5,
     "metadata": {},
     "output_type": "execute_result"
    }
   ],
   "source": [
    "def get_preds(weights): return weights[0] * (positions ** 2) + weights[1] * (positions) + weights[2]\n",
    "# Use the weights initialized above randomly to make a prediction\n",
    "preds = get_preds(weights)\n",
    "preds"
   ]
  },
  {
   "cell_type": "markdown",
   "metadata": {},
   "source": [
    "## Loss computation"
   ]
  },
  {
   "cell_type": "code",
   "execution_count": 6,
   "metadata": {},
   "outputs": [],
   "source": [
    "def rmse_loss(preds, targets): return ((preds - targets) ** 2).mean().sqrt()"
   ]
  },
  {
   "cell_type": "code",
   "execution_count": 7,
   "metadata": {},
   "outputs": [
    {
     "data": {
      "text/plain": [
       "tensor(239.0592, dtype=torch.float64, grad_fn=<SqrtBackward>)"
      ]
     },
     "execution_count": 7,
     "metadata": {},
     "output_type": "execute_result"
    }
   ],
   "source": [
    "loss = rmse_loss(preds, speeds)\n",
    "loss"
   ]
  },
  {
   "cell_type": "markdown",
   "metadata": {},
   "source": [
    "## Gradient computation"
   ]
  },
  {
   "cell_type": "code",
   "execution_count": 8,
   "metadata": {},
   "outputs": [],
   "source": [
    "loss.backward()"
   ]
  },
  {
   "cell_type": "code",
   "execution_count": 9,
   "metadata": {},
   "outputs": [
    {
     "data": {
      "text/plain": [
       "tensor([4.3820e+03, 5.3204e+01, 6.2616e-01])"
      ]
     },
     "execution_count": 9,
     "metadata": {},
     "output_type": "execute_result"
    }
   ],
   "source": [
    "weights.grad"
   ]
  },
  {
   "cell_type": "markdown",
   "metadata": {},
   "source": [
    "## Step -> Weight updation"
   ]
  },
  {
   "cell_type": "code",
   "execution_count": 10,
   "metadata": {},
   "outputs": [],
   "source": [
    "lr = 1e-5\n",
    "weights.data -= lr * weights.grad.data\n",
    "weights.grad = None"
   ]
  },
  {
   "cell_type": "markdown",
   "metadata": {},
   "source": [
    "## Bundling all the above steps together"
   ]
  },
  {
   "cell_type": "code",
   "execution_count": 11,
   "metadata": {},
   "outputs": [],
   "source": [
    "def one_epoch(weights, lr = 1e-5):\n",
    "    # Predict\n",
    "    predictions = get_preds(weights)\n",
    "    \n",
    "    # Compute loss\n",
    "    loss = rmse_loss(predictions, speeds)\n",
    "    \n",
    "    # Find out the gradients\n",
    "    loss.backward()\n",
    "    \n",
    "    # Step\n",
    "    weights.data -= lr * weights.grad.data\n",
    "    \n",
    "    # Zero out the gradients\n",
    "    weights.grad = None\n",
    "    \n",
    "    print(loss.item())\n",
    "    return predictions"
   ]
  },
  {
   "cell_type": "code",
   "execution_count": 12,
   "metadata": {},
   "outputs": [],
   "source": [
    "predictions_array = []"
   ]
  },
  {
   "cell_type": "code",
   "execution_count": 13,
   "metadata": {},
   "outputs": [
    {
     "name": "stdout",
     "output_type": "stream",
     "text": [
      "57.14589269361126\n",
      "49.78781164782532\n",
      "49.49989158201165\n",
      "49.41884864729396\n",
      "49.39476929809315\n",
      "49.387506126256596\n",
      "49.38530199220733\n",
      "49.38463541433006\n",
      "49.384430864754925\n",
      "49.3843709131132\n",
      "49.38435120455211\n",
      "49.38434582765026\n",
      "49.38434488085149\n",
      "49.384346449723296\n",
      "49.384343498744435\n"
     ]
    }
   ],
   "source": [
    "for i in range(15):\n",
    "    preds = one_epoch(weights, lr = 5e-6)\n",
    "    if i % 5 == 0:\n",
    "        predictions_array.append(preds)"
   ]
  },
  {
   "cell_type": "code",
   "execution_count": 14,
   "metadata": {},
   "outputs": [
    {
     "name": "stdout",
     "output_type": "stream",
     "text": [
      "49.38434590194755\n",
      "43.53223637094356\n",
      "40.99327426775479\n",
      "40.17067163396881\n",
      "39.94378135093623\n",
      "39.884658865207264\n",
      "39.86944643276662\n",
      "39.86549060110579\n",
      "39.86440501803521\n",
      "39.86405035204711\n",
      "39.86388174170108\n",
      "39.86376018473529\n",
      "39.863650686377035\n",
      "39.86354441079437\n",
      "39.86343884049709\n"
     ]
    }
   ],
   "source": [
    "for i in range(15):\n",
    "    preds = one_epoch(weights, lr = 1e-6)\n",
    "    if i % 5 == 0:\n",
    "        predictions_array.append(preds)"
   ]
  },
  {
   "cell_type": "code",
   "execution_count": 15,
   "metadata": {},
   "outputs": [],
   "source": [
    "def show_preds(preds, idx, ax=None):\n",
    "    if ax is None: ax=plt.subplots()[1]\n",
    "    ax.scatter(positions, speeds)\n",
    "    ax.scatter(positions, to_np(preds), color='red')\n",
    "    ax.set_title(f\"End of epoch: {5 * idx}\")"
   ]
  },
  {
   "cell_type": "code",
   "execution_count": 16,
   "metadata": {},
   "outputs": [
    {
     "data": {
      "image/png": "[encoded data removed]",
      "text/plain": [
       "<Figure size 1080x576 with 6 Axes>"
      ]
     },
     "metadata": {
      "needs_background": "light"
     },
     "output_type": "display_data"
    }
   ],
   "source": [
    "fig, ax = plt.subplots(2, 3, figsize = (15,8), sharey = True)\n",
    "ax = ax.flatten()\n",
    "\n",
    "for idx, (predictions, axis) in enumerate(zip(predictions_array, ax)):\n",
    "    show_preds(predictions, idx, axis)\n",
    "\n",
    "fig.suptitle(\"Progression of training every 5 epochs\")\n",
    "fig.tight_layout();"
   ]
  },
  {
   "cell_type": "code",
   "execution_count": 17,
   "metadata": {},
   "outputs": [
    {
     "data": {
      "image/png": "[encoded data removed]",
      "text/plain": [
       "<Figure size 432x288 with 1 Axes>"
      ]
     },
     "metadata": {
      "needs_background": "light"
     },
     "output_type": "display_data"
    }
   ],
   "source": [
    "show_preds(predictions_array[-1], 6)"
   ]
  },
  {
   "cell_type": "markdown",
   "metadata": {},
   "source": [
    "## Batching the whole process"
   ]
  },
  {
   "cell_type": "code",
   "execution_count": 18,
   "metadata": {},
   "outputs": [],
   "source": [
    "def initialize_weights():\n",
    "    # Randomly initialize weights to be 3 length tensor\n",
    "    weights = torch.randn(3)\n",
    "    weights.requires_grad_()\n",
    "    return weights\n",
    "\n",
    "def get_preds_batch(batch, weights):\n",
    "    # Predict based on the general form of quadratic eqn. i.e. ax^2 + bx + c\n",
    "    return weights[0] * (batch ** 2) + weights[1] * (batch) + weights[2]\n",
    "\n",
    "def rmse_loss(predictions, targets):\n",
    "    # Diff the targets from preds, square them all, sum them all and take a square root of them all\n",
    "    return ((predictions - targets) ** 2).mean().sqrt()\n",
    "    \n",
    "def one_epoch(weights, lr = 1e-5, bs = 64):\n",
    "    # Break the entire training data into batches\n",
    "    position_speed_mapping = [(x, y) for x, y in zip(positions, speeds)]\n",
    "    dls = DataLoader(position_speed_mapping, batch_size = bs, shuffle = False)\n",
    "    batch_num = 1\n",
    "    \n",
    "    # Accumulate all the losses in a container\n",
    "    losses = []\n",
    "    \n",
    "    # Iterate over all the batches\n",
    "    for position_batch, speed_batch in dls:\n",
    "        # Predict\n",
    "        predictions = get_preds_batch(position_batch, weights)\n",
    "        \n",
    "        # Compute loss\n",
    "        loss = rmse_loss(predictions, speed_batch)\n",
    "\n",
    "        # Compute the gradients\n",
    "        loss.backward()\n",
    "\n",
    "        # Take a step in the opposite direction as the gradient\n",
    "        weights.data -= lr * weights.grad.data\n",
    "\n",
    "        # Zero out the gradients\n",
    "        weights.grad = None\n",
    "        \n",
    "        # Print the loss at the end of each batch\n",
    "        print(f\"Batch {batch_num:<3}| {round(loss.item(), 5):<10}\")\n",
    "        losses.append(round(loss.item(), 5))\n",
    "        \n",
    "        # Increment the batch number\n",
    "        batch_num += 1\n",
    "    \n",
    "    print(f\"Epoch loss: {round(np.mean(losses), 5)}\")"
   ]
  },
  {
   "cell_type": "code",
   "execution_count": 19,
   "metadata": {
    "scrolled": true
   },
   "outputs": [
    {
     "name": "stdout",
     "output_type": "stream",
     "text": [
      "\n",
      "Epoch: 1\n",
      "Batch 1  | 105.64514 \n",
      "Batch 2  | 768.945   \n",
      "Batch 3  | 2120.42522\n",
      "Batch 4  | 4104.74592\n",
      "Batch 5  | 6622.46299\n",
      "Batch 6  | 9491.3106 \n",
      "Batch 7  | 10958.11779\n",
      "Epoch loss: 4881.66467\n",
      "\n",
      "Epoch: 2\n",
      "Batch 1  | 80.80498  \n",
      "Batch 2  | 593.54524 \n",
      "Batch 3  | 1659.35305\n",
      "Batch 4  | 3214.7916 \n",
      "Batch 5  | 5160.07509\n",
      "Batch 6  | 7312.88012\n",
      "Batch 7  | 8276.01088\n",
      "Epoch loss: 3756.78014\n",
      "\n",
      "Epoch: 3\n",
      "Batch 1  | 61.72687  \n",
      "Batch 2  | 418.45622 \n",
      "Batch 3  | 1198.80131\n",
      "Batch 4  | 2325.81919\n",
      "Batch 5  | 3699.29709\n",
      "Batch 6  | 5136.84623\n",
      "Batch 7  | 5596.85367\n",
      "Epoch loss: 2633.97151\n",
      "\n",
      "Epoch: 4\n",
      "Batch 1  | 54.77515  \n",
      "Batch 2  | 244.09769 \n",
      "Batch 3  | 739.24764 \n",
      "Batch 4  | 1438.71172\n",
      "Batch 5  | 2241.57238\n",
      "Batch 6  | 2965.35817\n",
      "Batch 7  | 2923.29111\n",
      "Epoch loss: 1515.29341\n",
      "\n",
      "Epoch: 5\n",
      "Batch 1  | 63.9642   \n",
      "Batch 2  | 73.20047  \n",
      "Batch 3  | 281.47015 \n",
      "Batch 4  | 554.71021 \n",
      "Batch 5  | 788.90904 \n",
      "Batch 6  | 801.41184 \n",
      "Batch 7  | 259.01986 \n",
      "Epoch loss: 403.24082\n",
      "\n",
      "Epoch: 6\n",
      "Batch 1  | 84.0599   \n",
      "Batch 2  | 109.7481  \n",
      "Batch 3  | 157.96412 \n",
      "Batch 4  | 187.42537 \n",
      "Batch 5  | 99.90184  \n",
      "Batch 6  | 285.97276 \n",
      "Batch 7  | 375.49026 \n",
      "Epoch loss: 185.79462\n",
      "\n",
      "Epoch: 7\n",
      "Batch 1  | 74.16547  \n",
      "Batch 2  | 39.30075  \n",
      "Batch 3  | 48.23903  \n",
      "Batch 4  | 103.40702 \n",
      "Batch 5  | 48.11343  \n",
      "Batch 6  | 297.20238 \n",
      "Batch 7  | 390.74356 \n",
      "Epoch loss: 143.02452\n",
      "\n",
      "Epoch: 8\n",
      "Batch 1  | 82.91061  \n",
      "Batch 2  | 101.41815 \n",
      "Batch 3  | 135.52472 \n",
      "Batch 4  | 144.05335 \n",
      "Batch 5  | 29.52596  \n",
      "Batch 6  | 377.14165 \n",
      "Batch 7  | 263.31641 \n",
      "Epoch loss: 161.98441\n",
      "\n",
      "Epoch: 9\n",
      "Batch 1  | 73.29631  \n",
      "Batch 2  | 34.40093  \n",
      "Batch 3  | 65.56869  \n",
      "Batch 4  | 136.76844 \n",
      "Batch 5  | 102.36106 \n",
      "Batch 6  | 220.58827 \n",
      "Batch 7  | 484.93637 \n",
      "Epoch loss: 159.70287\n",
      "\n",
      "Epoch: 10\n",
      "Batch 1  | 82.09533  \n",
      "Batch 2  | 95.49132  \n",
      "Batch 3  | 119.51835 \n",
      "Batch 4  | 113.14069 \n",
      "Batch 5  | 23.81963  \n",
      "Batch 6  | 315.3098  \n",
      "Batch 7  | 368.45477 \n",
      "Epoch loss: 159.68998\n",
      "\n",
      "Epoch: 11\n",
      "Batch 1  | 83.09559  \n",
      "Batch 2  | 102.80224 \n",
      "Batch 3  | 139.28886 \n",
      "Batch 4  | 151.35382 \n",
      "Batch 5  | 41.18617  \n",
      "Batch 6  | 367.24848 \n",
      "Batch 7  | 275.50389 \n",
      "Epoch loss: 165.78272\n",
      "\n",
      "Epoch: 12\n",
      "Batch 1  | 73.38229  \n",
      "Batch 2  | 34.87496  \n",
      "Batch 3  | 63.70872  \n",
      "Batch 4  | 133.14639 \n",
      "Batch 5  | 96.41746  \n",
      "Batch 6  | 229.32256 \n",
      "Batch 7  | 474.19341 \n",
      "Epoch loss: 157.86368\n",
      "\n",
      "Epoch: 13\n",
      "Batch 1  | 82.17959  \n",
      "Batch 2  | 96.14427  \n",
      "Batch 3  | 121.31368 \n",
      "Batch 4  | 116.63158 \n",
      "Batch 5  | 18.54604  \n",
      "Batch 6  | 306.55391 \n",
      "Batch 7  | 379.21566 \n",
      "Epoch loss: 160.08353\n",
      "\n",
      "Epoch: 14\n",
      "Batch 1  | 82.99424  \n",
      "Batch 2  | 102.10326 \n",
      "Batch 3  | 137.43159 \n",
      "Batch 4  | 147.78845 \n",
      "Batch 5  | 35.49393  \n",
      "Batch 6  | 373.01499 \n",
      "Batch 7  | 268.41903 \n",
      "Epoch loss: 163.89221\n",
      "\n",
      "Epoch: 15\n",
      "Batch 1  | 73.32039  \n",
      "Batch 2  | 34.57275  \n",
      "Batch 3  | 64.82382  \n",
      "Batch 4  | 135.28076 \n",
      "Batch 5  | 99.88279  \n",
      "Batch 6  | 224.2696  \n",
      "Batch 7  | 480.39057 \n",
      "Epoch loss: 158.93438\n",
      "\n",
      "Epoch: 16\n",
      "Batch 1  | 82.11828  \n",
      "Batch 2  | 95.7351   \n",
      "Batch 3  | 120.23572 \n",
      "Batch 4  | 114.57486 \n",
      "Batch 5  | 21.58792  \n",
      "Batch 6  | 313.27087 \n",
      "Batch 7  | 370.94005 \n",
      "Epoch loss: 159.7804\n",
      "\n",
      "Epoch: 17\n",
      "Batch 1  | 83.05786  \n",
      "Batch 2  | 103.05508 \n",
      "Batch 3  | 148.89412 \n",
      "Batch 4  | 216.51302 \n",
      "Batch 5  | 296.13031 \n",
      "Batch 6  | 369.72967 \n",
      "Batch 7  | 366.43242 \n",
      "Epoch loss: 226.25893\n",
      "\n",
      "Epoch: 18\n",
      "Batch 1  | 80.76194  \n",
      "Batch 2  | 86.27722  \n",
      "Batch 3  | 103.27738 \n",
      "Batch 4  | 127.9173  \n",
      "Batch 5  | 150.36181 \n",
      "Batch 6  | 152.55764 \n",
      "Batch 7  | 99.00799  \n",
      "Epoch loss: 114.30875\n",
      "\n",
      "Epoch: 19\n",
      "Batch 1  | 78.5237   \n",
      "Batch 2  | 69.89514  \n",
      "Batch 3  | 58.39298  \n",
      "Batch 4  | 40.51684  \n",
      "Batch 5  | 9.81304   \n",
      "Batch 6  | 45.2439   \n",
      "Batch 7  | 4.14863   \n",
      "Epoch loss: 43.7906\n",
      "\n",
      "Epoch: 20\n",
      "Batch 1  | 77.80274  \n",
      "Batch 2  | 64.65576  \n",
      "Batch 3  | 44.16912  \n",
      "Batch 4  | 15.16429  \n",
      "Batch 5  | 38.13227  \n",
      "Batch 6  | 47.28863  \n",
      "Batch 7  | 2.12578   \n",
      "Epoch loss: 41.33408\n",
      "\n",
      "Epoch: 21\n",
      "Batch 1  | 77.99963  \n",
      "Batch 2  | 66.08507  \n",
      "Batch 3  | 48.02303  \n",
      "Batch 4  | 21.2346   \n",
      "Batch 5  | 28.49127  \n",
      "Batch 6  | 33.44473  \n",
      "Batch 7  | 17.9123   \n",
      "Epoch loss: 41.88438\n",
      "\n",
      "Epoch: 22\n",
      "Batch 1  | 77.858    \n",
      "Batch 2  | 65.05901  \n",
      "Batch 3  | 45.25513  \n",
      "Batch 4  | 16.72725  \n",
      "Batch 5  | 35.7075   \n",
      "Batch 6  | 43.75924  \n",
      "Batch 7  | 5.83483   \n",
      "Epoch loss: 41.45728\n",
      "\n",
      "Epoch: 23\n",
      "Batch 1  | 77.78505  \n",
      "Batch 2  | 64.53178  \n",
      "Batch 3  | 43.83962  \n",
      "Batch 4  | 14.72563  \n",
      "Batch 5  | 38.79128  \n",
      "Batch 6  | 48.24824  \n",
      "Batch 7  | 1.66548   \n",
      "Epoch loss: 41.36958\n",
      "\n",
      "Epoch: 24\n",
      "Batch 1  | 78.38315  \n",
      "Batch 2  | 68.87874  \n",
      "Batch 3  | 55.62232  \n",
      "Batch 4  | 35.21555  \n",
      "Batch 5  | 9.04412   \n",
      "Batch 6  | 21.12352  \n",
      "Batch 7  | 31.11048  \n",
      "Epoch loss: 42.76827\n",
      "\n",
      "Epoch: 25\n",
      "Batch 1  | 77.96333  \n",
      "Batch 2  | 65.82769  \n",
      "Batch 3  | 47.3318   \n",
      "Batch 4  | 20.05994  \n",
      "Batch 5  | 30.37812  \n",
      "Batch 6  | 36.10154  \n",
      "Batch 7  | 14.82204  \n",
      "Epoch loss: 41.78349\n",
      "\n",
      "Epoch: 26\n",
      "Batch 1  | 77.83273  \n",
      "Batch 2  | 64.88193  \n",
      "Batch 3  | 44.78348  \n",
      "Batch 4  | 16.03257  \n",
      "Batch 5  | 36.79005  \n",
      "Batch 6  | 45.32792  \n",
      "Batch 7  | 4.05885   \n",
      "Epoch loss: 41.38679\n",
      "\n",
      "Epoch: 27\n",
      "Batch 1  | 77.80264  \n",
      "Batch 2  | 64.66527  \n",
      "Batch 3  | 44.20246  \n",
      "Batch 4  | 15.2139   \n",
      "Batch 5  | 38.04934  \n",
      "Batch 6  | 47.16146  \n",
      "Batch 7  | 2.22755   \n",
      "Epoch loss: 41.3318\n",
      "\n",
      "Epoch: 28\n",
      "Batch 1  | 77.96722  \n",
      "Batch 2  | 65.86008  \n",
      "Batch 3  | 47.42253  \n",
      "Batch 4  | 20.21523  \n",
      "Batch 5  | 30.12512  \n",
      "Batch 6  | 35.74035  \n",
      "Batch 7  | 15.24587  \n",
      "Epoch loss: 41.79663\n",
      "\n",
      "Epoch: 29\n",
      "Batch 1  | 77.83508  \n",
      "Batch 2  | 64.90308  \n",
      "Batch 3  | 44.84352  \n",
      "Batch 4  | 16.12165  \n",
      "Batch 5  | 36.64844  \n",
      "Batch 6  | 45.11949  \n",
      "Batch 7  | 4.29098   \n",
      "Epoch loss: 41.39461\n",
      "\n",
      "Epoch: 30\n",
      "Batch 1  | 77.79667  \n",
      "Batch 2  | 64.62615  \n",
      "Batch 3  | 44.10059  \n",
      "Batch 4  | 15.07696  \n",
      "Batch 5  | 38.25438  \n",
      "Batch 6  | 47.45814  \n",
      "Batch 7  | 2.00598   \n",
      "Epoch loss: 41.33127\n"
     ]
    }
   ],
   "source": [
    "# Randomly initialize the weights\n",
    "wts = initialize_weights()\n",
    "\n",
    "# Run for one epoch and check the loss\n",
    "for epoch in range(30):\n",
    "    \n",
    "    if epoch > 15: lr = 1e-6\n",
    "    else: lr = 1e-5\n",
    "    \n",
    "    print(f\"\\nEpoch: {epoch + 1}\")\n",
    "    one_epoch(wts, lr = lr, bs = 32)"
   ]
  }
 ],
 "metadata": {
  "kernelspec": {
   "display_name": "Python 3",
   "language": "python",
   "name": "python3"
  },
  "language_info": {
   "codemirror_mode": {
    "name": "ipython",
    "version": 3
   },
   "file_extension": ".py",
   "mimetype": "text/x-python",
   "name": "python",
   "nbconvert_exporter": "python",
   "pygments_lexer": "ipython3",
   "version": "3.8.8"
  },
  "latex_envs": {
   "LaTeX_envs_menu_present": true,
   "autoclose": false,
   "autocomplete": true,
   "bibliofile": "biblio.bib",
   "cite_by": "apalike",
   "current_citInitial": 1,
   "eqLabelWithNumbers": true,
   "eqNumInitial": 1,
   "hotkeys": {
    "equation": "Ctrl-E",
    "itemize": "Ctrl-I"
   },
   "labels_anchors": false,
   "latex_user_defs": false,
   "report_style_numbering": false,
   "user_envs_cfg": false
  },
  "toc": {
   "base_numbering": 1,
   "nav_menu": {},
   "number_sections": true,
   "sideBar": true,
   "skip_h1_title": false,
   "title_cell": "Table of Contents",
   "title_sidebar": "Contents",
   "toc_cell": false,
   "toc_position": {},
   "toc_section_display": true,
   "toc_window_display": true
  }
 },
 "nbformat": 4,
 "nbformat_minor": 4
}
