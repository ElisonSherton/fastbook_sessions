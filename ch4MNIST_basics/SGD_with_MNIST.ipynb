{
 "cells": [
  {
   "cell_type": "markdown",
   "metadata": {},
   "source": [
    "# SGD with MNIST Sample dataset"
   ]
  },
  {
   "cell_type": "code",
   "execution_count": 1,
   "metadata": {},
   "outputs": [],
   "source": [
    "import fastbook\n",
    "from fastbook import *"
   ]
  },
  {
   "cell_type": "code",
   "execution_count": 2,
   "metadata": {},
   "outputs": [],
   "source": [
    "# Get the dataset of 3s & 7s\n",
    "path = untar_data(URLs.MNIST_SAMPLE)"
   ]
  },
  {
   "cell_type": "code",
   "execution_count": 3,
   "metadata": {},
   "outputs": [],
   "source": [
    "train_images = get_image_files(path/\"train\")\n",
    "valid_images = get_image_files(path/\"valid\")"
   ]
  },
  {
   "cell_type": "code",
   "execution_count": 4,
   "metadata": {},
   "outputs": [],
   "source": [
    "def image_read(x): return tensor(Image.open(x))/255."
   ]
  },
  {
   "cell_type": "code",
   "execution_count": 5,
   "metadata": {},
   "outputs": [],
   "source": [
    "train_tensors = torch.stack([image_read(x) for x in train_images])\n",
    "valid_tensors = torch.stack([image_read(x) for x in valid_images])"
   ]
  },
  {
   "cell_type": "code",
   "execution_count": 6,
   "metadata": {},
   "outputs": [],
   "source": [
    "train_tensors = train_tensors.view(-1, 28 * 28)\n",
    "valid_tensors = valid_tensors.view(-1, 28 * 28)"
   ]
  },
  {
   "cell_type": "code",
   "execution_count": 19,
   "metadata": {},
   "outputs": [],
   "source": [
    "train_targets = torch.tensor([[1] if parent_label(x) == '3' else [0] for x in train_images])\n",
    "valid_targets = torch.tensor([[1] if parent_label(x) == '3' else [0] for x in valid_images])"
   ]
  },
  {
   "cell_type": "code",
   "execution_count": 25,
   "metadata": {},
   "outputs": [
    {
     "data": {
      "text/plain": [
       "(torch.Size([784]), torch.Size([1]))"
      ]
     },
     "execution_count": 25,
     "metadata": {},
     "output_type": "execute_result"
    }
   ],
   "source": [
    "# Create a dataset i.e. (x, y) tuples for train set\n",
    "train_dset = list(zip(train_tensors, train_targets))\n",
    "x, y = train_dset[0]\n",
    "x.shape, y.shape"
   ]
  },
  {
   "cell_type": "code",
   "execution_count": 26,
   "metadata": {},
   "outputs": [
    {
     "data": {
      "text/plain": [
       "(torch.Size([64, 784]), torch.Size([64, 1]))"
      ]
     },
     "execution_count": 26,
     "metadata": {},
     "output_type": "execute_result"
    }
   ],
   "source": [
    "# Create a dataloader for train set\n",
    "train_dl = DataLoader(train_dset, batch_size = 64)\n",
    "x, y = next(iter(train_dl))\n",
    "x.shape, y.shape"
   ]
  },
  {
   "cell_type": "code",
   "execution_count": 27,
   "metadata": {},
   "outputs": [],
   "source": [
    "# Create dataset & dataloader for validation set\n",
    "valid_dset = list(zip(valid_tensors, valid_targets))\n",
    "valid_dl = DataLoader(valid_dset, batch_size = 64)"
   ]
  },
  {
   "cell_type": "code",
   "execution_count": 163,
   "metadata": {},
   "outputs": [],
   "source": [
    "def initialize_wandb(random_ = True):\n",
    "    if random_:\n",
    "        weights = torch.randn((28 * 28, 1)).requires_grad_()\n",
    "    else:\n",
    "        weights = train_tensors.mean(axis = 0).unsqueeze(1).requires_grad_()\n",
    "    biases = torch.randn(1).requires_grad_()\n",
    "    return(weights, biases)\n",
    "\n",
    "def sigmoid(x):\n",
    "    return 1. / (1. + torch.exp(x))\n",
    "\n",
    "def forward(batch, w, b):\n",
    "    return sigmoid(batch@w + b)\n",
    "\n",
    "def rmse_loss(preds, targets):\n",
    "    return ((preds - targets) ** 2).sum().mean()"
   ]
  },
  {
   "cell_type": "code",
   "execution_count": 164,
   "metadata": {
    "code_folding": [
     11
    ]
   },
   "outputs": [],
   "source": [
    "def train_and_validate(weights, biases, nepochs = 20, bs = 64, lr = 1e-3, shuffle = False):\n",
    "    # Create a dataloader for train and validation sets with given batch_size\n",
    "    train_dl = DataLoader(train_dset, batch_size = bs, shuffle = shuffle)\n",
    "    valid_dl = DataLoader(valid_dset, batch_size = bs, shuffle = shuffle)\n",
    "    \n",
    "    train_losses = []\n",
    "    validation_losses = []\n",
    "\n",
    "    # Define the training loop\n",
    "    for epoch in progress_bar(range(nepochs), comment = f\"Training for {nepochs} epochs with batch size of {bs}\"):\n",
    "        losses = []\n",
    "        for xb, yb in train_dl:\n",
    "            # Forward pass\n",
    "            predictions = forward(xb, weights, biases)\n",
    "            \n",
    "            # loss computation\n",
    "            loss = rmse_loss(predictions, yb)\n",
    "            \n",
    "            # Gradient computation\n",
    "            loss.backward()\n",
    "            \n",
    "            # Weight updation\n",
    "            weights.data -= lr * weights.grad.data\n",
    "            biases.data -= lr * biases.grad.data\n",
    "            \n",
    "            # Stop accumulation of gradients\n",
    "            weights.grad = None\n",
    "            biases.grad = None\n",
    "            \n",
    "            # Record the losses\n",
    "            losses.append(loss.item())\n",
    "            \n",
    "        # Record all the train losses for this epoch \n",
    "        train_losses.append(losses)\n",
    "      \n",
    "        # Check the validation set loss\n",
    "        losses = []\n",
    "        with torch.no_grad():\n",
    "            for xb, yb in valid_dl:\n",
    "                # Forward pass\n",
    "                predictions = forward(xb, weights, biases)\n",
    "                \n",
    "                # Loss computation\n",
    "                loss = rmse_loss(predictions, yb)\n",
    "                \n",
    "                # Append the loss\n",
    "                losses.append(loss.item())\n",
    "        \n",
    "        # Record all the validation losses for this epoch\n",
    "        validation_losses.append(losses)\n",
    "    \n",
    "    return (train_losses, validation_losses)"
   ]
  },
  {
   "cell_type": "markdown",
   "metadata": {},
   "source": [
    "# SGD v/s MBSGD v/s GD"
   ]
  },
  {
   "cell_type": "code",
   "execution_count": 120,
   "metadata": {},
   "outputs": [
    {
     "data": {
      "text/html": [
       "\n",
       "    <div>\n",
       "        <style>\n",
       "            /* Turns off some styling */\n",
       "            progress {\n",
       "                /* gets rid of default border in Firefox and Opera. */\n",
       "                border: none;\n",
       "                /* Needs to be in here for Safari polyfill so background images work as expected. */\n",
       "                background-size: auto;\n",
       "            }\n",
       "            .progress-bar-interrupted, .progress-bar-interrupted::-webkit-progress-bar {\n",
       "                background: #F44336;\n",
       "            }\n",
       "        </style>\n",
       "      <progress value='20' class='' max='20' style='width:300px; height:20px; vertical-align: middle;'></progress>\n",
       "      100.00% [20/20 01:48<00:00 Training for 20 epochs with batch size of 1]\n",
       "    </div>\n",
       "    "
      ],
      "text/plain": [
       "<IPython.core.display.HTML object>"
      ]
     },
     "metadata": {},
     "output_type": "display_data"
    }
   ],
   "source": [
    "# Stochastic Gradient Descent\n",
    "wSGD, bSGD = initialize_wandb()\n",
    "tlsSGD, vlsSGD= train_and_validate(wSGD, bSGD, bs = 1)"
   ]
  },
  {
   "cell_type": "code",
   "execution_count": 121,
   "metadata": {},
   "outputs": [
    {
     "data": {
      "text/html": [
       "\n",
       "    <div>\n",
       "        <style>\n",
       "            /* Turns off some styling */\n",
       "            progress {\n",
       "                /* gets rid of default border in Firefox and Opera. */\n",
       "                border: none;\n",
       "                /* Needs to be in here for Safari polyfill so background images work as expected. */\n",
       "                background-size: auto;\n",
       "            }\n",
       "            .progress-bar-interrupted, .progress-bar-interrupted::-webkit-progress-bar {\n",
       "                background: #F44336;\n",
       "            }\n",
       "        </style>\n",
       "      <progress value='20' class='' max='20' style='width:300px; height:20px; vertical-align: middle;'></progress>\n",
       "      100.00% [20/20 00:02<00:00 Training for 20 epochs with batch size of 64]\n",
       "    </div>\n",
       "    "
      ],
      "text/plain": [
       "<IPython.core.display.HTML object>"
      ]
     },
     "metadata": {},
     "output_type": "display_data"
    }
   ],
   "source": [
    "# Minibatch Gradient Descent\n",
    "wMBSGD, bMBSGD = initialize_wandb()\n",
    "tlsMBSGD, vlsMBSGD= train_and_validate(wMBSGD, bMBSGD, bs = 64)"
   ]
  },
  {
   "cell_type": "code",
   "execution_count": 122,
   "metadata": {},
   "outputs": [
    {
     "data": {
      "text/html": [
       "\n",
       "    <div>\n",
       "        <style>\n",
       "            /* Turns off some styling */\n",
       "            progress {\n",
       "                /* gets rid of default border in Firefox and Opera. */\n",
       "                border: none;\n",
       "                /* Needs to be in here for Safari polyfill so background images work as expected. */\n",
       "                background-size: auto;\n",
       "            }\n",
       "            .progress-bar-interrupted, .progress-bar-interrupted::-webkit-progress-bar {\n",
       "                background: #F44336;\n",
       "            }\n",
       "        </style>\n",
       "      <progress value='20' class='' max='20' style='width:300px; height:20px; vertical-align: middle;'></progress>\n",
       "      100.00% [20/20 00:01<00:00 Training for 20 epochs with batch size of 12396]\n",
       "    </div>\n",
       "    "
      ],
      "text/plain": [
       "<IPython.core.display.HTML object>"
      ]
     },
     "metadata": {},
     "output_type": "display_data"
    }
   ],
   "source": [
    "# Gradient Descent\n",
    "wGD, bGD = initialize_wandb()\n",
    "tlsGD, vlsGD= train_and_validate(wGD, bGD, bs = len(train_dset))"
   ]
  },
  {
   "cell_type": "code",
   "execution_count": 111,
   "metadata": {},
   "outputs": [],
   "source": [
    "def summarize_learning(tls, vls, step = 5):\n",
    "    batches = len(tls) // step\n",
    "    \n",
    "    # TODO: figure out the layout of plots (i.e. nrows x ncols)\n",
    "    fig, ax = plt.subplots(2, 2, figsize = (15, 8), sharey = True)\n",
    "    ax = ax.flatten()\n",
    "    \n",
    "    step_tls = [tls[x * step] for x in range(batches)]\n",
    "    step_vls = [vls[x * step] for x in range(batches)]\n",
    "    \n",
    "    loss_comparisons = list(zip(step_tls, step_vls))\n",
    "    \n",
    "    for idx, (loss, axis) in enumerate(zip(loss_comparisons, ax)):\n",
    "        t, v = loss\n",
    "        axis.plot(range(len(t)), t)\n",
    "        axis.plot(range(len(v)), v)\n",
    "        axis.set_title(f\"Batch losses for epoch {idx * step}\")\n",
    "    \n",
    "    fig.suptitle(\"Summarizing the training for MNIST sample dataset\")\n",
    "    fig.tight_layout()"
   ]
  },
  {
   "cell_type": "code",
   "execution_count": 113,
   "metadata": {},
   "outputs": [],
   "source": [
    "# summarize_learning(tlsSGD, vlsSGD)"
   ]
  },
  {
   "cell_type": "code",
   "execution_count": 114,
   "metadata": {},
   "outputs": [],
   "source": [
    "# summarize_learning(tlsSh, vlsSh)"
   ]
  },
  {
   "cell_type": "code",
   "execution_count": 118,
   "metadata": {},
   "outputs": [],
   "source": [
    "f = lambda x: [np.mean(y) for y in x]\n",
    "\n",
    "comparison_df = pd.DataFrame({\"epoch\": list(range(len(tlsSGD))),\n",
    "                              \"SGD_train_loss\": f(tlsSGD),\n",
    "                              \"MinibatchSGD_train_loss\": f(tlsMBSGD),\n",
    "                              \"GD_train_loss\": f(tlsGD),\n",
    "                              \"SGD_valid_loss\": f(vlsSGD),\n",
    "                              \"MinibatchSGD_valid_loss\": f(vlsMBSGD),\n",
    "                              \"GD_valid_loss\": f(vlsGD),\n",
    "                             })\n",
    "\n",
    "comparison_df"
   ]
  },
  {
   "cell_type": "code",
   "execution_count": 119,
   "metadata": {},
   "outputs": [],
   "source": [
    "f = lambda x, bs: [np.mean(y)/ bs for y in x]\n",
    "\n",
    "comparison_df = pd.DataFrame({\"epoch\": list(range(len(tlsSGD))),\n",
    "                              \"SGD_train_loss\": f(tlsSGD, 1),\n",
    "                              \"MinibatchSGD_train_loss\": f(tlsMBSGD, 64),\n",
    "                              \"GD_train_loss\": f(tlsGD, len(train_dset)),\n",
    "                              \"SGD_valid_loss\": f(vlsSGD, 1),\n",
    "                              \"MinibatchSGD_valid_loss\": f(vlsMBSGD, 64),\n",
    "                              \"GD_valid_loss\": f(vlsGD, len(valid_dset)),\n",
    "                             })\n",
    "\n",
    "# comparison_df"
   ]
  },
  {
   "cell_type": "code",
   "execution_count": 135,
   "metadata": {},
   "outputs": [],
   "source": [
    "def get_valid_accuracy(weights, biases):\n",
    "    valid_dl = DataLoader(valid_dset, batch_size = len(valid_dset), shuffle = False)\n",
    "    with torch.no_grad():\n",
    "        xb, yb = next(iter(valid_dset))\n",
    "\n",
    "        # Forward pass\n",
    "        predictions = forward(xb, weights, biases)\n",
    "\n",
    "        # Compute the labels\n",
    "        predictions_10 = torch.where(predictions > 0.5, 1, 0)\n",
    "        \n",
    "        # Compute accuracy\n",
    "        acc = torch.where(predictions_10 == yb, 1.0, 0.).mean()\n",
    "        \n",
    "        # Compute error\n",
    "        error = torch.where(predictions_10 != yb, 1.0, 0.).mean()\n",
    "            \n",
    "    return acc, error"
   ]
  },
  {
   "cell_type": "code",
   "execution_count": 136,
   "metadata": {},
   "outputs": [
    {
     "data": {
      "text/plain": [
       "(tensor(1.), tensor(0.))"
      ]
     },
     "execution_count": 136,
     "metadata": {},
     "output_type": "execute_result"
    }
   ],
   "source": [
    "get_valid_accuracy(wSGD, bSGD)"
   ]
  },
  {
   "cell_type": "code",
   "execution_count": 137,
   "metadata": {},
   "outputs": [
    {
     "data": {
      "text/plain": [
       "(tensor(1.), tensor(0.))"
      ]
     },
     "execution_count": 137,
     "metadata": {},
     "output_type": "execute_result"
    }
   ],
   "source": [
    "get_valid_accuracy(wMBSGD, bMBSGD)"
   ]
  },
  {
   "cell_type": "code",
   "execution_count": 138,
   "metadata": {},
   "outputs": [
    {
     "data": {
      "text/plain": [
       "(tensor(1.), tensor(0.))"
      ]
     },
     "execution_count": 138,
     "metadata": {},
     "output_type": "execute_result"
    }
   ],
   "source": [
    "get_valid_accuracy(wGD, bGD)"
   ]
  },
  {
   "cell_type": "markdown",
   "metadata": {},
   "source": [
    "# Random Initialization v/s Mean value initialization of weights"
   ]
  },
  {
   "cell_type": "code",
   "execution_count": 177,
   "metadata": {},
   "outputs": [
    {
     "data": {
      "text/html": [
       "\n",
       "    <div>\n",
       "        <style>\n",
       "            /* Turns off some styling */\n",
       "            progress {\n",
       "                /* gets rid of default border in Firefox and Opera. */\n",
       "                border: none;\n",
       "                /* Needs to be in here for Safari polyfill so background images work as expected. */\n",
       "                background-size: auto;\n",
       "            }\n",
       "            .progress-bar-interrupted, .progress-bar-interrupted::-webkit-progress-bar {\n",
       "                background: #F44336;\n",
       "            }\n",
       "        </style>\n",
       "      <progress value='20' class='' max='20' style='width:300px; height:20px; vertical-align: middle;'></progress>\n",
       "      100.00% [20/20 00:02<00:00 Training for 20 epochs with batch size of 64]\n",
       "    </div>\n",
       "    "
      ],
      "text/plain": [
       "<IPython.core.display.HTML object>"
      ]
     },
     "metadata": {},
     "output_type": "display_data"
    }
   ],
   "source": [
    "# Stochastic Gradient Descent\n",
    "wm, bm = initialize_wandb(random_= False)\n",
    "tlsm, vlsm= train_and_validate(wm, bm, bs = 64, shuffle = False)"
   ]
  },
  {
   "cell_type": "code",
   "execution_count": 178,
   "metadata": {},
   "outputs": [
    {
     "data": {
      "image/png": "[encoded data removed]",
      "text/plain": [
       "<Figure size 1080x576 with 4 Axes>"
      ]
     },
     "metadata": {
      "needs_background": "light"
     },
     "output_type": "display_data"
    }
   ],
   "source": [
    "## TODO: Investigate later\n",
    "summarize_learning(tlsm, vlsm)"
   ]
  },
  {
   "cell_type": "code",
   "execution_count": 179,
   "metadata": {},
   "outputs": [
    {
     "data": {
      "text/plain": [
       "(tensor(0.), tensor(1.))"
      ]
     },
     "execution_count": 179,
     "metadata": {},
     "output_type": "execute_result"
    }
   ],
   "source": [
    "get_valid_accuracy(wm, bm)"
   ]
  }
 ],
 "metadata": {
  "kernelspec": {
   "display_name": "Python 3",
   "language": "python",
   "name": "python3"
  },
  "language_info": {
   "codemirror_mode": {
    "name": "ipython",
    "version": 3
   },
   "file_extension": ".py",
   "mimetype": "text/x-python",
   "name": "python",
   "nbconvert_exporter": "python",
   "pygments_lexer": "ipython3",
   "version": "3.8.8"
  },
  "latex_envs": {
   "LaTeX_envs_menu_present": true,
   "autoclose": false,
   "autocomplete": true,
   "bibliofile": "biblio.bib",
   "cite_by": "apalike",
   "current_citInitial": 1,
   "eqLabelWithNumbers": true,
   "eqNumInitial": 1,
   "hotkeys": {
    "equation": "Ctrl-E",
    "itemize": "Ctrl-I"
   },
   "labels_anchors": false,
   "latex_user_defs": false,
   "report_style_numbering": false,
   "user_envs_cfg": false
  },
  "toc": {
   "base_numbering": 1,
   "nav_menu": {},
   "number_sections": true,
   "sideBar": true,
   "skip_h1_title": false,
   "title_cell": "Table of Contents",
   "title_sidebar": "Contents",
   "toc_cell": false,
   "toc_position": {
    "height": "calc(100% - 180px)",
    "left": "10px",
    "top": "150px",
    "width": "233.182px"
   },
   "toc_section_display": true,
   "toc_window_display": true
  }
 },
 "nbformat": 4,
 "nbformat_minor": 4
}
