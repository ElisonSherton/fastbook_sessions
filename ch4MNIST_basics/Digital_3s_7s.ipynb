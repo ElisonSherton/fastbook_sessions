{
 "cells": [
  {
   "cell_type": "code",
   "execution_count": 1,
   "metadata": {},
   "outputs": [],
   "source": [
    "from fastai import *\n",
    "from fastai.vision.all import *\n",
    "import seaborn as sns\n",
    "\n",
    "matplotlib.rc('image', cmap='Greys')\n",
    "\n",
    "import warnings\n",
    "warnings.filterwarnings('ignore')"
   ]
  },
  {
   "cell_type": "code",
   "execution_count": 2,
   "metadata": {},
   "outputs": [],
   "source": [
    "three = Path(\"./3.png\")\n",
    "seven = Path(\"./7.png\")"
   ]
  },
  {
   "cell_type": "code",
   "execution_count": 35,
   "metadata": {},
   "outputs": [],
   "source": [
    "# Define a function to open an image and convert it to a tensor\n",
    "# After resizing it to the same size as MNIST datapoints\n",
    "IMSIZE = (28, 28)\n",
    "def tensorify_image(x: Path): return tensor(Image.open(x).resize(IMSIZE))\n",
    "\n",
    "def visualize(img_pth: Path, binarize: bool = False):\n",
    "    # Read the image as a tensor\n",
    "    img = tensorify_image(img_pth)\n",
    "    \n",
    "    # If binarize, we shall convert the image to a binary image\n",
    "    if binarize: img = torch.where(img > 0, 255, 0)\n",
    "    \n",
    "    # Slice the image into top, bottom and bottom flipped\n",
    "    top = img[:14, :]\n",
    "    bottom = img[14:, :]\n",
    "    flip_bottom = torch.flip(bottom, [0])\n",
    "    \n",
    "    # Create a grid of three axes to show the top half, bottom half and the flipped bottom overlaid on the top half\n",
    "    fig, ax = plt.subplots(1, 4, figsize = (20, 10))\n",
    "    \n",
    "    # Create a function to format an axis object in matplotlib to show only relevant stuff and remove other info\n",
    "    def format_axis(ax:object, title:str):\n",
    "        ax.set_xticks([])\n",
    "        ax.set_yticks([])\n",
    "        ax.set_title(title)\n",
    "        \n",
    "    # Show top, bottom and flipped bottom\n",
    "    ax[0].imshow(Image.fromarray(top.numpy().astype(np.uint8)), alpha = 0.7)\n",
    "    ax[1].imshow(Image.fromarray(bottom.numpy().astype(np.uint8)), alpha = 0.7)\n",
    "    ax[2].imshow(Image.fromarray(flip_bottom.numpy().astype(np.uint8)), alpha = 0.7)\n",
    "    \n",
    "    # Show the overlay of top and flipped bottom on top\n",
    "    ax[3].imshow(Image.fromarray(top.numpy().astype(np.uint8)), alpha = 0.7)\n",
    "    ax[3].imshow(Image.fromarray(flip_bottom.numpy().astype(np.uint8)), alpha = 0.7)\n",
    "    \n",
    "    # Format the axes to make the objects presentable\n",
    "    for axis, type_ in zip(ax, [\"top\", \"bottom\", \"flipped bottom\", \"flipped bottom on top\"]): format_axis(axis, type_)"
   ]
  },
  {
   "cell_type": "code",
   "execution_count": 36,
   "metadata": {},
   "outputs": [
    {
     "data": {
      "image/png": "[encoded data removed]",
      "text/plain": [
       "<Figure size 1440x720 with 4 Axes>"
      ]
     },
     "metadata": {},
     "output_type": "display_data"
    }
   ],
   "source": [
    "visualize(seven)"
   ]
  },
  {
   "cell_type": "code",
   "execution_count": 38,
   "metadata": {},
   "outputs": [
    {
     "data": {
      "image/png": "[encoded data removed]",
      "text/plain": [
       "<Figure size 1440x720 with 4 Axes>"
      ]
     },
     "metadata": {},
     "output_type": "display_data"
    }
   ],
   "source": [
    "visualize(three)"
   ]
  },
  {
   "cell_type": "code",
   "execution_count": 39,
   "metadata": {},
   "outputs": [
    {
     "data": {
      "image/png": "[encoded data removed]",
      "text/plain": [
       "<Figure size 1440x720 with 4 Axes>"
      ]
     },
     "metadata": {},
     "output_type": "display_data"
    }
   ],
   "source": [
    "visualize(seven, True)"
   ]
  },
  {
   "cell_type": "code",
   "execution_count": 40,
   "metadata": {},
   "outputs": [
    {
     "data": {
      "image/png": "[encoded data removed]",
      "text/plain": [
       "<Figure size 1440x720 with 4 Axes>"
      ]
     },
     "metadata": {},
     "output_type": "display_data"
    }
   ],
   "source": [
    "visualize(three, True)"
   ]
  }
 ],
 "metadata": {
  "kernelspec": {
   "display_name": "Python 3",
   "language": "python",
   "name": "python3"
  },
  "language_info": {
   "codemirror_mode": {
    "name": "ipython",
    "version": 3
   },
   "file_extension": ".py",
   "mimetype": "text/x-python",
   "name": "python",
   "nbconvert_exporter": "python",
   "pygments_lexer": "ipython3",
   "version": "3.8.8"
  },
  "latex_envs": {
   "LaTeX_envs_menu_present": true,
   "autoclose": false,
   "autocomplete": true,
   "bibliofile": "biblio.bib",
   "cite_by": "apalike",
   "current_citInitial": 1,
   "eqLabelWithNumbers": true,
   "eqNumInitial": 1,
   "hotkeys": {
    "equation": "Ctrl-E",
    "itemize": "Ctrl-I"
   },
   "labels_anchors": false,
   "latex_user_defs": false,
   "report_style_numbering": false,
   "user_envs_cfg": false
  }
 },
 "nbformat": 4,
 "nbformat_minor": 4
}
